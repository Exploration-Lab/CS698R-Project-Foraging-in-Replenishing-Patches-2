{
 "cells": [
  {
   "cell_type": "markdown",
   "id": "699ff9b9",
   "metadata": {},
   "source": [
    "# Introduction\n",
    "\n",
    "The following notebook is for training double Q-learning with epsilon decay action select strategy agent on the task environment."
   ]
  },
  {
   "cell_type": "code",
   "execution_count": 1,
   "id": "bb96ff7f",
   "metadata": {},
   "outputs": [],
   "source": [
    "#Library imports\n",
    "\n",
    "import gym\n",
    "from gym import error, spaces, utils\n",
    "import numpy as np\n",
    "import math\n",
    "import pandas as pd\n",
    "from matplotlib import pyplot as plt\n",
    "import matplotlib\n",
    "from collections import namedtuple, deque\n",
    "from tqdm import tqdm, trange"
   ]
  },
  {
   "cell_type": "code",
   "execution_count": 2,
   "id": "1ecb9d4d",
   "metadata": {},
   "outputs": [],
   "source": [
    "#Import environment class\n",
    "from blocks import EnvClass"
   ]
  },
  {
   "cell_type": "code",
   "execution_count": 3,
   "id": "e081d8ad",
   "metadata": {},
   "outputs": [],
   "source": [
    "#Function to play the given environment based on the given policy, without any randomness\n",
    "def playEnv(env,policy):\n",
    "    \n",
    "    env.reset()\n",
    "    s = env.present_state\n",
    "    done = False\n",
    "    a = int(policy[s][0])\n",
    "\n",
    "    cur_reward = 0\n",
    "\n",
    "    while not done:\n",
    "        out = env.step(a)\n",
    "        (s_prime,t),r,done,_ = out\n",
    "        cur_reward += r\n",
    "        a = int(policy[int(s_prime)][int(r)])\n",
    "        \n",
    "    return cur_reward"
   ]
  },
  {
   "cell_type": "code",
   "execution_count": 4,
   "id": "e664d54c",
   "metadata": {},
   "outputs": [],
   "source": [
    "#Function to decay parameter from finalValue -> initialValue starting from startStep step and upto maxSteps using\n",
    "#the decayType characteristic\n",
    "\n",
    "def decayParameter(initialValue, finalValue, startStep, maxSteps, decayType):\n",
    "    arr = [initialValue]\n",
    "    para = initialValue\n",
    "    step = 0\n",
    "    \n",
    "    if(decayType == 'linear'):\n",
    "        rate = (initialValue-finalValue)/(maxSteps-startStep)\n",
    "    else:\n",
    "        rate = np.power(finalValue/initialValue, 1/(maxSteps-startStep))\n",
    "    \n",
    "    while(step < maxSteps):\n",
    "        step += 1\n",
    "        \n",
    "        if(step>startStep):\n",
    "            if(decayType=='linear'):\n",
    "                para -= rate\n",
    "            else:\n",
    "                para *= rate\n",
    "        arr.append(para)\n",
    "        \n",
    "    return(arr)"
   ]
  },
  {
   "cell_type": "code",
   "execution_count": 5,
   "id": "9c9fe38b",
   "metadata": {},
   "outputs": [],
   "source": [
    "#Returns the greedy policy from the given state-action value function\n",
    "def GreedyPolicy(Q):\n",
    "    \n",
    "    pi = np.zeros((Q.shape[0],Q.shape[1]))\n",
    "    \n",
    "    for s in range(Q.shape[0]):\n",
    "        \n",
    "        for r in range(Q.shape[1]):\n",
    "            \n",
    "            q = Q[s][r]\n",
    "\n",
    "            #simple_argmax\n",
    "\n",
    "            a = np.argmax(q)\n",
    "\n",
    "            #a = np.random.choice(np.where(q == q.max())[0])\n",
    "\n",
    "            pi[s][r] = int(a)\n",
    "        \n",
    "    return pi"
   ]
  },
  {
   "cell_type": "code",
   "execution_count": 6,
   "id": "d032725c",
   "metadata": {},
   "outputs": [],
   "source": [
    "#Function to train the double Q-learning agent\n",
    "#takes as input various hyperparameters like gamma, no of episodes to train for as well as the \n",
    "#parameters for decaying alpha and epsilon parameters\n",
    "#Env to train the agent on also has to be given as input\n",
    "\n",
    "def double_q_learning(env, gamma, alpha, epsilon, noEpisodes):\n",
    "    curr_q = np.zeros((9,201,8))\n",
    "    curr_q_1 = np.zeros((9,201,8))\n",
    "    curr_q_2 = np.zeros((9,201,8))\n",
    "    \n",
    "    total_rewards = []\n",
    "    greedy_reward = []\n",
    "\n",
    "    al,e = alpha[3], epsilon[3]\n",
    "    \n",
    "    alpha = decayParameter(*alpha)\n",
    "    epsilon = decayParameter(*epsilon)\n",
    "    \n",
    "    def actionSelect(curr_state, curr_r, curr_q, eps):     #Epsilon Greedy Action Select\n",
    "        if(np.random.uniform(0,1) < eps):\n",
    "            action = np.random.choice(np.arange(8))\n",
    "        else:\n",
    "            if(np.all(curr_q[curr_state][curr_r] == np.zeros(8))):\n",
    "                action = np.random.choice(np.arange(8))\n",
    "            else:\n",
    "                action = np.argmax(curr_q[curr_state][curr_r])\n",
    "        \n",
    "        return(action)\n",
    "    \n",
    "    for i in trange(noEpisodes):\n",
    "        env.reset()\n",
    "        curr_state = env.present_state\n",
    "        curr_r = 0\n",
    "        done = False\n",
    "        \n",
    "        total_r = 0\n",
    "        \n",
    "        while(not done):\n",
    "#             print(epsilon[int(min(i, e-1))])\n",
    "            a = actionSelect(curr_state, curr_r, curr_q, epsilon[int(min(i, e-1))])\n",
    "\n",
    "            (s_new, r, done, _) = env.step(a)\n",
    "            \n",
    "            total_r += r\n",
    "            \n",
    "            if(np.random.uniform(0,1) <= 0.5):\n",
    "            \n",
    "                td_target = r\n",
    "                a_opt = np.argmax(curr_q_1[s_new[0], int(r)])\n",
    "                if(not done):  \n",
    "                    td_target += gamma*curr_q_2[int(s_new[0])][int(r)][a_opt]\n",
    "                \n",
    "                td_error = td_target - curr_q_1[curr_state][curr_r][a]\n",
    "            \n",
    "                curr_q_1[curr_state][curr_r][a] += alpha[int(min(i, al-1))]*td_error\n",
    "            \n",
    "            else:\n",
    "                td_target = r\n",
    "                a_opt = np.argmax(curr_q_2[s_new[0], int(r)])\n",
    "                if(not done):  \n",
    "                    td_target += gamma*curr_q_1[int(s_new[0])][int(r)][a_opt]\n",
    "                \n",
    "                td_error = td_target - curr_q_2[curr_state][curr_r][a]\n",
    "            \n",
    "                curr_q_2[curr_state][curr_r][a] += alpha[int(min(i, al-1))]*td_error\n",
    "                \n",
    "            \n",
    "            curr_state = s_new[0]\n",
    "            curr_r = int(r)\n",
    "            curr_q = (curr_q_1 + curr_q_2)/2\n",
    "            \n",
    "        total_rewards.append(total_r)\n",
    "        greedy_reward.append(playEnv(env, GreedyPolicy(curr_q)))\n",
    "\n",
    "    return curr_q, total_rewards, greedy_reward"
   ]
  },
  {
   "cell_type": "markdown",
   "id": "ecc15f97",
   "metadata": {},
   "source": [
    "# Training Agent and Experimentation"
   ]
  },
  {
   "cell_type": "code",
   "execution_count": 8,
   "id": "39fb393f",
   "metadata": {},
   "outputs": [
    {
     "name": "stderr",
     "output_type": "stream",
     "text": [
      "100%|█████████████████████████████████████| 10000/10000 [03:52<00:00, 43.07it/s]\n",
      "100%|█████████████████████████████████████| 10000/10000 [04:01<00:00, 41.45it/s]\n",
      "100%|█████████████████████████████████████| 10000/10000 [03:56<00:00, 42.31it/s]\n",
      "100%|█████████████████████████████████████| 10000/10000 [03:58<00:00, 41.88it/s]\n",
      "100%|█████████████████████████████████████| 10000/10000 [04:13<00:00, 39.38it/s]"
     ]
    },
    {
     "name": "stdout",
     "output_type": "stream",
     "text": [
      "23574\n"
     ]
    },
    {
     "name": "stderr",
     "output_type": "stream",
     "text": [
      "\n"
     ]
    }
   ],
   "source": [
    "#Declaring hyperparameter values\n",
    "gamma = 0.3\n",
    "alpha = 0.05\n",
    "epsilon = 1\n",
    "noEpisodes = 10000\n",
    "\n",
    "envs = EnvClass()\n",
    "env = envs.getBlock(3)       # Training Agent and Experimentation\n",
    "\n",
    "Q_s  = np.zeros((5, 9, 201, 8))\n",
    "rewards = np.zeros((5, noEpisodes))\n",
    "g_rewards = np.zeros((5, noEpisodes))\n",
    "\n",
    "for i in range(5):\n",
    "    np.random.seed(i)\n",
    "    env.reset()\n",
    "\n",
    "    Q, reward, greward = double_q_learning(env, gamma, (alpha, 0.01, 0, noEpisodes, 'exponential'), (epsilon, 0.01, 1000, (9*noEpisodes)//10, 'linear'), noEpisodes)\n",
    "\n",
    "    Q_s[i] = Q\n",
    "    rewards[i] = reward\n",
    "    g_rewards[i] = greward\n",
    "\n",
    "Q = np.mean(Q_s, axis=0)\n",
    "p = GreedyPolicy(Q)\n",
    "print(playEnv(env, p))"
   ]
  },
  {
   "cell_type": "code",
   "execution_count": 9,
   "id": "9361e389",
   "metadata": {},
   "outputs": [
    {
     "name": "stdout",
     "output_type": "stream",
     "text": [
      "23574\n"
     ]
    }
   ],
   "source": [
    "#Score of final greedy policy\n",
    "Q = np.mean(Q_s, axis=0)\n",
    "p = GreedyPolicy(Q)\n",
    "print(playEnv(env, p))\n",
    "\n",
    "\n",
    "#Uncomment to save rewards per episode, greedy_rewards per episode and final policy\n",
    "\n",
    "# np.savez('./policies/double_q_learning_B3_policy.npz', p)\n",
    "# np.savez('./policies/double_q_learning_B3_reward.npz', np.mean(rewards, axis=0))\n",
    "# np.savez('./policies/double_q_learning_B3_greward.npz', np.mean(g_rewards, axis=0))\n"
   ]
  },
  {
   "cell_type": "code",
   "execution_count": 13,
   "id": "db452d91",
   "metadata": {},
   "outputs": [
    {
     "data": {
      "text/plain": [
       "[<matplotlib.lines.Line2D at 0x7f658fc1aee0>]"
      ]
     },
     "execution_count": 13,
     "metadata": {},
     "output_type": "execute_result"
    },
    {
     "data": {
      "image/png": "[encoded data removed]",
      "text/plain": [
       "<Figure size 432x288 with 1 Axes>"
      ]
     },
     "metadata": {
      "needs_background": "light"
     },
     "output_type": "display_data"
    }
   ],
   "source": [
    "#Plot for reward per episode averaged over multiple seeds\n",
    "plt.plot(np.mean(rewards, axis=0))\n",
    "# plt.savefig('./policies/double_q_learning_gamma_04_B1.pdf')"
   ]
  }
 ],
 "metadata": {
  "kernelspec": {
   "display_name": "Python 3 (ipykernel)",
   "language": "python",
   "name": "python3"
  },
  "language_info": {
   "codemirror_mode": {
    "name": "ipython",
    "version": 3
   },
   "file_extension": ".py",
   "mimetype": "text/x-python",
   "name": "python",
   "nbconvert_exporter": "python",
   "pygments_lexer": "ipython3",
   "version": "3.8.8"
  }
 },
 "nbformat": 4,
 "nbformat_minor": 5
}
