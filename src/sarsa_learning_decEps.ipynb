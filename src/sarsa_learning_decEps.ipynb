{
 "cells": [
  {
   "cell_type": "markdown",
   "metadata": {},
   "source": [
    "1. This notebook implements SARSA algorithm.\n",
    "\n",
    "2. While implementing the sarsa algorithm, Q-function used is a function of state,prev_reward,action.\n",
    "\n",
    "3. The action select policy is decay epsilon algorithm."
   ]
  },
  {
   "cell_type": "code",
   "execution_count": 2,
   "metadata": {},
   "outputs": [
    {
     "name": "stdout",
     "output_type": "stream",
     "text": [
      "Defaulting to user installation because normal site-packages is not writeable\n",
      "Obtaining file:///home/kabhay/Documents/courses/RL_project/Foraging_in_replenishing_patches/gym-env\n",
      "Requirement already satisfied: gym in /home/kabhay/.local/lib/python3.8/site-packages (from gym-env==0.0.1) (0.19.0)\n",
      "Requirement already satisfied: numpy>=1.18.0 in /home/kabhay/.local/lib/python3.8/site-packages (from gym->gym-env==0.0.1) (1.20.0)\n",
      "Requirement already satisfied: cloudpickle<1.7.0,>=1.2.0 in /home/kabhay/.local/lib/python3.8/site-packages (from gym->gym-env==0.0.1) (1.6.0)\n",
      "Installing collected packages: gym-env\n",
      "  Attempting uninstall: gym-env\n",
      "    Found existing installation: gym-env 0.0.1\n",
      "    Uninstalling gym-env-0.0.1:\n",
      "      Successfully uninstalled gym-env-0.0.1\n",
      "  Running setup.py develop for gym-env\n",
      "Successfully installed gym-env-0.0.1\n",
      "\u001b[33mWARNING: You are using pip version 21.2.4; however, version 21.3.1 is available.\n",
      "You should consider upgrading via the '/usr/bin/python3 -m pip install --upgrade pip' command.\u001b[0m\n"
     ]
    }
   ],
   "source": [
    "!pip3 install -e gym-env\n",
    "# !pip3 install pygame"
   ]
  },
  {
   "cell_type": "code",
   "execution_count": 3,
   "metadata": {},
   "outputs": [],
   "source": [
    "import gym\n",
    "from gym import error, spaces, utils\n",
    "import numpy as np\n",
    "import math\n",
    "import pandas as pd\n",
    "from matplotlib import pyplot as plt\n",
    "import matplotlib"
   ]
  },
  {
   "cell_type": "code",
   "execution_count": 4,
   "metadata": {},
   "outputs": [],
   "source": [
    "from blocks import EnvClass"
   ]
  },
  {
   "cell_type": "code",
   "execution_count": 5,
   "metadata": {},
   "outputs": [],
   "source": [
    "def playEnv(env,policy):\n",
    "    \n",
    "    env.reset()\n",
    "    \n",
    "    s = env.present_state\n",
    "    \n",
    "    done = False\n",
    "\n",
    "    a = int(policy[s][0])\n",
    "\n",
    "    cur_reward = 0\n",
    "\n",
    "    while not done:\n",
    "\n",
    "        out = env.step(a)\n",
    "\n",
    "        (s_prime,t),r,done,_ = out\n",
    "        \n",
    "        cur_reward += r\n",
    "        a = int(policy[int(s_prime)][int(r)])\n",
    "        \n",
    "    return cur_reward"
   ]
  },
  {
   "cell_type": "code",
   "execution_count": 6,
   "metadata": {},
   "outputs": [],
   "source": [
    "def decayEpsilon(eps,noEpisodes,decayUntil,min_eps=0.01,decayType='linear'):\n",
    "    \n",
    "    epsilons = np.empty(noEpisodes)\n",
    "    \n",
    "    epsilons.fill(min_eps)\n",
    "    \n",
    "    if decayType == 'linear':\n",
    "        \n",
    "        rate = (eps - min_eps) / decayUntil\n",
    "        \n",
    "        for i in range(decayUntil+1):\n",
    "            epsilons[i] = eps - i*rate\n",
    "    \n",
    "    else :\n",
    "        \n",
    "        rate = (eps/min_eps)** (1/decayUntil)\n",
    "        \n",
    "        for i in range(decayUntil+1):\n",
    "            epsilons[i] = eps * (rate**i)\n",
    "\n",
    "    \n",
    "    return epsilons"
   ]
  },
  {
   "cell_type": "code",
   "execution_count": 7,
   "metadata": {},
   "outputs": [],
   "source": [
    "def decayAlpha(alpha, noEpisodes,maxSteps,final_alpha = 0.01,decayType='linear'):\n",
    "    \n",
    "    alphas = [float(final_alpha)] * noEpisodes\n",
    "    \n",
    "    if decayType == 'linear':\n",
    "        \n",
    "        rate = (alpha - final_alpha) / maxSteps\n",
    "        \n",
    "        for i in range(maxSteps+1):\n",
    "            alphas[i] = alpha - i*rate\n",
    "    \n",
    "    else :\n",
    "        \n",
    "        rate = (final_alpha/alpha)** (1/maxSteps)\n",
    "        \n",
    "        for i in range(maxSteps+1):\n",
    "            alphas[i] = alpha * (rate**i)\n",
    "    \n",
    "    return alphas"
   ]
  },
  {
   "cell_type": "code",
   "execution_count": 8,
   "metadata": {},
   "outputs": [],
   "source": [
    "def actionSelect(s,r,Q,eps):\n",
    "    \n",
    "    q = Q[s][r]\n",
    "    \n",
    "    if np.random.rand() > eps:\n",
    "        a = np.random.choice(np.where(q == q.max())[0])\n",
    "    else :\n",
    "        a = np.random.randint(0,len(q))\n",
    "    \n",
    "    return a"
   ]
  },
  {
   "cell_type": "code",
   "execution_count": 9,
   "metadata": {},
   "outputs": [],
   "source": [
    "def GreedyPolicy(Q):\n",
    "    \n",
    "    pi = np.zeros((Q.shape[0],Q.shape[1]))\n",
    "    \n",
    "    for s in range(Q.shape[0]):\n",
    "        \n",
    "        for r in range(Q.shape[1]):\n",
    "            \n",
    "            q = Q[s][r]\n",
    "\n",
    "            #simple_argmax\n",
    "\n",
    "            a = np.argmax(q)\n",
    "\n",
    "            #a = np.random.choice(np.where(q == q.max())[0])\n",
    "\n",
    "            pi[s][r] = int(a)\n",
    "        \n",
    "    return pi"
   ]
  },
  {
   "cell_type": "code",
   "execution_count": 10,
   "metadata": {},
   "outputs": [],
   "source": [
    "from tqdm import tqdm"
   ]
  },
  {
   "cell_type": "code",
   "execution_count": 17,
   "metadata": {},
   "outputs": [],
   "source": [
    "#reference : lecture slides\n",
    "\n",
    "def SARSA(env,gamma,alpha,eps,noEpisodes,epsilons = [0]) :\n",
    "    \n",
    "    n_states = env.observation_space.n\n",
    "    n_actions = env.action_space.n\n",
    "    \n",
    "    Q = np.zeros((n_states,201,n_actions))\n",
    "    \n",
    "#     Q_s = np.zeros((noEpisodes,n_states,20,n_actions))\n",
    "    if epsilons[0] == 0:\n",
    "        epsilons = decayEpsilon(eps,noEpisodes,noEpisodes,min_eps = 0.1, decayType = 'linear')\n",
    "        \n",
    "    alphas = decayAlpha(alpha,noEpisodes,int(3*noEpisodes/4) ,final_alpha = 0.02 ,decayType = 'linear')\n",
    "    \n",
    "    rewards = np.zeros((noEpisodes)) \n",
    "    greedy_rewards = np.zeros((noEpisodes)) \n",
    "    \n",
    "    for e in tqdm(range(noEpisodes)):\n",
    "        \n",
    "        cur_alpha = alphas[e]\n",
    "        cur_eps = epsilons[e]\n",
    "        env.reset()\n",
    "        s = env.present_state\n",
    "        done = False\n",
    "        \n",
    "        a = actionSelect(s,0,Q,cur_eps)\n",
    "        \n",
    "        cur_reward = 0\n",
    "\n",
    "        r = 0\n",
    "        \n",
    "        \n",
    "        while not done:\n",
    "\n",
    "            out = env.step(a)\n",
    "            \n",
    "            (s_prime,t),r_new,done,_ = out\n",
    "            \n",
    "#             s_prime,t = f\n",
    "                \n",
    "            cur_reward += r_new\n",
    "            \n",
    "            \n",
    "            a_prime = actionSelect(s_prime,int(r_new),Q,cur_eps)\n",
    "            \n",
    "            td_target = r_new\n",
    "            \n",
    "            if not done :\n",
    "                td_target += gamma * Q[s_prime][int(r_new)][a_prime]\n",
    "                \n",
    "            td_error = td_target - Q[s][int(r)][a]\n",
    "                \n",
    "            Q[s][int(r)][a] = Q[s][int(r)][a] + cur_alpha * td_error\n",
    "            \n",
    "            s = s_prime\n",
    "            \n",
    "            a = a_prime\n",
    "            \n",
    "            r = r_new\n",
    "            \n",
    "        rewards[e] = cur_reward\n",
    "        greedy_rewards[e]=playEnv(env,GreedyPolicy(Q))\n",
    "        \n",
    "    pi = GreedyPolicy(Q)\n",
    "#     V = np.max(Q,axis=2)\n",
    "    \n",
    "    return Q,pi,rewards,greedy_rewards\n",
    "    "
   ]
  },
  {
   "cell_type": "code",
   "execution_count": 18,
   "metadata": {},
   "outputs": [],
   "source": [
    "envs = EnvClass()"
   ]
  },
  {
   "cell_type": "markdown",
   "metadata": {},
   "source": [
    "## EXPERIMENTATION"
   ]
  },
  {
   "cell_type": "markdown",
   "metadata": {},
   "source": [
    "### Block1"
   ]
  },
  {
   "cell_type": "code",
   "execution_count": 19,
   "metadata": {},
   "outputs": [],
   "source": [
    "env_b1 = envs.getBlock(1)\n",
    "num_seeds = 5\n",
    "\n",
    "n_states = 9\n",
    "n_actions = 8\n",
    "\n",
    "alpha = 0.5\n",
    "gamma = 0.4\n",
    "eps = 1\n",
    "noEpisodes = 10000\n",
    "\n",
    "Q_ = np.zeros((num_seeds, n_states,201,n_actions)) \n",
    "rewards_ = np.zeros((num_seeds,noEpisodes))\n",
    "greedy_rewards_ = np.zeros((num_seeds,noEpisodes))"
   ]
  },
  {
   "cell_type": "code",
   "execution_count": null,
   "metadata": {},
   "outputs": [],
   "source": []
  },
  {
   "cell_type": "code",
   "execution_count": 20,
   "metadata": {},
   "outputs": [
    {
     "name": "stderr",
     "output_type": "stream",
     "text": [
      "100%|██████████| 10000/10000 [02:46<00:00, 60.12it/s]\n",
      "100%|██████████| 10000/10000 [03:07<00:00, 53.23it/s]\n",
      "100%|██████████| 10000/10000 [02:40<00:00, 62.15it/s]\n",
      "100%|██████████| 10000/10000 [02:30<00:00, 66.30it/s]\n"
     ]
    }
   ],
   "source": [
    "for i in range(1,num_seeds):    \n",
    "    np.random.seed(4*i)\n",
    "    epsilons = np.ones((noEpisodes))\n",
    "    epsilons = decayEpsilon(eps,noEpisodes,19*noEpisodes//20, min_eps = 0.01, decayType = 'linear')\n",
    "    Q_[i],pi1,rewards_[i],greedy_rewards_[i] = SARSA(env_b1,gamma,alpha,eps,noEpisodes,epsilons)"
   ]
  },
  {
   "cell_type": "code",
   "execution_count": null,
   "metadata": {},
   "outputs": [],
   "source": []
  },
  {
   "cell_type": "code",
   "execution_count": 21,
   "metadata": {},
   "outputs": [],
   "source": [
    "avg_rewards = np.mean(rewards_[1:],axis = 0)"
   ]
  },
  {
   "cell_type": "code",
   "execution_count": 22,
   "metadata": {},
   "outputs": [],
   "source": [
    "Q_avg = np.mean(Q_[1:4],axis = 0)"
   ]
  },
  {
   "cell_type": "code",
   "execution_count": 23,
   "metadata": {},
   "outputs": [],
   "source": [
    "def GreedyPolicy(Q):\n",
    "    \n",
    "    pi = np.zeros((Q.shape[0],Q.shape[1]))\n",
    "    \n",
    "    for s in range(Q.shape[0]):\n",
    "        \n",
    "        for r in range(Q.shape[1]):\n",
    "            \n",
    "            q = Q[s][r]\n",
    "\n",
    "            #simple_argmax\n",
    "\n",
    "            a = np.argmax(q)\n",
    "\n",
    "            #a = np.random.choice(np.where(q == q.max())[0])\n",
    "\n",
    "            pi[s][r] = int(a)\n",
    "        \n",
    "    return pi"
   ]
  },
  {
   "cell_type": "code",
   "execution_count": 24,
   "metadata": {},
   "outputs": [],
   "source": [
    "pi_ = GreedyPolicy(Q_avg)"
   ]
  },
  {
   "cell_type": "code",
   "execution_count": 25,
   "metadata": {
    "scrolled": true
   },
   "outputs": [
    {
     "data": {
      "text/plain": [
       "19085"
      ]
     },
     "execution_count": 25,
     "metadata": {},
     "output_type": "execute_result"
    }
   ],
   "source": [
    "playEnv(env_b1,pi_)"
   ]
  },
  {
   "cell_type": "code",
   "execution_count": 26,
   "metadata": {},
   "outputs": [
    {
     "data": {
      "text/plain": [
       "array([[1., 0., 0., ..., 0., 0., 0.],\n",
       "       [1., 0., 0., ..., 0., 0., 0.],\n",
       "       [2., 0., 0., ..., 0., 0., 0.],\n",
       "       ...,\n",
       "       [6., 0., 0., ..., 0., 0., 0.],\n",
       "       [6., 0., 0., ..., 0., 0., 0.],\n",
       "       [6., 0., 0., ..., 0., 0., 0.]])"
      ]
     },
     "execution_count": 26,
     "metadata": {},
     "output_type": "execute_result"
    }
   ],
   "source": [
    "pi_"
   ]
  },
  {
   "cell_type": "code",
   "execution_count": 27,
   "metadata": {
    "scrolled": true
   },
   "outputs": [
    {
     "name": "stdout",
     "output_type": "stream",
     "text": [
      "0\n",
      "18951\n",
      "17935\n",
      "20126\n",
      "16882\n"
     ]
    }
   ],
   "source": [
    "for i in range(num_seeds):\n",
    "    pi = GreedyPolicy(Q_[i])\n",
    "    print(playEnv(env_b1,pi))"
   ]
  },
  {
   "cell_type": "code",
   "execution_count": 28,
   "metadata": {},
   "outputs": [],
   "source": [
    "np.savez('./policies/sarsa/sarsa_learning_gamma_04_B1_reward.npz', rewards_)\n",
    "np.savez('./policies/sarsa/sarsa_learning_gamma_04_B1_policy.npz', pi_)\n",
    "np.savez('./policies/sarsa/sarsa_learning_gamma_04_B1_greedy.npz', greedy_rewards_)"
   ]
  },
  {
   "cell_type": "code",
   "execution_count": 56,
   "metadata": {},
   "outputs": [],
   "source": [
    "import matplotlib.pyplot as plt\n",
    "plt.rcParams.update({'font.size': 10})"
   ]
  },
  {
   "cell_type": "code",
   "execution_count": 37,
   "metadata": {},
   "outputs": [],
   "source": [
    "new_rewards = [rewards_[1]]\n",
    "for i in range(2,len(rewards_)):\n",
    "    cur_avg = (i * new_rewards[-1] + rewards_[i])/(i+1)\n",
    "    new_rewards.append(cur_avg)"
   ]
  },
  {
   "cell_type": "code",
   "execution_count": null,
   "metadata": {},
   "outputs": [],
   "source": []
  },
  {
   "cell_type": "markdown",
   "metadata": {},
   "source": [
    "### Block2"
   ]
  },
  {
   "cell_type": "code",
   "execution_count": 30,
   "metadata": {},
   "outputs": [],
   "source": [
    "env_b2 = envs.getBlock(2)\n",
    "num_seeds = 5\n",
    "\n",
    "n_states = 9\n",
    "n_actions = 8\n",
    "\n",
    "alpha = 0.5\n",
    "gamma = 0.4\n",
    "eps = 1\n",
    "noEpisodes = 10000\n",
    "\n",
    "Q_ = np.zeros((num_seeds, n_states,201,n_actions)) \n",
    "rewards_ = np.zeros((num_seeds,noEpisodes))\n",
    "greedy_rewards_ = np.zeros((num_seeds,noEpisodes))"
   ]
  },
  {
   "cell_type": "code",
   "execution_count": 31,
   "metadata": {},
   "outputs": [
    {
     "name": "stderr",
     "output_type": "stream",
     "text": [
      "100%|██████████| 10000/10000 [02:45<00:00, 60.54it/s]\n",
      "100%|██████████| 10000/10000 [02:38<00:00, 63.18it/s]\n",
      "100%|██████████| 10000/10000 [02:37<00:00, 63.33it/s]\n",
      "100%|██████████| 10000/10000 [02:42<00:00, 61.64it/s]\n"
     ]
    }
   ],
   "source": [
    "for i in range(1,num_seeds):    \n",
    "    np.random.seed(5+i)\n",
    "    epsilons = np.ones((noEpisodes))\n",
    "    epsilons = decayEpsilon(eps,noEpisodes,19*noEpisodes//20, min_eps = 0.01, decayType = 'linear')\n",
    "    Q_[i],pi2,rewards_[i],greedy_rewards_[i] = SARSA(env_b2,gamma,alpha,eps,noEpisodes,epsilons)"
   ]
  },
  {
   "cell_type": "code",
   "execution_count": 32,
   "metadata": {},
   "outputs": [
    {
     "name": "stdout",
     "output_type": "stream",
     "text": [
      "(10000,)\n"
     ]
    }
   ],
   "source": [
    "avg_rewards = np.mean(rewards_,axis = 0)\n",
    "print(avg_rewards.shape)"
   ]
  },
  {
   "cell_type": "code",
   "execution_count": 33,
   "metadata": {},
   "outputs": [
    {
     "name": "stdout",
     "output_type": "stream",
     "text": [
      "0\n",
      "20242\n",
      "19350\n",
      "18857\n",
      "20989\n"
     ]
    }
   ],
   "source": [
    "for i in range(num_seeds):\n",
    "    pi = GreedyPolicy(Q_[i])\n",
    "    print(playEnv(env_b2,pi))"
   ]
  },
  {
   "cell_type": "code",
   "execution_count": 34,
   "metadata": {},
   "outputs": [],
   "source": [
    "Q_avg = np.mean(Q_[1:],axis = 0)"
   ]
  },
  {
   "cell_type": "code",
   "execution_count": 35,
   "metadata": {},
   "outputs": [],
   "source": [
    "def GreedyPolicy(Q):\n",
    "    \n",
    "    pi = np.zeros((Q.shape[0],Q.shape[1]))\n",
    "    \n",
    "    for s in range(Q.shape[0]):\n",
    "        \n",
    "        for r in range(Q.shape[1]):\n",
    "            \n",
    "            q = Q[s][r]\n",
    "\n",
    "            #simple_argmax\n",
    "\n",
    "            a = np.argmax(q)\n",
    "\n",
    "            #a = np.random.choice(np.where(q == q.max())[0])\n",
    "\n",
    "            pi[s][r] = int(a)\n",
    "        \n",
    "    return pi"
   ]
  },
  {
   "cell_type": "code",
   "execution_count": 36,
   "metadata": {},
   "outputs": [],
   "source": [
    "pi_ = GreedyPolicy(Q_avg)"
   ]
  },
  {
   "cell_type": "code",
   "execution_count": 37,
   "metadata": {
    "scrolled": true
   },
   "outputs": [
    {
     "data": {
      "text/plain": [
       "20446"
      ]
     },
     "execution_count": 37,
     "metadata": {},
     "output_type": "execute_result"
    }
   ],
   "source": [
    "playEnv(env_b2,pi_)"
   ]
  },
  {
   "cell_type": "code",
   "execution_count": 38,
   "metadata": {},
   "outputs": [],
   "source": [
    "np.savez('./policies/sarsa/sarsa_learning_gamma_04_B2_reward.npz', rewards_)\n",
    "np.savez('./policies/sarsa/sarsa_learning_gamma_04_B2_policy.npz', pi_)\n",
    "np.savez('./policies/sarsa/sarsa_learning_gamma_04_B2_.greedynpz', greedy_rewards_)"
   ]
  },
  {
   "cell_type": "code",
   "execution_count": 41,
   "metadata": {},
   "outputs": [
    {
     "data": {
      "text/plain": [
       "Text(0.5, 1.0, 'SARSA reward for block 2')"
      ]
     },
     "execution_count": 41,
     "metadata": {},
     "output_type": "execute_result"
    },
    {
     "data": {
      "image/png": "[encoded data removed]",
      "text/plain": [
       "<Figure size 864x576 with 1 Axes>"
      ]
     },
     "metadata": {
      "needs_background": "light"
     },
     "output_type": "display_data"
    }
   ],
   "source": [
    "plt.figure(figsize=(12,8))\n",
    "plt.plot(np.mean(greedy_rewards_,axis=0))\n",
    "# plt.legend(['v('+ str(i)+')' for i in range(9)],loc='lower right')\n",
    "plt.xlabel(\"episodes\")\n",
    "plt.ylabel(\"rewards\")\n",
    "plt.title(\"SARSA reward for block 2\")\n",
    "# plt.savefig('images/sarsa_updated/b2_SARSA_rewards_last.pdf', transparent=True)\n",
    "# plt.savefig('SARSAb2Reward.jpg', transparent=True)"
   ]
  },
  {
   "cell_type": "code",
   "execution_count": 43,
   "metadata": {},
   "outputs": [
    {
     "data": {
      "text/plain": [
       "20989.0"
      ]
     },
     "execution_count": 43,
     "metadata": {},
     "output_type": "execute_result"
    }
   ],
   "source": [
    "rewards_[-1,-1]"
   ]
  },
  {
   "cell_type": "code",
   "execution_count": 44,
   "metadata": {},
   "outputs": [],
   "source": [
    "reward = playEnv(env_b2,pi2)"
   ]
  },
  {
   "cell_type": "code",
   "execution_count": 45,
   "metadata": {},
   "outputs": [
    {
     "data": {
      "text/plain": [
       "20989"
      ]
     },
     "execution_count": 45,
     "metadata": {},
     "output_type": "execute_result"
    }
   ],
   "source": [
    "reward"
   ]
  },
  {
   "cell_type": "markdown",
   "metadata": {},
   "source": [
    "### Block3"
   ]
  },
  {
   "cell_type": "code",
   "execution_count": 46,
   "metadata": {},
   "outputs": [],
   "source": [
    "env_b3 = envs.getBlock(3)\n",
    "num_seeds = 5\n",
    "\n",
    "n_states = 9\n",
    "n_actions = 8\n",
    "\n",
    "alpha = 0.5\n",
    "gamma = 0.4\n",
    "eps = 1\n",
    "noEpisodes = 10000\n",
    "\n",
    "Q_ = np.zeros((num_seeds, n_states,201,n_actions)) \n",
    "rewards_ = np.zeros((num_seeds,noEpisodes))\n",
    "greedy_rewards_ = np.zeros((num_seeds,noEpisodes))"
   ]
  },
  {
   "cell_type": "code",
   "execution_count": 47,
   "metadata": {},
   "outputs": [
    {
     "name": "stderr",
     "output_type": "stream",
     "text": [
      "100%|██████████| 10000/10000 [02:38<00:00, 63.06it/s]\n",
      "100%|██████████| 10000/10000 [02:35<00:00, 64.50it/s]\n",
      "100%|██████████| 10000/10000 [02:47<00:00, 59.73it/s]\n",
      "100%|██████████| 10000/10000 [09:17<00:00, 17.95it/s]  \n"
     ]
    }
   ],
   "source": [
    "for i in range(1,num_seeds):    \n",
    "    np.random.seed(4*i)\n",
    "    epsilons = np.ones((noEpisodes))\n",
    "    epsilons = decayEpsilon(eps,noEpisodes,19*noEpisodes//20, min_eps = 0.01, decayType = 'linear')\n",
    "    Q_[i],pi3,rewards_[i],greedy_rewards_[i] = SARSA(env_b3,gamma,alpha,eps,noEpisodes,epsilons)"
   ]
  },
  {
   "cell_type": "code",
   "execution_count": 48,
   "metadata": {},
   "outputs": [
    {
     "name": "stdout",
     "output_type": "stream",
     "text": [
      "(10000,)\n"
     ]
    }
   ],
   "source": [
    "avg_rewards = np.mean(rewards_,axis = 0)\n",
    "print(avg_rewards.shape)"
   ]
  },
  {
   "cell_type": "code",
   "execution_count": 49,
   "metadata": {},
   "outputs": [
    {
     "name": "stdout",
     "output_type": "stream",
     "text": [
      "517\n",
      "23484\n",
      "23618\n",
      "23615\n",
      "23219\n"
     ]
    }
   ],
   "source": [
    "for i in range(num_seeds):\n",
    "    pi = GreedyPolicy(Q_[i])\n",
    "    print(playEnv(env_b3,pi))"
   ]
  },
  {
   "cell_type": "code",
   "execution_count": 50,
   "metadata": {},
   "outputs": [],
   "source": [
    "Q_avg = np.mean(Q_[1:],axis = 0)"
   ]
  },
  {
   "cell_type": "code",
   "execution_count": 51,
   "metadata": {},
   "outputs": [],
   "source": [
    "def GreedyPolicy(Q):\n",
    "    \n",
    "    pi = np.zeros((Q.shape[0],Q.shape[1]))\n",
    "    \n",
    "    for s in range(Q.shape[0]):\n",
    "        \n",
    "        for r in range(Q.shape[1]):\n",
    "            \n",
    "            q = Q[s][r]\n",
    "\n",
    "            #simple_argmax\n",
    "\n",
    "            a = np.argmax(q)\n",
    "\n",
    "            #a = np.random.choice(np.where(q == q.max())[0])\n",
    "\n",
    "            pi[s][r] = int(a)\n",
    "        \n",
    "    return pi"
   ]
  },
  {
   "cell_type": "code",
   "execution_count": 52,
   "metadata": {},
   "outputs": [],
   "source": [
    "pi_ = GreedyPolicy(Q_avg)"
   ]
  },
  {
   "cell_type": "code",
   "execution_count": 53,
   "metadata": {
    "scrolled": true
   },
   "outputs": [
    {
     "data": {
      "text/plain": [
       "23192"
      ]
     },
     "execution_count": 53,
     "metadata": {},
     "output_type": "execute_result"
    }
   ],
   "source": [
    "playEnv(env_b3,pi_)"
   ]
  },
  {
   "cell_type": "code",
   "execution_count": 54,
   "metadata": {},
   "outputs": [],
   "source": [
    "np.savez('./policies/sarsa/sarsa_learning_gamma_04_B3_reward.npz', rewards_)\n",
    "np.savez('./policies/sarsa/sarsa_learning_gamma_04_B3_policy.npz', pi_)\n",
    "np.savez('./policies/sarsa/sarsa_learning_gamma_04_B3_greedy.npz', greedy_rewards_)"
   ]
  },
  {
   "cell_type": "code",
   "execution_count": null,
   "metadata": {},
   "outputs": [],
   "source": []
  },
  {
   "cell_type": "code",
   "execution_count": 174,
   "metadata": {},
   "outputs": [],
   "source": [
    "env_b3 = envs.getBlock(3)\n",
    "np.random.seed(10)"
   ]
  },
  {
   "cell_type": "code",
   "execution_count": 175,
   "metadata": {},
   "outputs": [],
   "source": [
    "noEpisodes = 10000\n",
    "epsilons = np.ones((noEpisodes))\n",
    "learn = 500\n",
    "epsilons[learn:] = decayEpsilon(1,noEpisodes-learn,min_eps = 0.1, rate = 1/(noEpisodes-learn), decayType = 'linear')\n"
   ]
  },
  {
   "cell_type": "code",
   "execution_count": 177,
   "metadata": {},
   "outputs": [
    {
     "name": "stderr",
     "output_type": "stream",
     "text": [
      "100%|██████████| 10000/10000 [01:09<00:00, 143.79it/s]\n"
     ]
    }
   ],
   "source": [
    "Q,pi3,rewards = SARSA(env_b3,0.95,0.5,1,noEpisodes,epsilons)"
   ]
  },
  {
   "cell_type": "code",
   "execution_count": 178,
   "metadata": {},
   "outputs": [
    {
     "name": "stdout",
     "output_type": "stream",
     "text": [
      "[[3. 0. 0. ... 0. 0. 0.]\n",
      " [6. 0. 0. ... 0. 0. 0.]\n",
      " [4. 0. 0. ... 0. 0. 0.]\n",
      " ...\n",
      " [6. 0. 6. ... 0. 0. 0.]\n",
      " [6. 0. 0. ... 0. 0. 0.]\n",
      " [6. 0. 0. ... 0. 0. 0.]]\n"
     ]
    }
   ],
   "source": [
    "print(pi3)"
   ]
  },
  {
   "cell_type": "code",
   "execution_count": 41,
   "metadata": {},
   "outputs": [],
   "source": [
    "v_r = np.max(Q_s,axis=2)"
   ]
  },
  {
   "cell_type": "code",
   "execution_count": 42,
   "metadata": {},
   "outputs": [
    {
     "data": {
      "text/plain": [
       "Text(0.5, 1.0, 'SARSA estimates for block 2')"
      ]
     },
     "execution_count": 42,
     "metadata": {},
     "output_type": "execute_result"
    },
    {
     "data": {
      "image/png": "[encoded data removed]",
      "text/plain": [
       "<Figure size 432x288 with 1 Axes>"
      ]
     },
     "metadata": {
      "needs_background": "light"
     },
     "output_type": "display_data"
    }
   ],
   "source": [
    "plt.plot(v_r)\n",
    "plt.legend(['v('+ str(i)+')' for i in range(9)],loc='lower right')\n",
    "plt.xlabel(\"episodes\")\n",
    "plt.ylabel(\"state value function\")\n",
    "plt.title(\"SARSA estimates for block 2\")"
   ]
  },
  {
   "cell_type": "code",
   "execution_count": 182,
   "metadata": {},
   "outputs": [
    {
     "data": {
      "image/png": "[encoded data removed]",
      "text/plain": [
       "<Figure size 432x288 with 1 Axes>"
      ]
     },
     "metadata": {
      "needs_background": "light"
     },
     "output_type": "display_data"
    }
   ],
   "source": [
    "plt.plot(rewards)\n",
    "# plt.legend(['v('+ str(i)+')' for i in range(9)],loc='lower right')\n",
    "plt.xlabel(\"episodes\")\n",
    "plt.ylabel(\"rewards\")\n",
    "plt.title(\"SARSA reward for block 3\")\n",
    "plt.savefig('images/sarsa_updated/b3_SARSA_rewards.pdf', transparent=True)"
   ]
  },
  {
   "cell_type": "code",
   "execution_count": 179,
   "metadata": {},
   "outputs": [],
   "source": [
    "reward = playEnv(env_b3,pi3)"
   ]
  },
  {
   "cell_type": "code",
   "execution_count": 185,
   "metadata": {},
   "outputs": [
    {
     "data": {
      "text/plain": [
       "17429.0"
      ]
     },
     "execution_count": 185,
     "metadata": {},
     "output_type": "execute_result"
    }
   ],
   "source": [
    "rewards[-1]"
   ]
  },
  {
   "cell_type": "code",
   "execution_count": 183,
   "metadata": {},
   "outputs": [],
   "source": [
    "new_rewards = [rewards[0]]\n",
    "for i in range(1,len(rewards)):\n",
    "    cur_avg = (i * new_rewards[-1] + rewards[i])/(i+1)\n",
    "    new_rewards.append(cur_avg)"
   ]
  },
  {
   "cell_type": "code",
   "execution_count": 184,
   "metadata": {},
   "outputs": [
    {
     "data": {
      "image/png": "[encoded data removed]",
      "text/plain": [
       "<Figure size 1440x720 with 1 Axes>"
      ]
     },
     "metadata": {
      "needs_background": "light"
     },
     "output_type": "display_data"
    }
   ],
   "source": [
    "plt.figure(figsize=(20,10))\n",
    "plt.plot(new_rewards)\n",
    "# plt.legend(['v('+ str(i)+')' for i in range(9)],loc='lower right')\n",
    "plt.xlabel(\"episodes\")\n",
    "plt.ylabel(\"rewards\")\n",
    "plt.title(\"SARSA moving avg. reward for block 3\")\n",
    "plt.savefig('images/sarsa_updated/b3_SARSA_cum_rewards.pdf', transparent=True)"
   ]
  },
  {
   "cell_type": "code",
   "execution_count": null,
   "metadata": {},
   "outputs": [],
   "source": []
  }
 ],
 "metadata": {
  "interpreter": {
   "hash": "31f2aee4e71d21fbe5cf8b01ff0e069b9275f58929596ceb00d14d90e3e16cd6"
  },
  "kernelspec": {
   "display_name": "Python 3",
   "language": "python",
   "name": "python3"
  },
  "language_info": {
   "codemirror_mode": {
    "name": "ipython",
    "version": 3
   },
   "file_extension": ".py",
   "mimetype": "text/x-python",
   "name": "python",
   "nbconvert_exporter": "python",
   "pygments_lexer": "ipython3",
   "version": "3.8.10"
  }
 },
 "nbformat": 4,
 "nbformat_minor": 2
}
