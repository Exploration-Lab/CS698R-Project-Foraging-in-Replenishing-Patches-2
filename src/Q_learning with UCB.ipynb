{
 "cells": [
  {
   "cell_type": "markdown",
   "id": "0de51700",
   "metadata": {},
   "source": [
    "# Introduction\n",
    "\n",
    "The following notebook is for training Q-learning with UCB action select strategy agent on the task environment."
   ]
  },
  {
   "cell_type": "code",
   "execution_count": 1,
   "id": "2301b58a",
   "metadata": {},
   "outputs": [],
   "source": [
    "#Library imports\n",
    "\n",
    "import gym\n",
    "from gym import error, spaces, utils\n",
    "import numpy as np\n",
    "import math\n",
    "import pandas as pd\n",
    "from matplotlib import pyplot as plt\n",
    "import matplotlib\n",
    "from collections import namedtuple, deque\n",
    "from tqdm import tqdm, trange"
   ]
  },
  {
   "cell_type": "code",
   "execution_count": 2,
   "id": "c17035ef",
   "metadata": {},
   "outputs": [],
   "source": [
    "#Import environment class\n",
    "\n",
    "from blocks import EnvClass"
   ]
  },
  {
   "cell_type": "code",
   "execution_count": 3,
   "id": "4a509901",
   "metadata": {},
   "outputs": [],
   "source": [
    "#Function to play the given environment based on the given policy, without any randomness\n",
    "\n",
    "\n",
    "def playEnv(env,policy):\n",
    "    \n",
    "    env.reset()\n",
    "    s = env.present_state\n",
    "    done = False\n",
    "    a = int(policy[s][0])\n",
    "\n",
    "    cur_reward = 0\n",
    "\n",
    "    while not done:\n",
    "        out = env.step(a)\n",
    "        (s_prime,t),r,done,_ = out\n",
    "        cur_reward += r\n",
    "        a = int(policy[int(s_prime)][int(r)])\n",
    "        \n",
    "    return cur_reward"
   ]
  },
  {
   "cell_type": "code",
   "execution_count": 4,
   "id": "a3887b2f",
   "metadata": {},
   "outputs": [],
   "source": [
    "#Function to decay parameter from finalValue -> initialValue starting from startStep step and upto maxSteps using\n",
    "#the decayType characteristic\n",
    "\n",
    "def decayParameter(initialValue, finalValue, startStep, maxSteps, decayType):\n",
    "    arr = [initialValue]\n",
    "    para = initialValue\n",
    "    step = 0\n",
    "    \n",
    "    if(decayType == 'linear'):\n",
    "        rate = (initialValue-finalValue)/(maxSteps-startStep)\n",
    "    else:\n",
    "        rate = np.power(finalValue/initialValue, 1/(maxSteps-startStep))\n",
    "    \n",
    "    while(step < maxSteps):\n",
    "        step += 1\n",
    "        \n",
    "        if(step>startStep):\n",
    "            if(decayType=='linear'):\n",
    "                para -= rate\n",
    "            else:\n",
    "                para *= rate\n",
    "        arr.append(para)\n",
    "        \n",
    "    return(arr)"
   ]
  },
  {
   "cell_type": "code",
   "execution_count": 5,
   "id": "2269a895",
   "metadata": {},
   "outputs": [],
   "source": [
    "#Returns the greedy policy from the given state-action value function\n",
    "\n",
    "\n",
    "def GreedyPolicy(Q):\n",
    "    \n",
    "    pi = np.zeros((Q.shape[0],Q.shape[1]))\n",
    "    \n",
    "    for s in range(Q.shape[0]):\n",
    "        \n",
    "        for r in range(Q.shape[1]):\n",
    "            \n",
    "            q = Q[s][r]\n",
    "\n",
    "            #simple_argmax\n",
    "\n",
    "            a = np.argmax(q)\n",
    "\n",
    "            #a = np.random.choice(np.where(q == q.max())[0])\n",
    "\n",
    "            pi[s][r] = int(a)\n",
    "        \n",
    "    return pi"
   ]
  },
  {
   "cell_type": "code",
   "execution_count": 22,
   "id": "f3f0c9fe",
   "metadata": {},
   "outputs": [],
   "source": [
    "#Function to train the Q-learning agent\n",
    "#takes as input various hyperparameters like gamma, no of episodes to train for as well as the \n",
    "#parameters for decaying alpha parameters\n",
    "#Env to train the agent on also has to be given as input\n",
    "\n",
    "def q_learning(env, gamma, alpha, epsilon, noEpisodes):\n",
    "    curr_q = np.zeros((9,201,8))\n",
    "    actionCounter = np.zeros((9,201,8))\n",
    "    \n",
    "    total_rewards = []\n",
    "    greedy_reward = []\n",
    "\n",
    "    al,e = alpha[3], epsilon[3]\n",
    "    \n",
    "    alpha = decayParameter(*alpha)\n",
    "    epsilon = decayParameter(*epsilon)\n",
    "\n",
    "    state_step_counter = np.zeros((9, 201))\n",
    "    \n",
    "    def UCB_actionSelect(curr_state, curr_r, curr_q, c, stepCounter, actionCounter):   #UCB Action Select\n",
    "        if(np.any(actionCounter[curr_state][curr_r] == 0)):\n",
    "            return(np.where(actionCounter[curr_state][curr_r] == 0)[0][0])\n",
    "        else:\n",
    "            U = c*np.sqrt(np.log(stepCounter[curr_state][curr_r])/actionCounter[curr_state][curr_r])\n",
    "            return(np.argmax(U+curr_q[curr_state][curr_r]))\n",
    "    \n",
    "#     def actionSelect(curr_state, curr_r, curr_q, eps):\n",
    "#         if(np.random.uniform(0,1) < eps):\n",
    "#             action = np.random.choice(np.arange(8))\n",
    "#         else:\n",
    "#             if(np.all(curr_q[curr_state][curr_r] == np.zeros(8))):\n",
    "#                 action = np.random.choice(np.arange(8))\n",
    "#             else:\n",
    "#                 action = np.argmax(curr_q[curr_state][curr_r])\n",
    "        \n",
    "#         return(action)\n",
    "    \n",
    "    for i in trange(noEpisodes):\n",
    "        env.reset()\n",
    "        curr_state = env.present_state\n",
    "        curr_r = 0\n",
    "        done = False\n",
    "        \n",
    "        total_r = 0\n",
    "        \n",
    "        while(not done):\n",
    "#             print(epsilon[int(min(i, e-1))])\n",
    "            a = UCB_actionSelect(curr_state, curr_r, curr_q, 1, state_step_counter, actionCounter)\n",
    "\n",
    "            (s_new, r, done, _) = env.step(a)\n",
    "            state_step_counter[curr_state][curr_r] += 1\n",
    "            actionCounter[curr_state][curr_r][a] += 1\n",
    "            \n",
    "            total_r += r\n",
    "            \n",
    "            td_target = r\n",
    "            if(not done):\n",
    "                td_target += gamma*np.max(curr_q[int(s_new[0])][int(r)])\n",
    "                \n",
    "            td_error = td_target - curr_q[curr_state][curr_r][a]\n",
    "            \n",
    "#             print(curr_state, a, i)\n",
    "#             print(alpha[int(min(i, al-1))])\n",
    "            curr_q[curr_state][curr_r][a] += alpha[int(min(i, al-1))]*td_error\n",
    "            \n",
    "            curr_state = s_new[0]\n",
    "            curr_r = int(r)\n",
    "        total_rewards.append(total_r)\n",
    "        greedy_reward.append(playEnv(env, GreedyPolicy(curr_q)))\n",
    "\n",
    "    return curr_q, total_rewards, greedy_reward"
   ]
  },
  {
   "cell_type": "markdown",
   "id": "26f267cd",
   "metadata": {},
   "source": [
    "# Training Agent and Experimentation"
   ]
  },
  {
   "cell_type": "code",
   "execution_count": 27,
   "id": "02d6e02a",
   "metadata": {},
   "outputs": [
    {
     "name": "stderr",
     "output_type": "stream",
     "text": [
      "100%|███████████████████████████████████████| 1000/1000 [00:26<00:00, 37.40it/s]\n",
      "100%|███████████████████████████████████████| 1000/1000 [00:31<00:00, 31.71it/s]\n",
      "100%|███████████████████████████████████████| 1000/1000 [00:29<00:00, 34.05it/s]\n",
      "100%|███████████████████████████████████████| 1000/1000 [00:28<00:00, 34.77it/s]\n",
      "100%|███████████████████████████████████████| 1000/1000 [00:27<00:00, 36.81it/s]"
     ]
    },
    {
     "name": "stdout",
     "output_type": "stream",
     "text": [
      "24642\n"
     ]
    },
    {
     "name": "stderr",
     "output_type": "stream",
     "text": [
      "\n"
     ]
    }
   ],
   "source": [
    "#Declaring hyperparameter values\n",
    "gamma = 0.4\n",
    "alpha = 0.05\n",
    "epsilon = 1\n",
    "noEpisodes = 1000\n",
    "\n",
    "\n",
    "\n",
    "envs = EnvClass()\n",
    "env = envs.getBlock(3)         # Training Agent and Experimentation\n",
    "\n",
    "Q_s  = np.zeros((5, 9, 201, 8))\n",
    "rewards = np.zeros((5, noEpisodes))\n",
    "g_rewards = np.zeros((5, noEpisodes))\n",
    "\n",
    "for i in range(5):\n",
    "    np.random.seed(i)\n",
    "    env.reset()\n",
    "\n",
    "    Q, reward, g_reward = q_learning(env, gamma, (alpha, 0.01, 0, noEpisodes, 'exponential'), (epsilon, 0.01, 0, (9*noEpisodes)//10, 'linear'), noEpisodes)\n",
    "\n",
    "    Q_s[i] = Q\n",
    "    rewards[i] = reward\n",
    "    g_rewards[i] = g_reward\n",
    "\n",
    "Q = np.mean(Q_s, axis=0)\n",
    "p = GreedyPolicy(Q)\n",
    "print(playEnv(env, p))"
   ]
  },
  {
   "cell_type": "code",
   "execution_count": 28,
   "id": "1f9e6dee",
   "metadata": {},
   "outputs": [
    {
     "name": "stdout",
     "output_type": "stream",
     "text": [
      "24642\n"
     ]
    }
   ],
   "source": [
    "#Score of final greedy policy\n",
    "Q = np.mean(Q_s, axis=0)\n",
    "p = GreedyPolicy(Q)\n",
    "print(playEnv(env, p))\n",
    "\n",
    "#Uncomment to save rewards per episode, greedy_rewards per episode and final policy\n",
    "# np.savez('./policies/q_learning_ucb_B3_policy.npz', p)\n",
    "# np.savez('./policies/q_learning_ucb_B3_reward.npz', np.mean(rewards, axis=0))\n",
    "# np.savez('./policies/q_learning_ucb_B3_greward.npz', np.mean(g_rewards, axis=0))"
   ]
  },
  {
   "cell_type": "code",
   "execution_count": 9,
   "id": "c8f039df",
   "metadata": {
    "scrolled": false
   },
   "outputs": [
    {
     "data": {
      "text/plain": [
       "[<matplotlib.lines.Line2D at 0x7fb2f707d8b0>]"
      ]
     },
     "execution_count": 9,
     "metadata": {},
     "output_type": "execute_result"
    },
    {
     "data": {
      "image/png": "[encoded data removed]",
      "text/plain": [
       "<Figure size 432x288 with 1 Axes>"
      ]
     },
     "metadata": {
      "needs_background": "light"
     },
     "output_type": "display_data"
    }
   ],
   "source": [
    "#Plot for greedy policy reward per episode averaged over multiple seeds\n",
    "\n",
    "plt.plot(np.mean(g_rewards, axis=0))\n",
    "# plt.savefig('./policies/q_learning_B3.pdf')"
   ]
  },
  {
   "cell_type": "code",
   "execution_count": 26,
   "id": "865c1982",
   "metadata": {},
   "outputs": [
    {
     "data": {
      "text/plain": [
       "[<matplotlib.lines.Line2D at 0x7f000f6cdf10>]"
      ]
     },
     "execution_count": 26,
     "metadata": {},
     "output_type": "execute_result"
    },
    {
     "data": {
      "image/png": "[encoded data removed]",
      "text/plain": [
       "<Figure size 432x288 with 1 Axes>"
      ]
     },
     "metadata": {
      "needs_background": "light"
     },
     "output_type": "display_data"
    }
   ],
   "source": [
    "#Plot for reward per episode averaged over multiple seeds\n",
    "\n",
    "plt.plot(np.mean(rewards, axis=0))"
   ]
  },
  {
   "cell_type": "code",
   "execution_count": 35,
   "id": "d4d0476e",
   "metadata": {},
   "outputs": [],
   "source": [
    "# s = np.load('./policies/sarsa_learning_gamma_04_B2_reward.npz')\n",
    "# # dq = np.load('./policies/double_q_learning_B2_reward.npz')\n",
    "# q = np.load('./policies/q_learning_B2_reward.npz')"
   ]
  },
  {
   "cell_type": "code",
   "execution_count": 33,
   "id": "602bc59f",
   "metadata": {},
   "outputs": [
    {
     "data": {
      "text/plain": [
       "array([  745.8,   818.6,   768.4, ..., 23612.2, 23529.8, 23941.6])"
      ]
     },
     "execution_count": 33,
     "metadata": {},
     "output_type": "execute_result"
    }
   ],
   "source": [
    "# q['arr_0']"
   ]
  },
  {
   "cell_type": "code",
   "execution_count": 36,
   "id": "60d0557b",
   "metadata": {},
   "outputs": [
    {
     "data": {
      "image/png": "[encoded data removed]",
      "text/plain": [
       "<Figure size 432x288 with 1 Axes>"
      ]
     },
     "metadata": {
      "needs_background": "light"
     },
     "output_type": "display_data"
    }
   ],
   "source": [
    "# plt.plot(np.mean(s['arr_0'],  axis=0))\n",
    "# plt.plot(q['arr_0'])\n",
    "# # plt.plot(dq['arr_0'])\n",
    "# plt.savefig('./policies/b2.pdf')"
   ]
  }
 ],
 "metadata": {
  "kernelspec": {
   "display_name": "Python 3 (ipykernel)",
   "language": "python",
   "name": "python3"
  },
  "language_info": {
   "codemirror_mode": {
    "name": "ipython",
    "version": 3
   },
   "file_extension": ".py",
   "mimetype": "text/x-python",
   "name": "python",
   "nbconvert_exporter": "python",
   "pygments_lexer": "ipython3",
   "version": "3.8.8"
  }
 },
 "nbformat": 4,
 "nbformat_minor": 5
}
