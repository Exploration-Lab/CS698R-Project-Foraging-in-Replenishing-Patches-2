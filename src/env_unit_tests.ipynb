{
 "cells": [
  {
   "cell_type": "code",
   "execution_count": 1,
   "source": [
    "import numpy as np\r\n",
    "import gym\r\n",
    "# !pip install -e gym-env"
   ],
   "outputs": [],
   "metadata": {}
  },
  {
   "cell_type": "code",
   "execution_count": 2,
   "source": [
    "np.random.seed(5)\r\n",
    "env = gym.make(\"gym_env:firp-v0\")##This is our environment"
   ],
   "outputs": [],
   "metadata": {}
  },
  {
   "cell_type": "code",
   "execution_count": 3,
   "source": [
    "assert env.action_space.n==8\r\n",
    "assert env.observation_space.n == 9"
   ],
   "outputs": [],
   "metadata": {}
  },
  {
   "cell_type": "code",
   "execution_count": 4,
   "source": [
    "initial_bush_rewards = [70,70,70,70,0,0,0,0]\r\n",
    "repl_rate = [2,2,2,2,0,0,0,0]\r\n",
    "\r\n",
    "env.set_env(initial_bush_rewards, repl_rate)"
   ],
   "outputs": [],
   "metadata": {}
  },
  {
   "cell_type": "code",
   "execution_count": 5,
   "source": [
    "# TEST CASE - 1 : Checking initial setup of environment is correct\r\n",
    "\r\n",
    "def test_case_1(env):\r\n",
    "\r\n",
    "    env.reset()\r\n",
    "\r\n",
    "    assert env.get_curr_state()[0] == 8\r\n",
    "    assert env.get_curr_state()[1] == 0\r\n",
    "    assert np.all(env.get_curr_state()[2] == np.array(initial_bush_rewards, dtype=np.float32))\r\n",
    "    assert env.get_curr_state()[3] == 0\r\n",
    "    \r\n",
    "    print('TEST CASE - 1 : PASSED')"
   ],
   "outputs": [],
   "metadata": {}
  },
  {
   "cell_type": "code",
   "execution_count": 6,
   "source": [
    "#TEST CASE - 2 : Checking time taken for each movement\r\n",
    "\r\n",
    "def test_case_2(env):\r\n",
    "    env.reset()\r\n",
    "    prev_time = 300\r\n",
    "    for i in range(0,8):\r\n",
    "        for j in range(0,8):\r\n",
    "            if(i==j):\r\n",
    "                continue\r\n",
    "            env.reset()\r\n",
    "            prev_time = 300\r\n",
    "            \r\n",
    "            s_new, r, t, _ = env.step(i)\r\n",
    "            assert s_new[0]==i\r\n",
    "            assert r == 0\r\n",
    "            assert s_new[1] == prev_time-(1/(2*np.sin(np.pi/8)))\r\n",
    "            prev_time = s_new[1]\r\n",
    "            \r\n",
    "            s_new, r, t, _ = env.step(j)\r\n",
    "            assert s_new[0] == j\r\n",
    "            assert r == 0 \r\n",
    "            if(abs(i-j)==1 or 8-abs(i-j)==1):\r\n",
    "                assert s_new[1] == prev_time-1\r\n",
    "            elif(abs(i-j)==2 or 8-abs(i-j)==2):\r\n",
    "                assert s_new[1] == prev_time-((2*np.sin(np.pi/4))/(2*np.sin(np.pi/8)))\r\n",
    "            elif(abs(i-j)==3 or 8-abs(i-j)==3):\r\n",
    "                assert s_new[1] == prev_time-((2*np.sin(3*np.pi/8))/(2*np.sin(np.pi/8)))\r\n",
    "            elif(abs(i-j)==4 or 8-abs(i-j)==4):\r\n",
    "                assert s_new[1] == prev_time-((2*np.sin(np.pi/2))/(2*np.sin(np.pi/8)))\r\n",
    "            \r\n",
    "    print('TEST CASE - 2 : PASSED')"
   ],
   "outputs": [],
   "metadata": {}
  },
  {
   "cell_type": "code",
   "execution_count": 7,
   "source": [
    "#TEST CASE - 3 : Checking harvesting reward and replenishment on rewarding bush\r\n",
    "\r\n",
    "\r\n",
    "def test_case_3(env):\r\n",
    "    env.reset()\r\n",
    "    \r\n",
    "    _ = env.step(0)\r\n",
    "    s_new,r,t,_ = env.step(0)\r\n",
    "    assert r == 63\r\n",
    "    assert s_new[0] == 0\r\n",
    "    assert s_new[1] == 300-1-(1/(2*np.sin(np.pi/8)))\r\n",
    "    assert np.all(env.get_curr_state()[2] == np.array([63,72,72,72,0,0,0,0], dtype=np.float32))\r\n",
    "    \r\n",
    "    s_new,r,t,_ = env.step(0)\r\n",
    "    assert r == int(63*0.9)\r\n",
    "    assert s_new[0] == 0\r\n",
    "    assert s_new[1] == 300-2-(1/(2*np.sin(np.pi/8)))\r\n",
    "    assert np.all(env.get_curr_state()[2] == np.array([56,74,74,74,0,0,0,0], dtype=np.float32))\r\n",
    "\r\n",
    "    print('TEST CASE - 3 : PASSED')"
   ],
   "outputs": [],
   "metadata": {}
  },
  {
   "cell_type": "code",
   "execution_count": 8,
   "source": [
    "#TEST CASE - 4 : Checking harvesting reward and replenishment on non-rewarding bush\r\n",
    "\r\n",
    "\r\n",
    "def test_case_4(env):\r\n",
    "    env.reset()\r\n",
    "    \r\n",
    "    _ = env.step(4)\r\n",
    "    s_new,r,t,_ = env.step(4)\r\n",
    "    assert r == 0\r\n",
    "    assert s_new[0] == 4\r\n",
    "    assert s_new[1] == 300-1-(1/(2*np.sin(np.pi/8)))\r\n",
    "    assert np.all(env.get_curr_state()[2] == np.array([70,70,70,70,0,0,0,0], dtype=np.float32))\r\n",
    "    \r\n",
    "    print('TEST CASE - 4 : PASSED')"
   ],
   "outputs": [],
   "metadata": {}
  },
  {
   "cell_type": "code",
   "execution_count": 9,
   "source": [
    "# TEST CASE - 5 : Checking termination and replenishment limits\r\n",
    "\r\n",
    "def test_case_5(env):\r\n",
    "    env.reset()\r\n",
    "    \r\n",
    "    s_new,r,t,_ = env.step(0)\r\n",
    "    \r\n",
    "    for i in range(299):\r\n",
    "        s_new,r,t,_ = env.step(0)\r\n",
    "        \r\n",
    "        if(i >= 64):\r\n",
    "            assert np.all(env.get_curr_state()[2][1:] == np.array([200,200,200,0,0,0,0], dtype=np.float32))\r\n",
    "        \r\n",
    "        if(i==298):\r\n",
    "            assert t == True\r\n",
    "            assert s_new[1]==0\r\n",
    "        else:\r\n",
    "            assert t==False\r\n",
    "            assert s_new[1]>0\r\n",
    "        assert s_new[0] == 0\r\n",
    "    \r\n",
    "    print('TEST CASE - 5 : PASSED')"
   ],
   "outputs": [],
   "metadata": {}
  },
  {
   "cell_type": "code",
   "execution_count": 10,
   "source": [
    "test_case_1(env)\r\n",
    "test_case_2(env)\r\n",
    "test_case_3(env)\r\n",
    "test_case_4(env)\r\n",
    "test_case_5(env)"
   ],
   "outputs": [
    {
     "output_type": "stream",
     "name": "stdout",
     "text": [
      "TEST CASE - 1 : PASSED\n",
      "TEST CASE - 2 : PASSED\n",
      "TEST CASE - 3 : PASSED\n",
      "TEST CASE - 4 : PASSED\n",
      "TEST CASE - 5 : PASSED\n"
     ]
    }
   ],
   "metadata": {}
  }
 ],
 "metadata": {
  "interpreter": {
   "hash": "73e03da126b73bfff3642ec5261d56fa25c444ea595de51041687efaa60dda41"
  },
  "kernelspec": {
   "name": "python3",
   "display_name": "Python 3.8.8 64-bit ('base': conda)"
  },
  "language_info": {
   "codemirror_mode": {
    "name": "ipython",
    "version": 3
   },
   "file_extension": ".py",
   "mimetype": "text/x-python",
   "name": "python",
   "nbconvert_exporter": "python",
   "pygments_lexer": "ipython3",
   "version": "3.8.8"
  }
 },
 "nbformat": 4,
 "nbformat_minor": 2
}