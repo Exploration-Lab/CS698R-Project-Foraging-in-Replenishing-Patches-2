{
 "cells": [
  {
   "cell_type": "code",
   "execution_count": 65,
   "metadata": {
    "collapsed": true,
    "id": "HTVOjcYpPX--",
    "jupyter": {
     "outputs_hidden": true
    },
    "tags": []
   },
   "outputs": [
    {
     "name": "stdout",
     "output_type": "stream",
     "text": [
      "Obtaining file:///C:/Users/welcome/Downloads/Foraging_in_replenishing_patches-master%20%285%29/Foraging_in_replenishing_patches-master/gym-env\n",
      "Requirement already satisfied: gym in c:\\users\\welcome\\downloads\\foraging_in_replenishing_patches-master (5)\\venv\\lib\\site-packages (from gym-env==0.0.1) (0.21.0)\n",
      "Requirement already satisfied: cloudpickle>=1.2.0 in c:\\users\\welcome\\downloads\\foraging_in_replenishing_patches-master (5)\\venv\\lib\\site-packages (from gym->gym-env==0.0.1) (2.0.0)\n",
      "Requirement already satisfied: numpy>=1.18.0 in c:\\users\\welcome\\downloads\\foraging_in_replenishing_patches-master (5)\\venv\\lib\\site-packages (from gym->gym-env==0.0.1) (1.21.4)\n",
      "Installing collected packages: gym-env\n",
      "  Attempting uninstall: gym-env\n",
      "    Found existing installation: gym-env 0.0.1"
     ]
    },
    {
     "name": "stderr",
     "output_type": "stream",
     "text": [
      "WARNING: You are using pip version 21.1.2; however, version 21.3.1 is available.\n",
      "You should consider upgrading via the 'C:\\Users\\welcome\\Downloads\\Foraging_in_replenishing_patches-master (5)\\venv\\Scripts\\python.exe -m pip install --upgrade pip' command.\n"
     ]
    },
    {
     "name": "stdout",
     "output_type": "stream",
     "text": [
      "\n",
      "    Uninstalling gym-env-0.0.1:\n",
      "      Successfully uninstalled gym-env-0.0.1\n",
      "  Running setup.py develop for gym-env\n",
      "Successfully installed gym-env-0.0.1\n"
     ]
    }
   ],
   "source": [
    "!pip install -e gym-env"
   ]
  },
  {
   "cell_type": "code",
   "execution_count": 10,
   "metadata": {},
   "outputs": [],
   "source": [
    "import numpy as np\n",
    "from blocks import EnvClass\n",
    "import pygame\n",
    "import numpy as np\n",
    "import gym\n",
    "import time"
   ]
  },
  {
   "cell_type": "code",
   "execution_count": null,
   "metadata": {},
   "outputs": [],
   "source": [
    "# enter path of the policy \n",
    "policy_path = 'policies/q_learning_B2_policy.npz'\n",
    "d = np.load(policy_path)"
   ]
  },
  {
   "cell_type": "code",
   "execution_count": 14,
   "metadata": {},
   "outputs": [],
   "source": [
    "np.random.seed(5)\n",
    "envs = EnvClass()\n",
    "env_b1 = envs.getBlock(1)\n",
    "env_b2 = envs.getBlock(2)\n",
    "env_b3 = envs.getBlock(3)\n",
    "\n",
    "env = env_b3 # change environment to be used according to the policy used \n",
    "\n",
    "env.reset()"
   ]
  },
  {
   "cell_type": "code",
   "execution_count": null,
   "metadata": {
    "id": "HD_gPAJ3Pd-L"
   },
   "outputs": [],
   "source": [
    "pygame.init()\n",
    "\n",
    "def rmse(predictions, targets):\n",
    "    # compute the distance between different bushes \n",
    "    predictions = np.array([predictions[0],predictions[1]])\n",
    "    targets = np.array([targets[0],targets[1]])\n",
    "    return np.sqrt(((predictions - targets) ** 2).sum())\n",
    "\n",
    "# dict with dictionary of coordinates of 8 bushes along with center start location \n",
    "coord = {       \n",
    "    0: (350, 250),\n",
    "    1: (321, 321), \n",
    "    2: (250, 350),\n",
    "    3: (179, 321),\n",
    "    4: (150, 250),\n",
    "    5: (179, 179),\n",
    "    6: (250, 150),\n",
    "    7: (321, 179),\n",
    "    8: (250, 250)\n",
    "}\n",
    "\n",
    "# init pygames \n",
    "screen = pygame.display.set_mode([500, 500])\n",
    "font1 = pygame.font.SysFont('arial', 15)\n",
    "running = True\n",
    "# init gym env \n",
    "last_state = 8 \n",
    "i = 0 \n",
    "r = 0 \n",
    "state = 8\n",
    "action = int(d['arr_0'][int(state)][0])\n",
    "\n",
    "\n",
    "while running:\n",
    "    \n",
    "    r_0 = font1.render(str(round(env.get_curr_state()[2][0])), True, (0, 0, 255))\n",
    "    r_1 = font1.render(str(round(env.get_curr_state()[2][1])), True, (0, 0, 255))\n",
    "    r_2 = font1.render(str(round(env.get_curr_state()[2][2])), True, (0, 0, 255))\n",
    "    r_3 = font1.render(str(round(env.get_curr_state()[2][3])), True, (0, 0, 255))\n",
    "    r_4 = font1.render(str(round(env.get_curr_state()[2][4])), True, (0, 0, 255))\n",
    "    r_5 = font1.render(str(round(env.get_curr_state()[2][5])), True, (0, 0, 255))\n",
    "    r_6 = font1.render(str(round(env.get_curr_state()[2][6])), True, (0, 0, 255))\n",
    "    r_7 = font1.render(str(round(env.get_curr_state()[2][7])), True, (0, 0, 255))\n",
    "\n",
    "    if int(env.get_curr_state()[0])!=last_state:\n",
    "        r = int(rmse(coord[last_state],  coord[int(env.get_curr_state()[0])]))\n",
    "        initial_x = coord[last_state][0]\n",
    "        final_x = coord[int(env.get_curr_state()[0])][0]\n",
    "        initial_y = coord[last_state][1]\n",
    "        final_y = coord[int(env.get_curr_state()[0])][1]\n",
    "        rate_x = (final_x - initial_x)/r\n",
    "        rate_y = (final_y - initial_y)/r\n",
    "        i=0\n",
    "        while True:\n",
    "            screen.fill((255, 255, 255)) \n",
    "            pygame.draw.circle(screen, (0,128,0), coord[8], 1)\n",
    "            pygame.draw.circle(screen, (0,128,0), coord[0], 15) \n",
    "            pygame.draw.circle(screen, (0,128,0), coord[1], 15) \n",
    "            pygame.draw.circle(screen, (0,128,0), coord[2], 15)\n",
    "            pygame.draw.circle(screen, (0,128,0), coord[3], 15)\n",
    "            pygame.draw.circle(screen, (0,128,0), coord[4], 15)\n",
    "            pygame.draw.circle(screen, (0,128,0), coord[5], 15)\n",
    "            pygame.draw.circle(screen, (0,128,0), coord[6], 15)\n",
    "            pygame.draw.circle(screen, (0,128,0), coord[7], 15)\n",
    "            screen.blit(r_0, dest=(coord[0][0]+25,coord[0][1]-10))\n",
    "            screen.blit(r_1, dest=(coord[1][0]+15,coord[1][1]+15))\n",
    "            screen.blit(r_2, dest=(coord[2][0]-10,coord[2][1]+25))\n",
    "            screen.blit(r_3, dest=(coord[3][0]-25,coord[3][1]+25))\n",
    "            screen.blit(r_4, dest=(coord[4][0]-40,coord[4][1]-10))\n",
    "            screen.blit(r_5, dest=(coord[5][0]-35,coord[5][1]-35))\n",
    "            screen.blit(r_6, dest=(coord[6][0]-10,coord[6][1]-40))\n",
    "            screen.blit(r_7, dest=(coord[7][0]+25,coord[7][1]-25))\n",
    "            screen.blit(font1.render('Time elasped: '+ str(env.get_curr_state()[1])[:4] + '   Collected Rewards: '+ str(round(env.get_curr_state()[3])), True, (0, 0, 255)), dest=(130,30))\n",
    "            pygame.draw.circle(screen, (235,0,0), (coord[last_state][0]+i*rate_x,coord[last_state][1]+i*rate_y), 7)\n",
    "            pygame.display.flip()\n",
    "            #time.sleep(0.01)\n",
    "            i+=1\n",
    "            if i==(r+1):\n",
    "                break \n",
    "            \n",
    "    else:\n",
    "        screen.fill((255, 255, 255)) \n",
    "        pygame.draw.circle(screen, (0,128,0), coord[8], 1)\n",
    "        pygame.draw.circle(screen, (0,128,0), coord[0], 15) \n",
    "        pygame.draw.circle(screen, (0,128,0), coord[1], 15) \n",
    "        pygame.draw.circle(screen, (0,128,0), coord[2], 15)\n",
    "        pygame.draw.circle(screen, (0,128,0), coord[3], 15)\n",
    "        pygame.draw.circle(screen, (0,128,0), coord[4], 15)\n",
    "        pygame.draw.circle(screen, (0,128,0), coord[5], 15)\n",
    "        pygame.draw.circle(screen, (0,128,0), coord[6], 15)\n",
    "        pygame.draw.circle(screen, (0,128,0), coord[7], 15)\n",
    "        pygame.draw.circle(screen, (235,0,0), coord[int(env.get_curr_state()[0])], 7)\n",
    "        \n",
    "    last_state = int(env.get_curr_state()[0])\n",
    "\n",
    "    \n",
    "    screen.blit(r_0, dest=(coord[0][0]+25,coord[0][1]-10))\n",
    "    screen.blit(r_1, dest=(coord[1][0]+15,coord[1][1]+15))\n",
    "    screen.blit(r_2, dest=(coord[2][0]-10,coord[2][1]+25))\n",
    "    screen.blit(r_3, dest=(coord[3][0]-25,coord[3][1]+25))\n",
    "    screen.blit(r_4, dest=(coord[4][0]-40,coord[4][1]-10))\n",
    "    screen.blit(r_5, dest=(coord[5][0]-35,coord[5][1]-35))\n",
    "    screen.blit(r_6, dest=(coord[6][0]-10,coord[6][1]-40))\n",
    "    screen.blit(r_7, dest=(coord[7][0]+25,coord[7][1]-25))\n",
    "    screen.blit(font1.render('Time elasped: '+ str(env.get_curr_state()[1])[:4] + '   Collected Rewards: '+ str(round(env.get_curr_state()[3])), True, (0, 0, 255)), dest=(130,30))\n",
    "    pygame.display.flip()\n",
    "    \n",
    "    time.sleep(0.5)\n",
    "    s_new, r, t, _ = env.step(action)\n",
    "    state = s_new[0]\n",
    "    action = int(d['arr_0'][int(state)][int(r)]) # select actions based on reward and state\n",
    "    \n",
    "pygame.quit()"
   ]
  },
  {
   "cell_type": "code",
   "execution_count": null,
   "metadata": {},
   "outputs": [],
   "source": []
  }
 ],
 "metadata": {
  "colab": {
   "name": "rendering.ipynb",
   "provenance": []
  },
  "kernelspec": {
   "display_name": "Python 3 (ipykernel)",
   "language": "python",
   "name": "python3"
  },
  "language_info": {
   "codemirror_mode": {
    "name": "ipython",
    "version": 3
   },
   "file_extension": ".py",
   "mimetype": "text/x-python",
   "name": "python",
   "nbconvert_exporter": "python",
   "pygments_lexer": "ipython3",
   "version": "3.9.5"
  }
 },
 "nbformat": 4,
 "nbformat_minor": 4
}
