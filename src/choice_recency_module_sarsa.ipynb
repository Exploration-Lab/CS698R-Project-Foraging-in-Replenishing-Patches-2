{
 "cells": [
  {
   "cell_type": "markdown",
   "metadata": {},
   "source": [
    "1.  This notebook include code and experimentation for 'choice recency module' with sarsa, for explanation see slides or report.\n",
    "\n",
    "2.  Updated normal softmax action select such that it incorporated the choice and coefficient b.\n",
    "\n",
    "3.  the algo uses the working memory module to learn the replenishment rates which are used to calculate b."
   ]
  },
  {
   "cell_type": "code",
   "execution_count": 14,
   "metadata": {},
   "outputs": [
    {
     "name": "stdout",
     "output_type": "stream",
     "text": [
      "Defaulting to user installation because normal site-packages is not writeable\n",
      "Obtaining file:///home/kabhay/Documents/courses/RL_project/Foraging_in_replenishing_patches/gym-env\n",
      "Requirement already satisfied: gym in /home/kabhay/.local/lib/python3.8/site-packages (from gym-env==0.0.1) (0.19.0)\n",
      "Requirement already satisfied: cloudpickle<1.7.0,>=1.2.0 in /home/kabhay/.local/lib/python3.8/site-packages (from gym->gym-env==0.0.1) (1.6.0)\n",
      "Requirement already satisfied: numpy>=1.18.0 in /home/kabhay/.local/lib/python3.8/site-packages (from gym->gym-env==0.0.1) (1.20.0)\n",
      "Installing collected packages: gym-env\n",
      "  Attempting uninstall: gym-env\n",
      "    Found existing installation: gym-env 0.0.1\n",
      "    Uninstalling gym-env-0.0.1:\n",
      "      Successfully uninstalled gym-env-0.0.1\n",
      "  Running setup.py develop for gym-env\n",
      "Successfully installed gym-env-0.0.1\n",
      "\u001b[33mWARNING: You are using pip version 21.2.4; however, version 21.3.1 is available.\n",
      "You should consider upgrading via the '/usr/bin/python3 -m pip install --upgrade pip' command.\u001b[0m\n"
     ]
    }
   ],
   "source": [
    "!pip3 install -e gym-env"
   ]
  },
  {
   "cell_type": "code",
   "execution_count": 15,
   "metadata": {},
   "outputs": [],
   "source": [
    "import gym\n",
    "from gym import error, spaces, utils\n",
    "import numpy as np\n",
    "import math\n",
    "import pandas as pd\n",
    "from matplotlib import pyplot as plt\n",
    "import matplotlib"
   ]
  },
  {
   "cell_type": "code",
   "execution_count": 16,
   "metadata": {},
   "outputs": [],
   "source": [
    "from blocks import EnvClass"
   ]
  },
  {
   "cell_type": "code",
   "execution_count": 17,
   "metadata": {},
   "outputs": [],
   "source": [
    "def playEnv(env,policy):\n",
    "    \n",
    "    env.reset()\n",
    "    \n",
    "    s = env.present_state\n",
    "    \n",
    "    done = False\n",
    "\n",
    "    a = int(policy[s][0])\n",
    "\n",
    "    cur_reward = 0\n",
    "\n",
    "    while not done:\n",
    "\n",
    "        out = env.step(a)\n",
    "\n",
    "        (s_prime,t),r,done,_ = out\n",
    "        \n",
    "        cur_reward += r\n",
    "        a = int(policy[int(s_prime)][int(r)])\n",
    "        \n",
    "    return cur_reward"
   ]
  },
  {
   "cell_type": "code",
   "execution_count": 18,
   "metadata": {},
   "outputs": [],
   "source": [
    "def decayEpsilon(eps,noEpisodes,decayUntil,min_eps=0.01,decayType='linear'):\n",
    "    \n",
    "    epsilons = np.empty(noEpisodes)\n",
    "    \n",
    "    epsilons.fill(min_eps)\n",
    "    \n",
    "    if decayType == 'linear':\n",
    "        \n",
    "        rate = (eps - min_eps) / decayUntil\n",
    "        \n",
    "        for i in range(decayUntil+1):\n",
    "            epsilons[i] = eps - i*rate\n",
    "    \n",
    "    else :\n",
    "        \n",
    "        rate = (eps/min_eps)** (1/decayUntil)\n",
    "        \n",
    "        for i in range(decayUntil+1):\n",
    "            epsilons[i] = eps * (rate**i)\n",
    "\n",
    "    \n",
    "    return epsilons"
   ]
  },
  {
   "cell_type": "code",
   "execution_count": 19,
   "metadata": {},
   "outputs": [],
   "source": [
    "def decayAlpha(alpha, noEpisodes,maxSteps,final_alpha = 0.01,decayType='linear'):\n",
    "    \n",
    "    alphas = [float(final_alpha)] * noEpisodes\n",
    "    \n",
    "    if decayType == 'linear':\n",
    "        \n",
    "        rate = (alpha - final_alpha) / maxSteps\n",
    "        \n",
    "        for i in range(maxSteps+1):\n",
    "            alphas[i] = alpha - i*rate\n",
    "    \n",
    "    else :\n",
    "        \n",
    "        rate = (final_alpha/alpha)** (1/maxSteps)\n",
    "        \n",
    "        for i in range(maxSteps+1):\n",
    "            alphas[i] = alpha * (rate**i)\n",
    "    \n",
    "    return alphas"
   ]
  },
  {
   "cell_type": "code",
   "execution_count": 20,
   "metadata": {},
   "outputs": [],
   "source": [
    "def actionSelect(s,r,Q,eps):\n",
    "    \n",
    "    q = Q[s][r]\n",
    "    \n",
    "    if np.random.rand() > eps:\n",
    "        a = np.random.choice(np.where(q == q.max())[0])\n",
    "    else :\n",
    "        a = np.random.randint(0,len(q))\n",
    "    \n",
    "    return a"
   ]
  },
  {
   "cell_type": "code",
   "execution_count": 21,
   "metadata": {},
   "outputs": [],
   "source": [
    "def GreedyPolicy(Q):\n",
    "    \n",
    "    pi = np.zeros((Q.shape[0],Q.shape[1]))\n",
    "    \n",
    "    for s in range(Q.shape[0]):\n",
    "        \n",
    "        for r in range(Q.shape[1]):\n",
    "            \n",
    "            q = Q[s][r]\n",
    "\n",
    "            #simple_argmax\n",
    "\n",
    "            a = np.argmax(q)\n",
    "\n",
    "            #a = np.random.choice(np.where(q == q.max())[0])\n",
    "\n",
    "            pi[s][r] = int(a)\n",
    "        \n",
    "    return pi"
   ]
  },
  {
   "cell_type": "code",
   "execution_count": 22,
   "metadata": {},
   "outputs": [],
   "source": [
    "from tqdm import tqdm"
   ]
  },
  {
   "cell_type": "markdown",
   "metadata": {},
   "source": [
    "### CHOICE RECENCY MODULE"
   ]
  },
  {
   "cell_type": "code",
   "execution_count": 146,
   "metadata": {},
   "outputs": [],
   "source": [
    "def playCustomEnv(env,Q,b):\n",
    "    \n",
    "    env.reset()\n",
    "    \n",
    "    \n",
    "    def decayChoice(choice,s,r,chosen_action):\n",
    "        choice[s][r] = choice[s][r] * 0.7\n",
    "        choice[s][r][chosen_action] = 1 \n",
    "        \n",
    "    s = env.present_state\n",
    "    \n",
    "    done = False\n",
    "\n",
    "    choice  = 10* np.ones((9,201,8))\n",
    "    \n",
    "    curr_state = s\n",
    "    \n",
    "    a = np.argmax((Q[curr_state][0] + b[curr_state] * choice[curr_state][0]))\n",
    "\n",
    "    cur_reward = 0\n",
    "\n",
    "    while not done:\n",
    "\n",
    "        out = env.step(a)\n",
    "        \n",
    "        (s_prime,t),r,done,_ = out\n",
    "        \n",
    "        decayChoice(choice,s,r,a)\n",
    "        \n",
    "        cur_reward += r\n",
    "        \n",
    "        a = np.argmax((Q[s_prime][r] + b[s_prime] * choice[s_prime][r]))\n",
    "        \n",
    "        s = s_prime\n",
    "        \n",
    "    return cur_reward\n",
    "    "
   ]
  },
  {
   "cell_type": "code",
   "execution_count": 35,
   "metadata": {},
   "outputs": [],
   "source": [
    "\n",
    "def softmax_actionSelect(curr_state,curr_r,Q,choice,tau,b,e):\n",
    "    \n",
    "    val = (Q[curr_state][curr_r] + b[curr_state] * choice[curr_state][curr_r])/tau\n",
    "    \n",
    "    probs = np.exp(val)/np.sum(np.exp(val))\n",
    "    \n",
    "    a = np.random.choice(8,p=probs)\n",
    "    \n",
    "    return a"
   ]
  },
  {
   "cell_type": "code",
   "execution_count": 312,
   "metadata": {},
   "outputs": [],
   "source": [
    "\n",
    "def Softmax_SARSA(env,taus,gamma,alpha,noEpisodes,epsilons = [0]) :\n",
    "    \n",
    "    n_states = env.observation_space.n\n",
    "    n_actions = env.action_space.n\n",
    "    \n",
    "    \n",
    "    Q = np.zeros((n_states,201,n_actions))\n",
    "    \n",
    "    if epsilons[0] == 0:\n",
    "        epsilons = decayEpsilon(1,noEpisodes,noEpisodes,min_eps = 0.1, decayType = 'linear')\n",
    "        \n",
    "    alphas = decayAlpha(alpha,noEpisodes,int(3*noEpisodes/4) ,final_alpha = 0.02 ,decayType = 'linear')\n",
    "    \n",
    "    \n",
    "    \n",
    "    rewards = np.zeros((noEpisodes)) \n",
    "    greedy_rewards = np.zeros((noEpisodes))\n",
    "\n",
    "    \n",
    "    replenishing_rate = np.zeros(8)\n",
    "    \n",
    "    def decayChoice(choice,s,r,chosen_action):\n",
    "        choice[s][r] = choice[s][r] * 0.7\n",
    "        choice[s][r][chosen_action] = 1 \n",
    "        \n",
    "    def estimate_b(replenishing_rate,b):\n",
    "        \n",
    "        for i in range(8):\n",
    "            \n",
    "            if replenishing_rate[i] > 0:  \n",
    "                b[i] = replenishing_rate[i] / np.min(replenishing_rate[replenishing_rate> 0]) \n",
    "            \n",
    "            else :\n",
    "                b[i] = -1\n",
    "            \n",
    "        \n",
    "    for e in tqdm(range(noEpisodes)):\n",
    "        \n",
    "        cur_alpha = alphas[e]\n",
    "        env.reset()\n",
    "        s = env.present_state\n",
    "        done = False\n",
    "        \n",
    "        tau = taus[e]\n",
    "        \n",
    "        choice = 10*np.ones((n_states,201,n_actions))\n",
    "        b = np.zeros(9)\n",
    "        \n",
    "        a = softmax_actionSelect(s,0,Q,choice,tau,b,e)\n",
    "    \n",
    "        eps_reward = 0\n",
    "\n",
    "        r = 0\n",
    "        \n",
    "        time = 0\n",
    "        flag = 0\n",
    "        \n",
    "        last_returned_reward = np.zeros(8)\n",
    "        last_visit_time = np.zeros(8)\n",
    "        \n",
    "        while not done:\n",
    "\n",
    "            out = env.step(a)\n",
    "            \n",
    "            \n",
    "            \n",
    "            (s_prime,t),r_new,done,_ = out\n",
    "            \n",
    "            s_new = [s_prime,t]\n",
    "            curr_state = s\n",
    "            \n",
    "            time = 300-s_new[1]\n",
    "\n",
    "            if(flag):\n",
    "                if(s_new[0]== curr_state):\n",
    "                    if(r_new > last_returned_reward[s_new[0]] and last_visit_time[curr_state]!=0):\n",
    "                        temp = 0.6*replenishing_rate[s_new[0]] + 0.4*(max(r_new-last_returned_reward[s_new[0]], 0)/(time - last_visit_time[s_new[0]]))\n",
    "                        replenishing_rate[s_new[0]] = temp\n",
    "                    \n",
    "                    last_visit_time[curr_state] = time\n",
    "\n",
    "                flag = 0\n",
    "\n",
    "            if(time - last_visit_time[s_new[0]]>1):\n",
    "                flag = 1\n",
    "\n",
    "            if(flag ==0):    \n",
    "                last_visit_time[s_new[0]] = time\n",
    "                last_returned_reward[s_new[0]] = r_new\n",
    "            \n",
    "            decayChoice(choice,s,r,a)\n",
    "            eps_reward += r_new\n",
    "            \n",
    "            estimate_b(replenishing_rate,b)\n",
    "            \n",
    "            a_prime = softmax_actionSelect(s_prime,int(r_new),Q,choice,tau,b,e)\n",
    "            \n",
    "            td_target = r_new\n",
    "            \n",
    "            if not done :\n",
    "                td_target += gamma * Q[s_prime][int(r_new)][a_prime]\n",
    "                \n",
    "            td_error = td_target - Q[s][int(r)][a]\n",
    "                \n",
    "            Q[s][int(r)][a] = Q[s][int(r)][a] + cur_alpha * td_error\n",
    "            \n",
    "            s = s_prime\n",
    "            \n",
    "            a = a_prime\n",
    "            \n",
    "            r = r_new\n",
    "            \n",
    "#         print(replenishing_rate)\n",
    "            \n",
    "        rewards[e] = eps_reward\n",
    "        greedy_rewards[e] = playCustomEnv(env,Q,b)\n",
    "    \n",
    "    pi = GreedyPolicy(Q)\n",
    "    \n",
    "    return Q,pi,rewards,greedy_rewards,b,replenishing_rate\n",
    "    "
   ]
  },
  {
   "cell_type": "markdown",
   "metadata": {},
   "source": [
    "## Experimentation"
   ]
  },
  {
   "cell_type": "code",
   "execution_count": 313,
   "metadata": {},
   "outputs": [],
   "source": [
    "envs = EnvClass()"
   ]
  },
  {
   "cell_type": "markdown",
   "metadata": {},
   "source": [
    "### Block 1"
   ]
  },
  {
   "cell_type": "code",
   "execution_count": 190,
   "metadata": {},
   "outputs": [],
   "source": [
    "env_b1 = envs.getBlock(1)\n",
    "num_seeds = 3\n",
    "\n",
    "n_states = 9\n",
    "n_actions = 8\n",
    "\n",
    "alpha = 0.5\n",
    "gamma = 0.4\n",
    "noEpisodes = 10000\n",
    "tau_i = 1000\n",
    "tau_f = 10\n",
    "lin_r = (tau_f - tau_i) / (noEpisodes-1)\n",
    "exp_r = (tau_f/tau_i)**(1/(noEpisodes-1))\n",
    "taus = [ tau_i*(exp_r**i) for i in range(noEpisodes)]\n",
    "# taus = [ tau_i+i*lin_r  for i in range(noEpisodes)]\n",
    "\n",
    "\n",
    "Q_ = np.zeros((num_seeds, n_states,201,n_actions)) \n",
    "sof_rewards_ = np.zeros((num_seeds,noEpisodes))\n",
    "sof_greedy_ = np.zeros((num_seeds,noEpisodes))\n",
    "b_ = np.zeros((num_seeds,9))\n",
    "rep_rates = np.zeros((num_seeds,8))"
   ]
  },
  {
   "cell_type": "code",
   "execution_count": 191,
   "metadata": {},
   "outputs": [
    {
     "name": "stderr",
     "output_type": "stream",
     "text": [
      "100%|██████████| 10000/10000 [02:58<00:00, 56.09it/s]\n",
      "100%|██████████| 10000/10000 [03:02<00:00, 54.66it/s]\n",
      "100%|██████████| 10000/10000 [03:14<00:00, 51.47it/s]\n"
     ]
    }
   ],
   "source": [
    "for i in range(num_seeds):    \n",
    "    np.random.seed(10*(i+1))\n",
    "    epsilons = np.ones((noEpisodes))\n",
    "    Q_[i],pi1,sof_rewards_[i],sof_greedy_[i],b_[i],rep_rates[i] = Softmax_SARSA(env_b1,taus,gamma,alpha,noEpisodes,epsilons)"
   ]
  },
  {
   "cell_type": "code",
   "execution_count": 192,
   "metadata": {},
   "outputs": [],
   "source": [
    "sof_avg_rewards = np.mean(sof_rewards_,axis = 0)"
   ]
  },
  {
   "cell_type": "code",
   "execution_count": 193,
   "metadata": {},
   "outputs": [],
   "source": [
    "sof_avg_greedy = np.mean(sof_greedy_,axis = 0)"
   ]
  },
  {
   "cell_type": "code",
   "execution_count": 194,
   "metadata": {},
   "outputs": [],
   "source": [
    "Q_avg = np.mean(Q_,axis = 0)"
   ]
  },
  {
   "cell_type": "code",
   "execution_count": 195,
   "metadata": {},
   "outputs": [],
   "source": [
    "sof_pi_ = GreedyPolicy(Q_avg)"
   ]
  },
  {
   "cell_type": "code",
   "execution_count": 196,
   "metadata": {
    "scrolled": true
   },
   "outputs": [
    {
     "data": {
      "text/plain": [
       "19116"
      ]
     },
     "execution_count": 196,
     "metadata": {},
     "output_type": "execute_result"
    }
   ],
   "source": [
    "playEnv(env_b1,sof_pi_)"
   ]
  },
  {
   "cell_type": "code",
   "execution_count": 201,
   "metadata": {},
   "outputs": [
    {
     "data": {
      "text/plain": [
       "(array([[0.        , 2.08458016, 1.79121401, 0.        , 1.84442298,\n",
       "         0.        , 2.23053903, 0.        ],\n",
       "        [0.        , 1.86220285, 1.743757  , 0.        , 1.41912924,\n",
       "         0.        , 1.87670128, 0.        ],\n",
       "        [0.        , 2.39137876, 2.24000997, 0.        , 2.40341782,\n",
       "         0.        , 2.34882097, 0.        ]]),\n",
       " array([[-1.,  1.,  1., -1.,  1., -1.,  1., -1.,  0.],\n",
       "        [-1.,  1.,  1., -1.,  1., -1.,  1., -1.,  0.],\n",
       "        [-1.,  1.,  1., -1.,  1., -1.,  1., -1.,  0.]]))"
      ]
     },
     "execution_count": 201,
     "metadata": {},
     "output_type": "execute_result"
    }
   ],
   "source": [
    "rep_rates,b_"
   ]
  },
  {
   "cell_type": "code",
   "execution_count": 206,
   "metadata": {},
   "outputs": [
    {
     "data": {
      "text/plain": [
       "21743"
      ]
     },
     "execution_count": 206,
     "metadata": {},
     "output_type": "execute_result"
    }
   ],
   "source": [
    "# b = [-1,  1,  1, -1,  1, -1,  1, -1,  0.]\n",
    "playCustomEnv(env_b1,Q_avg,b_[0])"
   ]
  },
  {
   "cell_type": "code",
   "execution_count": 205,
   "metadata": {
    "scrolled": true
   },
   "outputs": [
    {
     "name": "stdout",
     "output_type": "stream",
     "text": [
      "18472\n",
      "19268\n",
      "19678\n"
     ]
    }
   ],
   "source": [
    "for i in range(num_seeds):\n",
    "    print(playCustomEnv(env_b1,Q_[i],b_[i]))"
   ]
  },
  {
   "cell_type": "code",
   "execution_count": 202,
   "metadata": {},
   "outputs": [
    {
     "data": {
      "text/plain": [
       "Text(0.5, 1.0, 'SARSA reward for block 1')"
      ]
     },
     "execution_count": 202,
     "metadata": {},
     "output_type": "execute_result"
    },
    {
     "data": {
      "image/png": "[encoded data removed]",
      "text/plain": [
       "<Figure size 864x576 with 1 Axes>"
      ]
     },
     "metadata": {
      "needs_background": "light"
     },
     "output_type": "display_data"
    }
   ],
   "source": [
    "plt.figure(figsize=(12,8))\n",
    "plt.plot(sof_avg_rewards)\n",
    "plt.xlabel(\"episodes\")\n",
    "plt.ylabel(\"rewards\")\n",
    "plt.title(\"SARSA reward for block 1\")"
   ]
  },
  {
   "cell_type": "code",
   "execution_count": 203,
   "metadata": {},
   "outputs": [
    {
     "data": {
      "text/plain": [
       "Text(0.5, 1.0, 'SARSA reward for block 1')"
      ]
     },
     "execution_count": 203,
     "metadata": {},
     "output_type": "execute_result"
    },
    {
     "data": {
      "image/png": "[encoded data removed]",
      "text/plain": [
       "<Figure size 864x576 with 1 Axes>"
      ]
     },
     "metadata": {
      "needs_background": "light"
     },
     "output_type": "display_data"
    }
   ],
   "source": [
    "plt.figure(figsize=(12,8))\n",
    "plt.plot(sof_avg_greedy)\n",
    "plt.xlabel(\"episodes\")\n",
    "plt.ylabel(\"rewards\")\n",
    "plt.title(\"SARSA reward for block 1\")"
   ]
  },
  {
   "cell_type": "code",
   "execution_count": 2,
   "metadata": {},
   "outputs": [],
   "source": [
    "# saving files"
   ]
  },
  {
   "cell_type": "code",
   "execution_count": 207,
   "metadata": {},
   "outputs": [],
   "source": [
    "np.savez('./policies/sarsa/sarsa_learning_choice_04_B1_sof_reward.npz', sof_rewards_)\n",
    "np.savez('./policies/sarsa/sarsa_learning_choice_04_B1_sof_greedy.npz', sof_greedy_)\n",
    "np.savez('./policies/sarsa/sarsa_learning_choice_04_B1_Q.npz', Q_)\n",
    "np.savez('./policies/sarsa/sarsa_learning_choice_04_B1_rep_rates.npz', rep_rates)"
   ]
  },
  {
   "cell_type": "markdown",
   "metadata": {},
   "source": [
    "### Block2"
   ]
  },
  {
   "cell_type": "code",
   "execution_count": 387,
   "metadata": {},
   "outputs": [],
   "source": [
    "env_b2 = envs.getBlock(2)\n",
    "num_seeds = 3\n",
    "\n",
    "n_states = 9\n",
    "n_actions = 8\n",
    "\n",
    "alpha = 0.5\n",
    "gamma = 0.3\n",
    "noEpisodes = 1000\n",
    "tau_i = 1000\n",
    "tau_f = 10\n",
    "lin_r = (tau_f - tau_i) / (noEpisodes-1)\n",
    "exp_r = (tau_f/tau_i)**(1/(noEpisodes-1))\n",
    "taus = [ tau_i*(exp_r**i) for i in range(noEpisodes)]\n",
    "# taus = [ tau_i+i*lin_r  for i in range(noEpisodes)]\n",
    "\n",
    "\n",
    "Q_ = np.zeros((num_seeds, n_states,201,n_actions)) \n",
    "sof_rewards_ = np.zeros((num_seeds,noEpisodes))\n",
    "sof_greedy_ = np.zeros((num_seeds,noEpisodes))\n",
    "b_ = np.zeros((num_seeds,9))\n",
    "rep_rates = np.zeros((num_seeds,8))"
   ]
  },
  {
   "cell_type": "code",
   "execution_count": 388,
   "metadata": {},
   "outputs": [
    {
     "name": "stderr",
     "output_type": "stream",
     "text": [
      "100%|██████████| 1000/1000 [00:21<00:00, 47.07it/s]\n",
      "100%|██████████| 1000/1000 [00:21<00:00, 47.13it/s]\n",
      "100%|██████████| 1000/1000 [00:21<00:00, 46.98it/s]\n"
     ]
    }
   ],
   "source": [
    "for i in range(num_seeds):    \n",
    "    np.random.seed(20*i+1)\n",
    "    epsilons = np.ones((noEpisodes))\n",
    "    Q_[i],pi1,sof_rewards_[i],sof_greedy_[i],b_[i],rep_rates[i] = Softmax_SARSA(env_b2,taus,gamma,alpha,noEpisodes,epsilons)"
   ]
  },
  {
   "cell_type": "code",
   "execution_count": 389,
   "metadata": {},
   "outputs": [
    {
     "data": {
      "text/plain": [
       "(array([[0.        , 0.        , 1.21852124, 0.64944112, 0.        ,\n",
       "         0.63606371, 0.        , 1.72876186],\n",
       "        [0.        , 0.        , 2.85968936, 0.90120309, 0.        ,\n",
       "         0.63598733, 0.        , 3.12767891],\n",
       "        [0.        , 0.        , 2.10430004, 0.64801208, 0.        ,\n",
       "         0.45424211, 0.        , 2.52994564]]),\n",
       " array([[-1.        , -1.        ,  1.91572199,  1.02103155, -1.        ,\n",
       "          1.        , -1.        ,  2.71790676,  0.        ],\n",
       "        [-1.        , -1.        ,  4.49645646,  1.41701421, -1.        ,\n",
       "          1.        , -1.        ,  4.91783207,  0.        ],\n",
       "        [-1.        , -1.        ,  4.63255166,  1.42657862, -1.        ,\n",
       "          1.        , -1.        ,  5.56959733,  0.        ]]))"
      ]
     },
     "execution_count": 389,
     "metadata": {},
     "output_type": "execute_result"
    }
   ],
   "source": [
    "rep_rates,b_"
   ]
  },
  {
   "cell_type": "code",
   "execution_count": 390,
   "metadata": {},
   "outputs": [],
   "source": [
    "sof_avg_rewards = np.mean(sof_rewards_,axis = 0)"
   ]
  },
  {
   "cell_type": "code",
   "execution_count": 391,
   "metadata": {},
   "outputs": [],
   "source": [
    "sof_avg_greedy = np.mean(sof_greedy_,axis = 0)"
   ]
  },
  {
   "cell_type": "code",
   "execution_count": 392,
   "metadata": {},
   "outputs": [],
   "source": [
    "Q_avg = np.mean(Q_,axis = 0)"
   ]
  },
  {
   "cell_type": "code",
   "execution_count": 393,
   "metadata": {},
   "outputs": [],
   "source": [
    "sof_pi_ = GreedyPolicy(Q_avg)"
   ]
  },
  {
   "cell_type": "code",
   "execution_count": 394,
   "metadata": {
    "scrolled": true
   },
   "outputs": [
    {
     "data": {
      "text/plain": [
       "17020"
      ]
     },
     "execution_count": 394,
     "metadata": {},
     "output_type": "execute_result"
    }
   ],
   "source": [
    "playEnv(env_b2,sof_pi_)"
   ]
  },
  {
   "cell_type": "code",
   "execution_count": 399,
   "metadata": {},
   "outputs": [
    {
     "data": {
      "text/plain": [
       "19456"
      ]
     },
     "execution_count": 399,
     "metadata": {},
     "output_type": "execute_result"
    }
   ],
   "source": [
    "# b = [-1,  1,  1, -1,  1, -1,  1, -1,  0.]\n",
    "playCustomEnv(env_b2,Q_avg,np.mean(b_,axis=0))"
   ]
  },
  {
   "cell_type": "code",
   "execution_count": 397,
   "metadata": {},
   "outputs": [
    {
     "data": {
      "text/plain": [
       "19801"
      ]
     },
     "execution_count": 397,
     "metadata": {},
     "output_type": "execute_result"
    }
   ],
   "source": [
    "playCustomEnv(env_b2,Q_avg,b_[0])"
   ]
  },
  {
   "cell_type": "code",
   "execution_count": 398,
   "metadata": {
    "scrolled": false
   },
   "outputs": [
    {
     "name": "stdout",
     "output_type": "stream",
     "text": [
      "19183\n",
      "20003\n",
      "18536\n"
     ]
    }
   ],
   "source": [
    "for i in range(num_seeds):\n",
    "    print(playCustomEnv(env_b2,Q_[i],b_[i]))"
   ]
  },
  {
   "cell_type": "code",
   "execution_count": 400,
   "metadata": {},
   "outputs": [
    {
     "data": {
      "text/plain": [
       "array([19183., 20003., 18536.])"
      ]
     },
     "execution_count": 400,
     "metadata": {},
     "output_type": "execute_result"
    }
   ],
   "source": [
    "sof_greedy_[:,-1]"
   ]
  },
  {
   "cell_type": "code",
   "execution_count": 310,
   "metadata": {},
   "outputs": [],
   "source": [
    "replenishing_rate = rep_rates[0]"
   ]
  },
  {
   "cell_type": "code",
   "execution_count": 311,
   "metadata": {},
   "outputs": [
    {
     "data": {
      "text/plain": [
       "array([3.74094002, 1.0984315 , 0.93705727, 4.45741603])"
      ]
     },
     "execution_count": 311,
     "metadata": {},
     "output_type": "execute_result"
    }
   ],
   "source": [
    "replenishing_rate[replenishing_rate> 0]"
   ]
  },
  {
   "cell_type": "code",
   "execution_count": 401,
   "metadata": {},
   "outputs": [],
   "source": [
    "np.savez('./policies/sarsa/sarsa_learning_choice_04_B2_sof_reward.npz', sof_rewards_)\n",
    "np.savez('./policies/sarsa/sarsa_learning_choice_04_B2_sof_greedy.npz', sof_greedy_)\n",
    "np.savez('./policies/sarsa/sarsa_learning_choice_04_B2_Q.npz', Q_)\n",
    "np.savez('./policies/sarsa/sarsa_learning_choice_04_B2_rep_rates.npz', rep_rates)"
   ]
  },
  {
   "cell_type": "markdown",
   "metadata": {},
   "source": [
    "### Block3"
   ]
  },
  {
   "cell_type": "code",
   "execution_count": 402,
   "metadata": {},
   "outputs": [],
   "source": [
    "env_b3 = envs.getBlock(3)\n",
    "num_seeds = 3\n",
    "\n",
    "n_states = 9\n",
    "n_actions = 8\n",
    "\n",
    "alpha = 0.5\n",
    "gamma = 0.3\n",
    "noEpisodes = 1000\n",
    "tau_i = 1000\n",
    "tau_f = 10\n",
    "lin_r = (tau_f - tau_i) / (noEpisodes-1)\n",
    "exp_r = (tau_f/tau_i)**(1/(noEpisodes-1))\n",
    "taus = [ tau_i*(exp_r**i) for i in range(noEpisodes)]\n",
    "# taus = [ tau_i+i*lin_r  for i in range(noEpisodes)]\n",
    "\n",
    "\n",
    "Q_ = np.zeros((num_seeds, n_states,201,n_actions)) \n",
    "sof_rewards_ = np.zeros((num_seeds,noEpisodes))\n",
    "sof_greedy_ = np.zeros((num_seeds,noEpisodes))\n",
    "b_ = np.zeros((num_seeds,9))\n",
    "rep_rates = np.zeros((num_seeds,8))"
   ]
  },
  {
   "cell_type": "code",
   "execution_count": 403,
   "metadata": {},
   "outputs": [
    {
     "name": "stderr",
     "output_type": "stream",
     "text": [
      "100%|██████████| 1000/1000 [00:32<00:00, 30.32it/s]\n",
      "100%|██████████| 1000/1000 [00:28<00:00, 35.65it/s]\n",
      "100%|██████████| 1000/1000 [00:29<00:00, 34.43it/s]\n"
     ]
    }
   ],
   "source": [
    "for i in range(num_seeds):    \n",
    "    np.random.seed(20*i+1)\n",
    "    epsilons = np.ones((noEpisodes))\n",
    "    Q_[i],pi1,sof_rewards_[i],sof_greedy_[i],b_[i],rep_rates[i] = Softmax_SARSA(env_b3,taus,gamma,alpha,noEpisodes,epsilons)"
   ]
  },
  {
   "cell_type": "code",
   "execution_count": 404,
   "metadata": {},
   "outputs": [
    {
     "data": {
      "text/plain": [
       "(array([[0.66116122, 0.        , 0.        , 2.2202353 , 3.0526587 ,\n",
       "         0.        , 5.14771376, 0.        ],\n",
       "        [0.95773381, 0.        , 0.        , 1.37102987, 4.25808474,\n",
       "         0.        , 5.62331573, 0.        ],\n",
       "        [0.60508493, 0.        , 0.        , 1.44923004, 3.43805629,\n",
       "         0.        , 3.99066815, 0.        ]]),\n",
       " array([[ 1.        , -1.        , -1.        ,  3.35808457,  4.61711697,\n",
       "         -1.        ,  7.78586764, -1.        ,  0.        ],\n",
       "        [ 1.        , -1.        , -1.        ,  1.43153542,  4.44600023,\n",
       "         -1.        ,  5.87148085, -1.        ,  0.        ],\n",
       "        [ 1.        , -1.        , -1.        ,  2.39508531,  5.68193999,\n",
       "         -1.        ,  6.59521981, -1.        ,  0.        ]]))"
      ]
     },
     "execution_count": 404,
     "metadata": {},
     "output_type": "execute_result"
    }
   ],
   "source": [
    "rep_rates,b_"
   ]
  },
  {
   "cell_type": "code",
   "execution_count": 405,
   "metadata": {},
   "outputs": [],
   "source": [
    "sof_avg_rewards = np.mean(sof_rewards_,axis = 0)"
   ]
  },
  {
   "cell_type": "code",
   "execution_count": 406,
   "metadata": {},
   "outputs": [],
   "source": [
    "sof_avg_greedy = np.mean(sof_greedy_,axis = 0)"
   ]
  },
  {
   "cell_type": "code",
   "execution_count": 407,
   "metadata": {},
   "outputs": [],
   "source": [
    "Q_avg = np.mean(Q_,axis = 0)"
   ]
  },
  {
   "cell_type": "code",
   "execution_count": 408,
   "metadata": {},
   "outputs": [],
   "source": [
    "sof_pi_ = GreedyPolicy(Q_avg)"
   ]
  },
  {
   "cell_type": "code",
   "execution_count": 410,
   "metadata": {
    "scrolled": true
   },
   "outputs": [
    {
     "data": {
      "text/plain": [
       "21567"
      ]
     },
     "execution_count": 410,
     "metadata": {},
     "output_type": "execute_result"
    }
   ],
   "source": [
    "playEnv(env_b3,sof_pi_)"
   ]
  },
  {
   "cell_type": "code",
   "execution_count": 411,
   "metadata": {},
   "outputs": [
    {
     "data": {
      "text/plain": [
       "24232"
      ]
     },
     "execution_count": 411,
     "metadata": {},
     "output_type": "execute_result"
    }
   ],
   "source": [
    "# b = [-1,  1,  1, -1,  1, -1,  1, -1,  0.]\n",
    "playCustomEnv(env_b3,Q_avg,np.mean(b_,axis=0))"
   ]
  },
  {
   "cell_type": "code",
   "execution_count": 412,
   "metadata": {},
   "outputs": [
    {
     "data": {
      "text/plain": [
       "24912"
      ]
     },
     "execution_count": 412,
     "metadata": {},
     "output_type": "execute_result"
    }
   ],
   "source": [
    "playCustomEnv(env_b3,Q_avg,b_[0])"
   ]
  },
  {
   "cell_type": "code",
   "execution_count": 413,
   "metadata": {
    "scrolled": false
   },
   "outputs": [
    {
     "name": "stdout",
     "output_type": "stream",
     "text": [
      "23439\n",
      "22755\n",
      "23575\n"
     ]
    }
   ],
   "source": [
    "for i in range(num_seeds):\n",
    "    print(playCustomEnv(env_b3,Q_[i],b_[i]))"
   ]
  },
  {
   "cell_type": "code",
   "execution_count": 414,
   "metadata": {},
   "outputs": [],
   "source": [
    "np.savez('./policies/sarsa/sarsa_learning_choice_04_B3_sof_reward.npz', sof_rewards_)\n",
    "np.savez('./policies/sarsa/sarsa_learning_choice_04_B3_sof_greedy.npz', sof_greedy_)\n",
    "np.savez('./policies/sarsa/sarsa_learning_choice_04_B3_Q.npz', Q_)\n",
    "np.savez('./policies/sarsa/sarsa_learning_choice_04_B3_rep_rates.npz', rep_rates)"
   ]
  },
  {
   "cell_type": "code",
   "execution_count": null,
   "metadata": {},
   "outputs": [],
   "source": []
  },
  {
   "cell_type": "code",
   "execution_count": null,
   "metadata": {},
   "outputs": [],
   "source": []
  },
  {
   "cell_type": "code",
   "execution_count": null,
   "metadata": {},
   "outputs": [],
   "source": []
  },
  {
   "cell_type": "code",
   "execution_count": null,
   "metadata": {},
   "outputs": [],
   "source": [
    "env_b3 = envs.getBlock(3)\n",
    "num_seeds = 5\n",
    "\n",
    "n_states = 9\n",
    "n_actions = 8\n",
    "\n",
    "alpha = 0.5\n",
    "gamma = 0.4\n",
    "eps = 1\n",
    "noEpisodes = 10000\n",
    "\n",
    "Q_ = np.zeros((num_seeds, n_states,201,n_actions)) \n",
    "rewards_ = np.zeros((num_seeds,noEpisodes))"
   ]
  },
  {
   "cell_type": "code",
   "execution_count": null,
   "metadata": {},
   "outputs": [],
   "source": [
    "for i in range(1,num_seeds):    \n",
    "    np.random.seed(4*i)\n",
    "    epsilons = np.ones((noEpisodes))\n",
    "    epsilons = decayEpsilon(eps,noEpisodes,19*noEpisodes//20, min_eps = 0.01, decayType = 'linear')\n",
    "    Q_[i],pi3,rewards_[i] = SARSA(env_b3,gamma,alpha,eps,noEpisodes,epsilons)"
   ]
  },
  {
   "cell_type": "code",
   "execution_count": null,
   "metadata": {},
   "outputs": [],
   "source": [
    "avg_rewards = np.mean(rewards_,axis = 0)\n",
    "print(avg_rewards.shape)"
   ]
  },
  {
   "cell_type": "code",
   "execution_count": null,
   "metadata": {},
   "outputs": [],
   "source": [
    "for i in range(num_seeds):\n",
    "    pi = GreedyPolicy(Q_[i])\n",
    "    print(playEnv(env_b3,pi))"
   ]
  },
  {
   "cell_type": "code",
   "execution_count": null,
   "metadata": {},
   "outputs": [],
   "source": [
    "Q_avg = np.mean(Q_[1:4],axis = 0)"
   ]
  },
  {
   "cell_type": "code",
   "execution_count": null,
   "metadata": {},
   "outputs": [],
   "source": [
    "def GreedyPolicy(Q):\n",
    "    \n",
    "    pi = np.zeros((Q.shape[0],Q.shape[1]))\n",
    "    \n",
    "    for s in range(Q.shape[0]):\n",
    "        \n",
    "        for r in range(Q.shape[1]):\n",
    "            \n",
    "            q = Q[s][r]\n",
    "\n",
    "            #simple_argmax\n",
    "\n",
    "            a = np.argmax(q)\n",
    "\n",
    "            #a = np.random.choice(np.where(q == q.max())[0])\n",
    "\n",
    "            pi[s][r] = int(a)\n",
    "        \n",
    "    return pi"
   ]
  },
  {
   "cell_type": "code",
   "execution_count": null,
   "metadata": {},
   "outputs": [],
   "source": [
    "pi_ = GreedyPolicy(Q_avg)"
   ]
  },
  {
   "cell_type": "code",
   "execution_count": null,
   "metadata": {
    "scrolled": true
   },
   "outputs": [],
   "source": [
    "playEnv(env_b3,pi_)"
   ]
  },
  {
   "cell_type": "code",
   "execution_count": null,
   "metadata": {},
   "outputs": [],
   "source": [
    "np.savez('./policies/sarsa_learning_gamma_04_B3_reward.npz', rewards_)\n",
    "np.savez('./policies/sarsa_learning_gamma_04_B3_policy.npz', pi_)"
   ]
  },
  {
   "cell_type": "code",
   "execution_count": null,
   "metadata": {},
   "outputs": [],
   "source": []
  },
  {
   "cell_type": "code",
   "execution_count": null,
   "metadata": {},
   "outputs": [],
   "source": [
    "env_b3 = envs.getBlock(3)\n",
    "np.random.seed(10)"
   ]
  },
  {
   "cell_type": "code",
   "execution_count": null,
   "metadata": {},
   "outputs": [],
   "source": [
    "noEpisodes = 10000\n",
    "epsilons = np.ones((noEpisodes))\n",
    "learn = 500\n",
    "epsilons[learn:] = decayEpsilon(1,noEpisodes-learn,min_eps = 0.1, rate = 1/(noEpisodes-learn), decayType = 'linear')\n"
   ]
  },
  {
   "cell_type": "code",
   "execution_count": null,
   "metadata": {},
   "outputs": [],
   "source": [
    "Q,pi3,rewards = SARSA(env_b3,0.95,0.5,1,noEpisodes,epsilons)"
   ]
  },
  {
   "cell_type": "code",
   "execution_count": null,
   "metadata": {},
   "outputs": [],
   "source": [
    "print(pi3)"
   ]
  },
  {
   "cell_type": "code",
   "execution_count": null,
   "metadata": {},
   "outputs": [],
   "source": [
    "v_r = np.max(Q_s,axis=2)"
   ]
  },
  {
   "cell_type": "code",
   "execution_count": null,
   "metadata": {},
   "outputs": [],
   "source": [
    "plt.plot(v_r)\n",
    "plt.legend(['v('+ str(i)+')' for i in range(9)],loc='lower right')\n",
    "plt.xlabel(\"episodes\")\n",
    "plt.ylabel(\"state value function\")\n",
    "plt.title(\"SARSA estimates for block 2\")"
   ]
  },
  {
   "cell_type": "code",
   "execution_count": null,
   "metadata": {},
   "outputs": [],
   "source": [
    "plt.plot(rewards)\n",
    "# plt.legend(['v('+ str(i)+')' for i in range(9)],loc='lower right')\n",
    "plt.xlabel(\"episodes\")\n",
    "plt.ylabel(\"rewards\")\n",
    "plt.title(\"SARSA reward for block 3\")\n",
    "plt.savefig('images/sarsa_updated/b3_SARSA_rewards.pdf', transparent=True)"
   ]
  },
  {
   "cell_type": "code",
   "execution_count": null,
   "metadata": {},
   "outputs": [],
   "source": [
    "reward = playEnv(env_b3,pi3)"
   ]
  },
  {
   "cell_type": "code",
   "execution_count": null,
   "metadata": {},
   "outputs": [],
   "source": [
    "rewards[-1]"
   ]
  },
  {
   "cell_type": "code",
   "execution_count": null,
   "metadata": {},
   "outputs": [],
   "source": [
    "new_rewards = [rewards[0]]\n",
    "for i in range(1,len(rewards)):\n",
    "    cur_avg = (i * new_rewards[-1] + rewards[i])/(i+1)\n",
    "    new_rewards.append(cur_avg)"
   ]
  },
  {
   "cell_type": "code",
   "execution_count": null,
   "metadata": {},
   "outputs": [],
   "source": [
    "plt.figure(figsize=(20,10))\n",
    "plt.plot(new_rewards)\n",
    "# plt.legend(['v('+ str(i)+')' for i in range(9)],loc='lower right')\n",
    "plt.xlabel(\"episodes\")\n",
    "plt.ylabel(\"rewards\")\n",
    "plt.title(\"SARSA moving avg. reward for block 3\")\n",
    "plt.savefig('images/sarsa_updated/b3_SARSA_cum_rewards.pdf', transparent=True)"
   ]
  },
  {
   "cell_type": "code",
   "execution_count": null,
   "metadata": {},
   "outputs": [],
   "source": []
  }
 ],
 "metadata": {
  "interpreter": {
   "hash": "31f2aee4e71d21fbe5cf8b01ff0e069b9275f58929596ceb00d14d90e3e16cd6"
  },
  "kernelspec": {
   "display_name": "Python 3",
   "language": "python",
   "name": "python3"
  },
  "language_info": {
   "codemirror_mode": {
    "name": "ipython",
    "version": 3
   },
   "file_extension": ".py",
   "mimetype": "text/x-python",
   "name": "python",
   "nbconvert_exporter": "python",
   "pygments_lexer": "ipython3",
   "version": "3.8.10"
  }
 },
 "nbformat": 4,
 "nbformat_minor": 2
}
