{
 "cells": [
  {
   "cell_type": "markdown",
   "metadata": {},
   "source": [
    "# Introduction\n",
    "\n",
    "The following notebook trains an agent that uses a combination of reinforcement learning (q-learning) and working memory. The two modules are implemented separately and their predictions are combined to decide the final decision to take. In this case, the working memory module implemented partially mimics the human working memory as it has limited capacity."
   ]
  },
  {
   "cell_type": "code",
   "execution_count": 68,
   "metadata": {},
   "outputs": [],
   "source": [
    "#Import libraries\n",
    "import gym\n",
    "from gym import error, spaces, utils\n",
    "import numpy as np\n",
    "import math\n",
    "import pandas as pd\n",
    "from matplotlib import pyplot as plt\n",
    "import matplotlib\n",
    "from collections import namedtuple, deque\n",
    "from tqdm import tqdm, trange\n",
    "from blocks import EnvClass"
   ]
  },
  {
   "cell_type": "code",
   "execution_count": 69,
   "metadata": {},
   "outputs": [],
   "source": [
    "#Choosing action based on final RL policy and the working memory module along with randomness decided by a parameter epsilon\n",
    "#If the action taken is not random, then a probability with respect to each action is calculated from the Q-function\n",
    "#for the given state variable as well as a probability for each action from the working memory module.\n",
    "#A weighted sum of the two probabilities is taken and the action with the highest final score is chosen.\n",
    "def actionSelect(curr_state, curr_r, curr_q, eps,last_returned_reward, last_visit_time, replenishing_rate,time, weight_for_replenishing_rate):\n",
    "        \n",
    "        # print(weight_for_replenishing_rate)\n",
    "        if(np.random.uniform(0,1) < eps):\n",
    "            action = np.random.choice(np.arange(8))\n",
    "        else:\n",
    "            estimated_value = last_returned_reward + (time-last_visit_time)*(replenishing_rate) +1e-6\n",
    "            estimated_prob = estimated_value/(np.sum(estimated_value))\n",
    "            \n",
    "            if(np.all(curr_q[curr_state][curr_r] == np.zeros(8))):\n",
    "                action = np.random.choice(np.arange(8), p =estimated_prob.tolist())\n",
    "            else:\n",
    "                q_prob = np.exp(curr_q[curr_state][curr_r])/(np.sum(np.exp(curr_q[curr_state][curr_r])))\n",
    "                # action = np.random.choice(np.arange(8), p =((estimated_prob*weight_for_replenishing_rate)+(q_prob*(1-weight_for_replenishing_rate))))\n",
    "                action = np.argmax((estimated_prob*weight_for_replenishing_rate)+(q_prob*(1-weight_for_replenishing_rate)))\n",
    "        \n",
    "        return(action)\n"
   ]
  },
  {
   "cell_type": "code",
   "execution_count": 70,
   "metadata": {},
   "outputs": [],
   "source": [
    "def playEnv(env,curr_q, replenishing_rate, weight_for_replenishing_rate):\n",
    "    \n",
    "    # print(weight_for_replenishing_rate)\n",
    "    env.reset()\n",
    "    done = False\n",
    "    curr_state = 8\n",
    "    cur_reward = 0\n",
    "    r =0\n",
    "    last_returned_reward = np.zeros(8)\n",
    "    last_visit_time = np.zeros(8)\n",
    "    time =0\n",
    "    # a = actionSelect(curr_state, cur_reward, curr_q, 0, last_returned_reward, last_visit_time, replenishing_rate,time, weight_for_replenishing_rate)\n",
    "\n",
    "    # print(a)\n",
    "    while not done:\n",
    "        estimated_value = last_returned_reward + (time-last_visit_time)*(replenishing_rate) +1e-6\n",
    "        estimated_prob = estimated_value/(np.sum(estimated_value))\n",
    "        q_prob = np.exp(curr_q[curr_state][r])/(np.sum(np.exp(curr_q[curr_state][r])))\n",
    "        a = np.argmax((estimated_prob*weight_for_replenishing_rate)+(q_prob*(1-weight_for_replenishing_rate)))\n",
    "        (s_new, r, done, _) = env.step(a)\n",
    "        # print(curr_state)\n",
    "        time = 300-s_new[1]\n",
    "        cur_reward += r\n",
    "        \n",
    "        if(r!=0):\n",
    "            last_visit_time[s_new[0]] = time\n",
    "            last_returned_reward[s_new[0]] = r\n",
    "        \n",
    "        curr_state = s_new[0]\n",
    "        \n",
    "    return cur_reward\n",
    "\n",
    "\n",
    "#Function to decay parameter from finalValue -> initialValue starting from startStep step and upto maxSteps using\n",
    "#the decayType characteristic\n",
    "\n",
    "def decayParameter(initialValue, finalValue, startStep, maxSteps, decayType):\n",
    "    arr = [initialValue]\n",
    "    para = initialValue\n",
    "    step = 0\n",
    "    \n",
    "    if(decayType == 'linear'):\n",
    "        rate = (initialValue-finalValue)/(maxSteps-startStep)\n",
    "    else:\n",
    "        rate = np.power(finalValue/initialValue, 1/(maxSteps-startStep))\n",
    "    \n",
    "    while(step < maxSteps):\n",
    "        step += 1\n",
    "        \n",
    "        if(step>startStep):\n",
    "            if(decayType=='linear'):\n",
    "                para -= rate\n",
    "            else:\n",
    "                para *= rate\n",
    "        arr.append(para)\n",
    "        \n",
    "    return(arr)\n",
    "\n",
    "#Returns the greedy policy from the given state-action value function\n",
    "\n",
    "def GreedyPolicy(Q):\n",
    "    \n",
    "    pi = np.zeros((Q.shape[0],Q.shape[1]))\n",
    "    \n",
    "    for s in range(Q.shape[0]):\n",
    "        \n",
    "        for r in range(Q.shape[1]):\n",
    "            \n",
    "            q = Q[s][r]\n",
    "\n",
    "            #simple_argmax\n",
    "\n",
    "            a = np.argmax(q)\n",
    "\n",
    "            #a = np.random.choice(np.where(q == q.max())[0])\n",
    "\n",
    "            pi[s][r] = int(a)\n",
    "        \n",
    "    return pi\n",
    "\n",
    "\n",
    "# Update WM memory with limited capacity constraint, i.e. forget the info about states other than the last 3 \n",
    "#visited states\n",
    "def updateRecentStates(last_three_states, newState, replenishing_rate, last_returned_reward, last_visit_time):\n",
    "    replenishing_rate[0] = 0\n",
    "    last_returned_reward[0] = 0\n",
    "    last_visit_time[0] = 0\n",
    "    last_three_states[0] = last_three_states[1]\n",
    "    last_three_states[1] = last_three_states[2]\n",
    "    last_three_states[2] = newState\n",
    "    return last_three_states, replenishing_rate, last_returned_reward, last_visit_time"
   ]
  },
  {
   "cell_type": "code",
   "execution_count": 71,
   "metadata": {},
   "outputs": [],
   "source": [
    "def q_learning(env, gamma, alpha, epsilon, noEpisodes, replenishing_rate_weight_start, replenishing_rate_weight_end):\n",
    "    curr_q = np.zeros((9,201,8))\n",
    "    total_rewards = []\n",
    "    policy_reward = []\n",
    "\n",
    "    al,e = alpha[3], epsilon[3]\n",
    "    \n",
    "    alpha = decayParameter(*alpha)\n",
    "    epsilon = decayParameter(*epsilon)\n",
    "    weight_for_replenishing_rate = decayParameter(replenishing_rate_weight_start, replenishing_rate_weight_end, 0, noEpisodes, 'linear')\n",
    "    \n",
    "    replenishing_rate = np.zeros(8)\n",
    "    replenishing_rate_over_time = np.zeros((noEpisodes,8))\n",
    "\n",
    "    last_three_states = np.zeros(8)\n",
    "    \n",
    "    for i in trange(noEpisodes):\n",
    "        last_returned_reward = np.zeros(8)\n",
    "        last_visit_time = np.zeros(8)\n",
    "        \n",
    "        curr_r = 0\n",
    "        done = False\n",
    "        played_reward = playEnv(env,curr_q, replenishing_rate, weight_for_replenishing_rate[i])\n",
    "        policy_reward.append(played_reward)\n",
    "        env.reset()\n",
    "        curr_state = env.present_state\n",
    "        \n",
    "\n",
    "        total_r = 0\n",
    "        time =0\n",
    "        flag =0\n",
    "        while(not done):\n",
    "            a = actionSelect(curr_state, curr_r, curr_q, epsilon[int(min(i, e-1))], last_returned_reward, last_visit_time, replenishing_rate, time, weight_for_replenishing_rate[i])\n",
    "\n",
    "            (s_new, r, done, _) = env.step(a)\n",
    "            time = 300-s_new[1]\n",
    "\n",
    "            last_three_states, replenishing_rate, last_returned_reward, last_visit_time = updateRecentStates(last_three_states, s_new[0], replenishing_rate, last_returned_reward, last_visit_time)\n",
    "\n",
    "\n",
    "\n",
    "            if(flag):\n",
    "                if(s_new[0]== curr_state):\n",
    "                    if(r > last_returned_reward[s_new[0]] and last_visit_time[curr_state]!=0):\n",
    "                        temp = 0.9*replenishing_rate[s_new[0]] + 0.1*(max(r-last_returned_reward[s_new[0]], 0)/(time - last_visit_time[s_new[0]]))\n",
    "                        replenishing_rate[s_new[0]] = temp\n",
    "                    last_visit_time[curr_state] = time\n",
    "\n",
    "                flag =0\n",
    "\n",
    "            if(time - last_visit_time[s_new[0]]>1):\n",
    "                flag = 1\n",
    "\n",
    "            if(flag ==0):\n",
    "#                 print('hello')\n",
    "                last_visit_time[s_new[0]] = time\n",
    "                last_returned_reward[s_new[0]] = r\n",
    "            \n",
    "            total_r += r\n",
    "            \n",
    "            td_target = r\n",
    "            if(not done):\n",
    "                td_target += gamma*np.max(curr_q[int(s_new[0])][int(r)])\n",
    "                \n",
    "            td_error = td_target - curr_q[curr_state][curr_r][a]\n",
    "            curr_q[curr_state][curr_r][a] += alpha[int(min(i, al-1))]*td_error\n",
    "            \n",
    "            curr_state = s_new[0]\n",
    "            curr_r = int(r)\n",
    "        \n",
    "        total_rewards.append(total_r)\n",
    "        replenishing_rate_over_time[i] = replenishing_rate\n",
    "        \n",
    "    return curr_q, total_rewards, replenishing_rate, policy_reward, replenishing_rate_over_time"
   ]
  },
  {
   "cell_type": "markdown",
   "metadata": {},
   "source": [
    "# Training Agent and Experimentation"
   ]
  },
  {
   "cell_type": "code",
   "execution_count": 89,
   "metadata": {},
   "outputs": [
    {
     "name": "stderr",
     "output_type": "stream",
     "text": [
      "100%|██████████| 1000/1000 [00:21<00:00, 45.94it/s]\n",
      "100%|██████████| 1000/1000 [00:21<00:00, 46.09it/s]\n",
      "100%|██████████| 1000/1000 [00:21<00:00, 45.93it/s]\n",
      "100%|██████████| 1000/1000 [00:21<00:00, 46.18it/s]\n",
      "100%|██████████| 1000/1000 [00:21<00:00, 46.48it/s]\n"
     ]
    }
   ],
   "source": [
    "gamma = 0.4\n",
    "alpha = 0.05\n",
    "epsilon = 1\n",
    "noEpisodes = 1000\n",
    "\n",
    "envs = EnvClass()\n",
    "env = envs.getBlock(3)\n",
    "\n",
    "Q_s  = np.zeros((5, 9, 201, 8))\n",
    "rewards = np.zeros((5, noEpisodes))\n",
    "policy_rewards = np.zeros((5, noEpisodes))\n",
    "replenishing_rates = np.zeros((5,8))\n",
    "replenishing_rates_over_time = np.zeros((5, noEpisodes,8))\n",
    "\n",
    "weight_start = 1\n",
    "weight_end =1\n",
    "\n",
    "for i in range(5):\n",
    "    np.random.seed(i+80)\n",
    "    env.reset()\n",
    "# \n",
    "    Q, reward, replenishing_rate, policy_reward, replenishing_rate_over_time= q_learning(env, gamma, (alpha, 0.01, 0, noEpisodes//2, 'exponential'), (epsilon, 0.01, 0, (9*noEpisodes)//10, 'linear'), noEpisodes, weight_start, weight_end)\n",
    "    Q_s[i] = Q\n",
    "    rewards[i] = reward\n",
    "    policy_rewards[i] = policy_reward\n",
    "    replenishing_rates[i] = replenishing_rate\n",
    "    replenishing_rates_over_time[i] = replenishing_rate_over_time\n",
    "\n",
    "replenishing_rate = np.mean(replenishing_rates, axis =0)\n",
    "replenishing_rate_over_time = np.mean(replenishing_rates_over_time, axis =0)\n",
    "Q = np.mean(Q_s, axis=0)\n",
    "p = GreedyPolicy(Q)\n"
   ]
  },
  {
   "cell_type": "code",
   "execution_count": 90,
   "metadata": {},
   "outputs": [],
   "source": [
    "np.savez(\"data/gredy_rewards_limited_memory.npz\", np.mean(policy_rewards,axis =0))"
   ]
  },
  {
   "cell_type": "code",
   "execution_count": 85,
   "metadata": {},
   "outputs": [
    {
     "name": "stdout",
     "output_type": "stream",
     "text": [
      "21169\n",
      "16564\n"
     ]
    },
    {
     "data": {
      "text/plain": [
       "[<matplotlib.lines.Line2D at 0x223256c62b0>,\n",
       " <matplotlib.lines.Line2D at 0x223256c6370>,\n",
       " <matplotlib.lines.Line2D at 0x223256c6430>,\n",
       " <matplotlib.lines.Line2D at 0x223256c64f0>,\n",
       " <matplotlib.lines.Line2D at 0x223256c65b0>,\n",
       " <matplotlib.lines.Line2D at 0x223256c6670>,\n",
       " <matplotlib.lines.Line2D at 0x223256c6730>,\n",
       " <matplotlib.lines.Line2D at 0x223256c67f0>]"
      ]
     },
     "execution_count": 85,
     "metadata": {},
     "output_type": "execute_result"
    },
    {
     "data": {
      "image/png": "[encoded data removed]",
      "text/plain": [
       "<Figure size 432x288 with 1 Axes>"
      ]
     },
     "metadata": {
      "needs_background": "light"
     },
     "output_type": "display_data"
    }
   ],
   "source": [
    "print(playEnv(env, Q, replenishing_rate, 0.5))\n",
    "print(reward[-1])\n",
    "# print(replenishing_rate_over_time)\n",
    "# plt.plot(replenishing_rate_over_time)\n",
    "# plt.plot(np.mean(policy_rewards,axis =0), label = \"policy reward\")\n",
    "# plt.plot(rewards,axis=0))\n",
    "# plt.plot(reward)\n",
    "\n",
    "# plt.legend()"
   ]
  }
 ],
 "metadata": {
  "interpreter": {
   "hash": "73e03da126b73bfff3642ec5261d56fa25c444ea595de51041687efaa60dda41"
  },
  "kernelspec": {
   "display_name": "Python 3 (ipykernel)",
   "language": "python",
   "name": "python3"
  },
  "language_info": {
   "codemirror_mode": {
    "name": "ipython",
    "version": 3
   },
   "file_extension": ".py",
   "mimetype": "text/x-python",
   "name": "python",
   "nbconvert_exporter": "python",
   "pygments_lexer": "ipython3",
   "version": "3.8.8"
  }
 },
 "nbformat": 4,
 "nbformat_minor": 2
}
