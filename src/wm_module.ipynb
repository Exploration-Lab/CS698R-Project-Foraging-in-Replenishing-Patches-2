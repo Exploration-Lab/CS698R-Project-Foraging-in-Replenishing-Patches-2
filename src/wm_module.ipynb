{
 "cells": [
  {
   "cell_type": "markdown",
   "metadata": {},
   "source": [
    "# Introduction\n",
    "\n",
    "The following notebook trains an agent that uses a combination of reinforcement learning (q-learning) and working memory. The two modules are implemented separately and their predictions are combined to decide the final decision to take. In this case, the working memory module implemented is a perfect memory as it has infinite capacity and the stored values are not forgotten as time goes on."
   ]
  },
  {
   "cell_type": "code",
   "execution_count": 1,
   "metadata": {},
   "outputs": [],
   "source": [
    "#Import libraries\n",
    "import gym\n",
    "from gym import error, spaces, utils\n",
    "import numpy as np\n",
    "import math\n",
    "import pandas as pd\n",
    "from matplotlib import pyplot as plt\n",
    "import matplotlib\n",
    "from collections import namedtuple, deque\n",
    "from tqdm import tqdm, trange\n",
    "from blocks import EnvClass"
   ]
  },
  {
   "cell_type": "code",
   "execution_count": 2,
   "metadata": {},
   "outputs": [],
   "source": [
    "#Choosing action based on final RL policy and the working memory module along with randomness decided by a parameter epsilon\n",
    "#If the action taken is not random, then a probability with respect to each action is calculated from the Q-function\n",
    "#for the given state variable as well as a probability for each action from the working memory module.\n",
    "#A weighted sum of the two probabilities is taken and the action with the highest final score is chosen.\n",
    "\n",
    "def actionSelect(curr_state, curr_r, curr_q, eps,last_returned_reward, last_visit_time, replenishing_rate,time, weight_for_replenishing_rate):\n",
    "        \n",
    "        # print(weight_for_replenishing_rate)\n",
    "        if(np.random.uniform(0,1) < eps):\n",
    "            action = np.random.choice(np.arange(8))\n",
    "        else:\n",
    "            estimated_value = last_returned_reward + (time-last_visit_time)*(replenishing_rate) +1e-6\n",
    "            estimated_prob = estimated_value/(np.sum(estimated_value))\n",
    "            \n",
    "            if(np.all(curr_q[curr_state][curr_r] == np.zeros(8))):\n",
    "                action = np.random.choice(np.arange(8), p =estimated_prob.tolist())\n",
    "            else:\n",
    "                q_prob = np.exp(curr_q[curr_state][curr_r])/(np.sum(np.exp(curr_q[curr_state][curr_r])))\n",
    "                # action = np.random.choice(np.arange(8), p =((estimated_prob*weight_for_replenishing_rate)+(q_prob*(1-weight_for_replenishing_rate))))\n",
    "                action = np.argmax((estimated_prob*weight_for_replenishing_rate)+(q_prob*(1-weight_for_replenishing_rate)))\n",
    "        \n",
    "        return(action)\n"
   ]
  },
  {
   "cell_type": "code",
   "execution_count": 3,
   "metadata": {},
   "outputs": [],
   "source": [
    "def playEnv(env,curr_q, replenishing_rate, weight_for_replenishing_rate):\n",
    "    \n",
    "    # print(weight_for_replenishing_rate)\n",
    "    env.reset()\n",
    "    done = False\n",
    "    curr_state = 8\n",
    "    cur_reward = 0\n",
    "    r =0\n",
    "    last_returned_reward = np.zeros(8)\n",
    "    last_visit_time = np.zeros(8)\n",
    "    time =0\n",
    "    # a = actionSelect(curr_state, cur_reward, curr_q, 0, last_returned_reward, last_visit_time, replenishing_rate,time, weight_for_replenishing_rate)\n",
    "\n",
    "    # print(a)\n",
    "    while not done:\n",
    "        estimated_value = last_returned_reward + (time-last_visit_time)*(replenishing_rate) +1e-6\n",
    "        estimated_prob = estimated_value/(np.sum(estimated_value))\n",
    "        q_prob = np.exp(curr_q[curr_state][r])/(np.sum(np.exp(curr_q[curr_state][r])))\n",
    "        # a = np.random.choice(np.arange(8), p =((estimated_prob*weight_for_replenishing_rate)+(q_prob*(1-weight_for_replenishing_rate))))\n",
    "        a = np.argmax((estimated_prob*weight_for_replenishing_rate)+(q_prob*(1-weight_for_replenishing_rate)))\n",
    "        # if(np.any(q_prob!= (estimated_prob*weight_for_replenishing_rate)+(q_prob*(1-weight_for_replenishing_rate)))):\n",
    "        #     print(\"bruh\")\n",
    "        #     print(weight_for_replenishing_rate)\n",
    "        #     print((estimated_prob*weight_for_replenishing_rate)+(q_prob*(1-weight_for_replenishing_rate)))\n",
    "        #     print(q_prob)\n",
    "        (s_new, r, done, _) = env.step(a)\n",
    "        # print(curr_state)\n",
    "        time = 300-s_new[1]\n",
    "        cur_reward += r\n",
    "        \n",
    "        \n",
    "        \n",
    "        # print(estimated_prob)\n",
    "        # if(np.all(curr_q[curr_state][r] == np.zeros(8))):\n",
    "        #     a = np.random.choice(np.arange(8), p =estimated_prob.tolist())\n",
    "        # else:\n",
    "        \n",
    "        \n",
    "        if(r!=0):\n",
    "            last_visit_time[s_new[0]] = time\n",
    "            last_returned_reward[s_new[0]] = r\n",
    "        \n",
    "        curr_state = s_new[0]\n",
    "        \n",
    "    return cur_reward\n",
    "\n",
    "\n",
    "#Function to decay parameter from finalValue -> initialValue starting from startStep step and upto maxSteps using\n",
    "#the decayType characteristic\n",
    "\n",
    "def decayParameter(initialValue, finalValue, startStep, maxSteps, decayType):\n",
    "    arr = [initialValue]\n",
    "    para = initialValue\n",
    "    step = 0\n",
    "    \n",
    "    if(decayType == 'linear'):\n",
    "        rate = (initialValue-finalValue)/(maxSteps-startStep)\n",
    "    else:\n",
    "        rate = np.power(finalValue/initialValue, 1/(maxSteps-startStep))\n",
    "    \n",
    "    while(step < maxSteps):\n",
    "        step += 1\n",
    "        \n",
    "        if(step>startStep):\n",
    "            if(decayType=='linear'):\n",
    "                para -= rate\n",
    "            else:\n",
    "                para *= rate\n",
    "        arr.append(para)\n",
    "        \n",
    "    return(arr)\n",
    "\n",
    "#Returns the greedy policy from the given state-action value function\n",
    "\n",
    "def GreedyPolicy(Q):\n",
    "    \n",
    "    pi = np.zeros((Q.shape[0],Q.shape[1]))\n",
    "    \n",
    "    for s in range(Q.shape[0]):\n",
    "        \n",
    "        for r in range(Q.shape[1]):\n",
    "            \n",
    "            q = Q[s][r]\n",
    "\n",
    "            #simple_argmax\n",
    "\n",
    "            a = np.argmax(q)\n",
    "\n",
    "            #a = np.random.choice(np.where(q == q.max())[0])\n",
    "\n",
    "            pi[s][r] = int(a)\n",
    "        \n",
    "    return pi"
   ]
  },
  {
   "cell_type": "code",
   "execution_count": 4,
   "metadata": {},
   "outputs": [],
   "source": [
    "def q_learning(env, gamma, alpha, epsilon, noEpisodes):\n",
    "    curr_q = np.zeros((9,201,8))\n",
    "    total_rewards = []\n",
    "    policy_reward = []\n",
    "\n",
    "    al,e = alpha[3], epsilon[3]\n",
    "    \n",
    "    alpha = decayParameter(*alpha)\n",
    "    epsilon = decayParameter(*epsilon)\n",
    "    weight_for_replenishing_rate = decayParameter(0.5, 0.5, 0, noEpisodes, 'linear')\n",
    "    # print(weight_for_replenishing_rate)\n",
    "    \n",
    "    replenishing_rate = np.zeros(8)\n",
    "    \n",
    "    for i in trange(noEpisodes):\n",
    "        # if(i==1):\n",
    "        #     print(curr_q[1][60:70])\n",
    "        last_returned_reward = np.zeros(8)\n",
    "        last_visit_time = np.zeros(8)\n",
    "        curr_state = env.present_state\n",
    "        curr_r = 0\n",
    "        done = False\n",
    "        played_reward = playEnv(env,curr_q, replenishing_rate, weight_for_replenishing_rate[i])\n",
    "        policy_reward.append(played_reward)\n",
    "        env.reset()\n",
    "        \n",
    "\n",
    "        total_r = 0\n",
    "        time =0\n",
    "        flag =0\n",
    "        while(not done):\n",
    "            a = actionSelect(curr_state, curr_r, curr_q, epsilon[int(min(i, e-1))], last_returned_reward, last_visit_time, replenishing_rate, time, weight_for_replenishing_rate[i])\n",
    "\n",
    "            (s_new, r, done, _) = env.step(a)\n",
    "            time = 300-s_new[1]\n",
    "            # print(s_new[0])\n",
    "#             print((s_new, r, done, _) )\n",
    "#             print(replenishing_rate)\n",
    "\n",
    "            if(flag):\n",
    "                if(s_new[0]== curr_state):\n",
    "#                     print('jello')\n",
    "#                     print(r, last_returned_reward[s_new[0]], time, last_visit_time[s_new[0]])\n",
    "                    \n",
    "                    if(r > last_returned_reward[s_new[0]] and last_visit_time[curr_state]!=0):\n",
    "                        temp = 0.6*replenishing_rate[s_new[0]] + 0.4*(max(r-last_returned_reward[s_new[0]], 0)/(time - last_visit_time[s_new[0]]))\n",
    "                        replenishing_rate[s_new[0]] = temp\n",
    "                    last_visit_time[curr_state] = time\n",
    "\n",
    "                flag =0\n",
    "\n",
    "            if(time - last_visit_time[s_new[0]]>1):\n",
    "                flag = 1\n",
    "\n",
    "            if(flag ==0):\n",
    "#                 print('hello')\n",
    "                last_visit_time[s_new[0]] = time\n",
    "                last_returned_reward[s_new[0]] = r\n",
    "            \n",
    "            total_r += r\n",
    "            \n",
    "            td_target = r\n",
    "            if(not done):\n",
    "                td_target += gamma*np.max(curr_q[int(s_new[0])][int(r)])\n",
    "                \n",
    "            td_error = td_target - curr_q[curr_state][curr_r][a]\n",
    "            \n",
    "#             print(curr_state, a, i)\n",
    "            curr_q[curr_state][curr_r][a] += alpha[int(min(i, al-1))]*td_error\n",
    "            \n",
    "            curr_state = s_new[0]\n",
    "            curr_r = int(r)\n",
    "        \n",
    "#         print(total_r)\n",
    "        total_rewards.append(total_r)\n",
    "        \n",
    "    return curr_q, total_rewards, replenishing_rate, policy_reward"
   ]
  },
  {
   "cell_type": "markdown",
   "metadata": {},
   "source": [
    "# Training Agent and Experimentation"
   ]
  },
  {
   "cell_type": "code",
   "execution_count": 5,
   "metadata": {},
   "outputs": [
    {
     "name": "stderr",
     "output_type": "stream",
     "text": [
      "  1%|          | 65/10000 [00:07<19:48,  8.36it/s]\n"
     ]
    },
    {
     "ename": "KeyboardInterrupt",
     "evalue": "",
     "output_type": "error",
     "traceback": [
      "\u001b[1;31m---------------------------------------------------------------------------\u001b[0m",
      "\u001b[1;31mKeyboardInterrupt\u001b[0m                         Traceback (most recent call last)",
      "\u001b[1;32m<ipython-input-5-b15ff082b458>\u001b[0m in \u001b[0;36m<module>\u001b[1;34m\u001b[0m\n\u001b[0;32m     16\u001b[0m     \u001b[0menv\u001b[0m\u001b[1;33m.\u001b[0m\u001b[0mreset\u001b[0m\u001b[1;33m(\u001b[0m\u001b[1;33m)\u001b[0m\u001b[1;33m\u001b[0m\u001b[1;33m\u001b[0m\u001b[0m\n\u001b[0;32m     17\u001b[0m \u001b[1;33m\u001b[0m\u001b[0m\n\u001b[1;32m---> 18\u001b[1;33m     \u001b[0mQ\u001b[0m\u001b[1;33m,\u001b[0m \u001b[0mreward\u001b[0m\u001b[1;33m,\u001b[0m \u001b[0mreplenishing_rate\u001b[0m\u001b[1;33m,\u001b[0m \u001b[0mpolicy_reward\u001b[0m \u001b[1;33m=\u001b[0m \u001b[0mq_learning\u001b[0m\u001b[1;33m(\u001b[0m\u001b[0menv\u001b[0m\u001b[1;33m,\u001b[0m \u001b[0mgamma\u001b[0m\u001b[1;33m,\u001b[0m \u001b[1;33m(\u001b[0m\u001b[0malpha\u001b[0m\u001b[1;33m,\u001b[0m \u001b[1;36m0.01\u001b[0m\u001b[1;33m,\u001b[0m \u001b[1;36m0\u001b[0m\u001b[1;33m,\u001b[0m \u001b[0mnoEpisodes\u001b[0m\u001b[1;33m//\u001b[0m\u001b[1;36m2\u001b[0m\u001b[1;33m,\u001b[0m \u001b[1;34m'exponential'\u001b[0m\u001b[1;33m)\u001b[0m\u001b[1;33m,\u001b[0m \u001b[1;33m(\u001b[0m\u001b[0mepsilon\u001b[0m\u001b[1;33m,\u001b[0m \u001b[1;36m0.01\u001b[0m\u001b[1;33m,\u001b[0m \u001b[1;36m0\u001b[0m\u001b[1;33m,\u001b[0m \u001b[1;33m(\u001b[0m\u001b[1;36m9\u001b[0m\u001b[1;33m*\u001b[0m\u001b[0mnoEpisodes\u001b[0m\u001b[1;33m)\u001b[0m\u001b[1;33m//\u001b[0m\u001b[1;36m10\u001b[0m\u001b[1;33m,\u001b[0m \u001b[1;34m'linear'\u001b[0m\u001b[1;33m)\u001b[0m\u001b[1;33m,\u001b[0m \u001b[0mnoEpisodes\u001b[0m\u001b[1;33m)\u001b[0m\u001b[1;33m\u001b[0m\u001b[1;33m\u001b[0m\u001b[0m\n\u001b[0m\u001b[0;32m     19\u001b[0m     \u001b[1;31m# print(reward)\u001b[0m\u001b[1;33m\u001b[0m\u001b[1;33m\u001b[0m\u001b[1;33m\u001b[0m\u001b[0m\n\u001b[0;32m     20\u001b[0m     \u001b[0mQ_s\u001b[0m\u001b[1;33m[\u001b[0m\u001b[0mi\u001b[0m\u001b[1;33m]\u001b[0m \u001b[1;33m=\u001b[0m \u001b[0mQ\u001b[0m\u001b[1;33m\u001b[0m\u001b[1;33m\u001b[0m\u001b[0m\n",
      "\u001b[1;32m<ipython-input-4-222fee920d32>\u001b[0m in \u001b[0;36mq_learning\u001b[1;34m(env, gamma, alpha, epsilon, noEpisodes)\u001b[0m\n\u001b[0;32m     30\u001b[0m         \u001b[0mflag\u001b[0m \u001b[1;33m=\u001b[0m\u001b[1;36m0\u001b[0m\u001b[1;33m\u001b[0m\u001b[1;33m\u001b[0m\u001b[0m\n\u001b[0;32m     31\u001b[0m         \u001b[1;32mwhile\u001b[0m\u001b[1;33m(\u001b[0m\u001b[1;32mnot\u001b[0m \u001b[0mdone\u001b[0m\u001b[1;33m)\u001b[0m\u001b[1;33m:\u001b[0m\u001b[1;33m\u001b[0m\u001b[1;33m\u001b[0m\u001b[0m\n\u001b[1;32m---> 32\u001b[1;33m             \u001b[0ma\u001b[0m \u001b[1;33m=\u001b[0m \u001b[0mactionSelect\u001b[0m\u001b[1;33m(\u001b[0m\u001b[0mcurr_state\u001b[0m\u001b[1;33m,\u001b[0m \u001b[0mcurr_r\u001b[0m\u001b[1;33m,\u001b[0m \u001b[0mcurr_q\u001b[0m\u001b[1;33m,\u001b[0m \u001b[0mepsilon\u001b[0m\u001b[1;33m[\u001b[0m\u001b[0mint\u001b[0m\u001b[1;33m(\u001b[0m\u001b[0mmin\u001b[0m\u001b[1;33m(\u001b[0m\u001b[0mi\u001b[0m\u001b[1;33m,\u001b[0m \u001b[0me\u001b[0m\u001b[1;33m-\u001b[0m\u001b[1;36m1\u001b[0m\u001b[1;33m)\u001b[0m\u001b[1;33m)\u001b[0m\u001b[1;33m]\u001b[0m\u001b[1;33m,\u001b[0m \u001b[0mlast_returned_reward\u001b[0m\u001b[1;33m,\u001b[0m \u001b[0mlast_visit_time\u001b[0m\u001b[1;33m,\u001b[0m \u001b[0mreplenishing_rate\u001b[0m\u001b[1;33m,\u001b[0m \u001b[0mtime\u001b[0m\u001b[1;33m,\u001b[0m \u001b[0mweight_for_replenishing_rate\u001b[0m\u001b[1;33m[\u001b[0m\u001b[0mi\u001b[0m\u001b[1;33m]\u001b[0m\u001b[1;33m)\u001b[0m\u001b[1;33m\u001b[0m\u001b[1;33m\u001b[0m\u001b[0m\n\u001b[0m\u001b[0;32m     33\u001b[0m \u001b[1;33m\u001b[0m\u001b[0m\n\u001b[0;32m     34\u001b[0m             \u001b[1;33m(\u001b[0m\u001b[0ms_new\u001b[0m\u001b[1;33m,\u001b[0m \u001b[0mr\u001b[0m\u001b[1;33m,\u001b[0m \u001b[0mdone\u001b[0m\u001b[1;33m,\u001b[0m \u001b[0m_\u001b[0m\u001b[1;33m)\u001b[0m \u001b[1;33m=\u001b[0m \u001b[0menv\u001b[0m\u001b[1;33m.\u001b[0m\u001b[0mstep\u001b[0m\u001b[1;33m(\u001b[0m\u001b[0ma\u001b[0m\u001b[1;33m)\u001b[0m\u001b[1;33m\u001b[0m\u001b[1;33m\u001b[0m\u001b[0m\n",
      "\u001b[1;32m<ipython-input-2-7371d669c823>\u001b[0m in \u001b[0;36mactionSelect\u001b[1;34m(curr_state, curr_r, curr_q, eps, last_returned_reward, last_visit_time, replenishing_rate, time, weight_for_replenishing_rate)\u001b[0m\n\u001b[0;32m      5\u001b[0m             \u001b[0maction\u001b[0m \u001b[1;33m=\u001b[0m \u001b[0mnp\u001b[0m\u001b[1;33m.\u001b[0m\u001b[0mrandom\u001b[0m\u001b[1;33m.\u001b[0m\u001b[0mchoice\u001b[0m\u001b[1;33m(\u001b[0m\u001b[0mnp\u001b[0m\u001b[1;33m.\u001b[0m\u001b[0marange\u001b[0m\u001b[1;33m(\u001b[0m\u001b[1;36m8\u001b[0m\u001b[1;33m)\u001b[0m\u001b[1;33m)\u001b[0m\u001b[1;33m\u001b[0m\u001b[1;33m\u001b[0m\u001b[0m\n\u001b[0;32m      6\u001b[0m         \u001b[1;32melse\u001b[0m\u001b[1;33m:\u001b[0m\u001b[1;33m\u001b[0m\u001b[1;33m\u001b[0m\u001b[0m\n\u001b[1;32m----> 7\u001b[1;33m             \u001b[0mestimated_value\u001b[0m \u001b[1;33m=\u001b[0m \u001b[0mlast_returned_reward\u001b[0m \u001b[1;33m+\u001b[0m \u001b[1;33m(\u001b[0m\u001b[0mtime\u001b[0m\u001b[1;33m-\u001b[0m\u001b[0mlast_visit_time\u001b[0m\u001b[1;33m)\u001b[0m\u001b[1;33m*\u001b[0m\u001b[1;33m(\u001b[0m\u001b[0mreplenishing_rate\u001b[0m\u001b[1;33m)\u001b[0m \u001b[1;33m+\u001b[0m\u001b[1;36m1e-6\u001b[0m\u001b[1;33m\u001b[0m\u001b[1;33m\u001b[0m\u001b[0m\n\u001b[0m\u001b[0;32m      8\u001b[0m             \u001b[0mestimated_prob\u001b[0m \u001b[1;33m=\u001b[0m \u001b[0mestimated_value\u001b[0m\u001b[1;33m/\u001b[0m\u001b[1;33m(\u001b[0m\u001b[0mnp\u001b[0m\u001b[1;33m.\u001b[0m\u001b[0msum\u001b[0m\u001b[1;33m(\u001b[0m\u001b[0mestimated_value\u001b[0m\u001b[1;33m)\u001b[0m\u001b[1;33m)\u001b[0m\u001b[1;33m\u001b[0m\u001b[1;33m\u001b[0m\u001b[0m\n\u001b[0;32m      9\u001b[0m \u001b[1;33m\u001b[0m\u001b[0m\n",
      "\u001b[1;31mKeyboardInterrupt\u001b[0m: "
     ]
    }
   ],
   "source": [
    "gamma = 0.4\n",
    "alpha = 0.05\n",
    "epsilon = 1\n",
    "noEpisodes = 10000\n",
    "\n",
    "envs = EnvClass()\n",
    "env = envs.getBlock(1)\n",
    "\n",
    "Q_s  = np.zeros((5, 9, 201, 8))\n",
    "rewards = np.zeros((5, noEpisodes))\n",
    "policy_rewards = np.zeros((5, noEpisodes))\n",
    "replenishing_rates = np.zeros((5,8))\n",
    "\n",
    "for i in range(5):\n",
    "    np.random.seed(i+80)\n",
    "    env.reset()\n",
    "\n",
    "    Q, reward, replenishing_rate, policy_reward = q_learning(env, gamma, (alpha, 0.01, 0, noEpisodes//2, 'exponential'), (epsilon, 0.01, 0, (9*noEpisodes)//10, 'linear'), noEpisodes)\n",
    "    # print(reward)\n",
    "    Q_s[i] = Q\n",
    "    rewards[i] = reward\n",
    "    policy_rewards[i] = policy_reward\n",
    "    replenishing_rates[i] = replenishing_rate\n",
    "\n",
    "replenishing_rate = np.mean(replenishing_rates, axis =0)\n",
    "Q = np.mean(Q_s, axis=0)\n",
    "p = GreedyPolicy(Q)\n"
   ]
  },
  {
   "cell_type": "code",
   "execution_count": null,
   "metadata": {},
   "outputs": [
    {
     "name": "stdout",
     "output_type": "stream",
     "text": [
      "21360\n",
      "14992\n"
     ]
    },
    {
     "data": {
      "text/plain": [
       "<matplotlib.legend.Legend at 0x26d2a88dd90>"
      ]
     },
     "execution_count": 94,
     "metadata": {},
     "output_type": "execute_result"
    },
    {
     "data": {
      "image/png": "[encoded data removed]",
      "text/plain": [
       "<Figure size 432x288 with 1 Axes>"
      ]
     },
     "metadata": {
      "needs_background": "light"
     },
     "output_type": "display_data"
    }
   ],
   "source": [
    "print(playEnv(env, Q, replenishing_rate, 0.5))\n",
    "print(reward[-1])\n",
    "plt.plot(np.mean(policy_rewards,axis =0), label = \"policy reward\")\n",
    "# plt.plot(rewards,axis=0))\n",
    "# plt.plot(reward)\n",
    "plt.legend()"
   ]
  }
 ],
 "metadata": {
  "interpreter": {
   "hash": "73e03da126b73bfff3642ec5261d56fa25c444ea595de51041687efaa60dda41"
  },
  "kernelspec": {
   "display_name": "Python 3 (ipykernel)",
   "language": "python",
   "name": "python3"
  },
  "language_info": {
   "codemirror_mode": {
    "name": "ipython",
    "version": 3
   },
   "file_extension": ".py",
   "mimetype": "text/x-python",
   "name": "python",
   "nbconvert_exporter": "python",
   "pygments_lexer": "ipython3",
   "version": "3.8.8"
  }
 },
 "nbformat": 4,
 "nbformat_minor": 2
}
