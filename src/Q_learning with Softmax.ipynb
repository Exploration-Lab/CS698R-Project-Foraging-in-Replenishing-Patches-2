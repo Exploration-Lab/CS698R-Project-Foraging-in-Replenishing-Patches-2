{
 "cells": [
  {
   "cell_type": "markdown",
   "metadata": {},
   "source": [
    "1. This notebook implements q-learning with softmax action select strategy.\n",
    "2. Q-function is (state,rewards,action)."
   ]
  },
  {
   "cell_type": "code",
   "execution_count": 6,
   "metadata": {},
   "outputs": [],
   "source": [
    "import gym\n",
    "from gym import error, spaces, utils\n",
    "import numpy as np\n",
    "import math\n",
    "import pandas as pd\n",
    "from matplotlib import pyplot as plt\n",
    "import matplotlib\n",
    "from collections import namedtuple, deque\n",
    "from tqdm import tqdm, trange"
   ]
  },
  {
   "cell_type": "code",
   "execution_count": 7,
   "metadata": {},
   "outputs": [],
   "source": [
    "from blocks import EnvClass"
   ]
  },
  {
   "cell_type": "code",
   "execution_count": 8,
   "metadata": {},
   "outputs": [],
   "source": [
    "def playEnv(env,policy):\n",
    "    \n",
    "    env.reset()\n",
    "    s = env.present_state\n",
    "    done = False\n",
    "    a = int(policy[s][0])\n",
    "\n",
    "    cur_reward = 0\n",
    "\n",
    "    while not done:\n",
    "        out = env.step(a)\n",
    "        (s_prime,t),r,done,_ = out\n",
    "        cur_reward += r\n",
    "        a = int(policy[int(s_prime)][int(r)])\n",
    "        \n",
    "    return cur_reward"
   ]
  },
  {
   "cell_type": "code",
   "execution_count": 9,
   "metadata": {},
   "outputs": [],
   "source": [
    "def decayParameter(initialValue, finalValue, startStep, maxSteps, decayType):\n",
    "    arr = [initialValue]\n",
    "    para = initialValue\n",
    "    step = 0\n",
    "    \n",
    "    if(decayType == 'linear'):\n",
    "        rate = (initialValue-finalValue)/(maxSteps-startStep)\n",
    "    else:\n",
    "        rate = np.power(finalValue/initialValue, 1/(maxSteps-startStep))\n",
    "    \n",
    "    while(step < maxSteps):\n",
    "        step += 1\n",
    "        \n",
    "        if(step>startStep):\n",
    "            if(decayType=='linear'):\n",
    "                para -= rate\n",
    "            else:\n",
    "                para *= rate\n",
    "        arr.append(para)\n",
    "        \n",
    "    return(arr)"
   ]
  },
  {
   "cell_type": "code",
   "execution_count": 10,
   "metadata": {},
   "outputs": [],
   "source": [
    "def GreedyPolicy(Q):\n",
    "    \n",
    "    pi = np.zeros((Q.shape[0],Q.shape[1]))\n",
    "    \n",
    "    for s in range(Q.shape[0]):\n",
    "        \n",
    "        for r in range(Q.shape[1]):\n",
    "            \n",
    "            q = Q[s][r]\n",
    "\n",
    "            #simple_argmax\n",
    "\n",
    "            a = np.argmax(q)\n",
    "\n",
    "            #a = np.random.choice(np.where(q == q.max())[0])\n",
    "\n",
    "            pi[s][r] = int(a)\n",
    "        \n",
    "    return pi"
   ]
  },
  {
   "cell_type": "code",
   "execution_count": 24,
   "metadata": {},
   "outputs": [],
   "source": [
    "def q_learning(env,tau_s, gamma, alpha, epsilon, noEpisodes):\n",
    "    curr_q = np.zeros((9,201,8))\n",
    "    total_rewards = []\n",
    "    greedy_reward = []\n",
    "    al,e = alpha[3], epsilon[3]\n",
    "    \n",
    "    alpha = decayParameter(*alpha)\n",
    "    epsilon = decayParameter(*epsilon)\n",
    "    \n",
    "    def softmax_actionSelect(curr_state,curr_r,Q,tau):\n",
    "    \n",
    "        probs = np.exp(Q[curr_state][curr_r]/tau)/np.sum(np.exp(Q[curr_state][curr_r]/tau))\n",
    "        if np.isnan(probs).any():\n",
    "            print(Q[curr_state][curr_r])\n",
    "        a = np.random.choice(8,p=probs)\n",
    "        \n",
    "        return a\n",
    "    \n",
    "    def actionSelect(curr_state, curr_r, curr_q, eps):\n",
    "        if(np.random.uniform(0,1) < eps):\n",
    "            action = np.random.choice(np.arange(8))\n",
    "        else:\n",
    "            if(np.all(curr_q[curr_state][curr_r] == np.zeros(8))):\n",
    "                action = np.random.choice(np.arange(8))\n",
    "            else:\n",
    "                action = np.argmax(curr_q[curr_state][curr_r])\n",
    "        \n",
    "        return(action)\n",
    "    \n",
    "    for i in trange(noEpisodes):\n",
    "        env.reset()\n",
    "        curr_state = env.present_state\n",
    "        curr_r = 0\n",
    "        done = False\n",
    "        \n",
    "        total_r = 0\n",
    "        tau = tau_s[e]\n",
    "        \n",
    "        while(not done):\n",
    "#             print(epsilon[int(min(i, e-1))])\n",
    "            a = softmax_actionSelect(curr_state,curr_r,curr_q,tau)\n",
    "#             a = actionSelect(curr_state, curr_r, curr_q, epsilon[int(min(i, e-1))])\n",
    "\n",
    "            (s_new, r, done, _) = env.step(a)\n",
    "            \n",
    "            total_r += r\n",
    "            \n",
    "            td_target = r\n",
    "            if(not done):\n",
    "                td_target += gamma*np.max(curr_q[int(s_new[0])][int(r)])\n",
    "                \n",
    "            td_error = td_target - curr_q[curr_state][curr_r][a]\n",
    "            \n",
    "#             print(curr_state, a, i)\n",
    "#             print(alpha[int(min(i, al-1))])\n",
    "            curr_q[curr_state][curr_r][a] += alpha[int(min(i, al-1))]*td_error\n",
    "            \n",
    "            curr_state = s_new[0]\n",
    "            curr_r = int(r)\n",
    "        \n",
    "        total_rewards.append(total_r)\n",
    "        greedy_reward.append(playEnv(env, GreedyPolicy(curr_q)))\n",
    "    return curr_q, total_rewards, greedy_reward"
   ]
  },
  {
   "cell_type": "markdown",
   "metadata": {},
   "source": [
    "## EXPERIMENTATION"
   ]
  },
  {
   "cell_type": "code",
   "execution_count": null,
   "metadata": {},
   "outputs": [],
   "source": [
    "block = 3"
   ]
  },
  {
   "cell_type": "code",
   "execution_count": 47,
   "metadata": {},
   "outputs": [],
   "source": [
    "gamma = 0.3\n",
    "alpha = 0.05\n",
    "epsilon = 1\n",
    "num_seeds = 3\n",
    "noEpisodes = 1000\n",
    "\n",
    "envs = EnvClass()\n",
    "env = envs.getBlock(block)\n",
    "\n",
    "Q_s  = np.zeros((num_seeds, 9, 201, 8))\n",
    "rewards = np.zeros((5, noEpisodes))\n",
    "greedy_rewards = np.zeros((5, noEpisodes))\n",
    "tau_i = 1500\n",
    "tau_f = 10\n",
    "lin_r = (tau_f - tau_i) / (noEpisodes-1)\n",
    "exp_r = (tau_f/tau_i)**(1/(noEpisodes-1))\n",
    "taus = [ tau_i*(exp_r**i) for i in range(noEpisodes)]\n",
    "# taus = [ tau_i + lin_r*i for i in range(noEpisodes)]"
   ]
  },
  {
   "cell_type": "code",
   "execution_count": 48,
   "metadata": {},
   "outputs": [
    {
     "name": "stderr",
     "output_type": "stream",
     "text": [
      "100%|██████████| 1000/1000 [00:23<00:00, 42.44it/s]\n",
      "100%|██████████| 1000/1000 [00:23<00:00, 41.98it/s]\n",
      "100%|██████████| 1000/1000 [00:24<00:00, 40.56it/s]"
     ]
    },
    {
     "name": "stdout",
     "output_type": "stream",
     "text": [
      "24632\n"
     ]
    },
    {
     "name": "stderr",
     "output_type": "stream",
     "text": [
      "\n"
     ]
    },
    {
     "data": {
      "image/png": "[encoded data removed]",
      "text/plain": [
       "<Figure size 432x288 with 1 Axes>"
      ]
     },
     "metadata": {
      "needs_background": "light"
     },
     "output_type": "display_data"
    }
   ],
   "source": [
    "seeds = [4,8,25]\n",
    "for i in range(num_seeds):\n",
    "    np.random.seed(seeds[i])\n",
    "    env.reset()\n",
    "\n",
    "    Q, reward, greedyReward = q_learning(env, taus,gamma, (alpha, 0.01, 0, noEpisodes, 'exponential'), (epsilon, 0.01, 0, (9*noEpisodes)//10, 'linear'), noEpisodes)\n",
    "\n",
    "    Q_s[i] = Q\n",
    "    rewards[i] = reward\n",
    "    greedy_rewards[i]= greedyReward\n",
    "    \n",
    "    plt.plot(greedyReward)\n",
    "\n",
    "Q = np.mean(Q_s, axis=0)\n",
    "p = GreedyPolicy(Q)\n",
    "print(playEnv(env, p))"
   ]
  },
  {
   "cell_type": "code",
   "execution_count": 49,
   "metadata": {},
   "outputs": [
    {
     "name": "stdout",
     "output_type": "stream",
     "text": [
      "24061\n",
      "23577\n",
      "23183\n"
     ]
    }
   ],
   "source": [
    "for q in Q_s:\n",
    "    print(playEnv(env, GreedyPolicy(q)))"
   ]
  },
  {
   "cell_type": "code",
   "execution_count": 53,
   "metadata": {},
   "outputs": [
    {
     "name": "stdout",
     "output_type": "stream",
     "text": [
      "24632\n"
     ]
    }
   ],
   "source": [
    "Q = np.mean(Q_s, axis=0)\n",
    "p = GreedyPolicy(Q)\n",
    "print(playEnv(env, p))"
   ]
  },
  {
   "cell_type": "code",
   "execution_count": null,
   "metadata": {},
   "outputs": [],
   "source": []
  },
  {
   "cell_type": "code",
   "execution_count": 54,
   "metadata": {},
   "outputs": [],
   "source": [
    "np.savez('./policies/q_learn/q_learning_B'+str(block)+'_policy_soft.npz', p)\n",
    "np.savez('./policies/q_learn/q_learning_B'+str(block)+'_reward_soft.npz', rewards)\n",
    "np.savez('./policies/q_learn/q_learning_B'+str(block)+'_greedy_soft.npz', greedy_rewards)"
   ]
  },
  {
   "cell_type": "code",
   "execution_count": null,
   "metadata": {},
   "outputs": [],
   "source": []
  },
  {
   "cell_type": "code",
   "execution_count": null,
   "metadata": {},
   "outputs": [],
   "source": []
  }
 ],
 "metadata": {
  "kernelspec": {
   "display_name": "Python 3",
   "language": "python",
   "name": "python3"
  },
  "language_info": {
   "codemirror_mode": {
    "name": "ipython",
    "version": 3
   },
   "file_extension": ".py",
   "mimetype": "text/x-python",
   "name": "python",
   "nbconvert_exporter": "python",
   "pygments_lexer": "ipython3",
   "version": "3.8.10"
  }
 },
 "nbformat": 4,
 "nbformat_minor": 5
}
