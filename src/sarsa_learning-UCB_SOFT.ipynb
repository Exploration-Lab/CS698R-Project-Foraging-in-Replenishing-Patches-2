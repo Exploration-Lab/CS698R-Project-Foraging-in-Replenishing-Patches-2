{
 "cells": [
  {
   "cell_type": "markdown",
   "metadata": {},
   "source": [
    "1. This notebook implements SARSA with the UCB and Softmax as action select strategy.\n",
    "2. All other things are kept same as in decayEps notebook.\n",
    "3. The experimentation for Softmax and UCB is done separately."
   ]
  },
  {
   "cell_type": "code",
   "execution_count": 339,
   "metadata": {},
   "outputs": [
    {
     "name": "stdout",
     "output_type": "stream",
     "text": [
      "Defaulting to user installation because normal site-packages is not writeable\n",
      "Obtaining file:///home/kabhay/Documents/courses/RL_project/Foraging_in_replenishing_patches/gym-env\n",
      "Requirement already satisfied: gym in /home/kabhay/.local/lib/python3.8/site-packages (from gym-env==0.0.1) (0.19.0)\n",
      "Requirement already satisfied: numpy>=1.18.0 in /home/kabhay/.local/lib/python3.8/site-packages (from gym->gym-env==0.0.1) (1.20.0)\n",
      "Requirement already satisfied: cloudpickle<1.7.0,>=1.2.0 in /home/kabhay/.local/lib/python3.8/site-packages (from gym->gym-env==0.0.1) (1.6.0)\n",
      "Installing collected packages: gym-env\n",
      "  Attempting uninstall: gym-env\n",
      "    Found existing installation: gym-env 0.0.1\n",
      "    Uninstalling gym-env-0.0.1:\n",
      "      Successfully uninstalled gym-env-0.0.1\n",
      "  Running setup.py develop for gym-env\n",
      "Successfully installed gym-env-0.0.1\n",
      "\u001b[33mWARNING: You are using pip version 21.2.4; however, version 21.3.1 is available.\n",
      "You should consider upgrading via the '/usr/bin/python3 -m pip install --upgrade pip' command.\u001b[0m\n"
     ]
    }
   ],
   "source": [
    "!pip3 install -e gym-env\n",
    "# !pip3 install pygame"
   ]
  },
  {
   "cell_type": "code",
   "execution_count": 340,
   "metadata": {},
   "outputs": [],
   "source": [
    "import gym\n",
    "from gym import error, spaces, utils\n",
    "import numpy as np\n",
    "import math\n",
    "import pandas as pd\n",
    "from matplotlib import pyplot as plt\n",
    "import matplotlib"
   ]
  },
  {
   "cell_type": "code",
   "execution_count": 341,
   "metadata": {},
   "outputs": [],
   "source": [
    "from blocks import EnvClass"
   ]
  },
  {
   "cell_type": "code",
   "execution_count": 342,
   "metadata": {},
   "outputs": [],
   "source": [
    "def playEnv(env,policy):\n",
    "    \n",
    "    env.reset()\n",
    "    \n",
    "    s = env.present_state\n",
    "    \n",
    "    done = False\n",
    "\n",
    "    a = int(policy[s][0])\n",
    "\n",
    "    cur_reward = 0\n",
    "\n",
    "    while not done:\n",
    "\n",
    "        out = env.step(a)\n",
    "\n",
    "        (s_prime,t),r,done,_ = out\n",
    "        \n",
    "        cur_reward += r\n",
    "        a = int(policy[int(s_prime)][int(r)])\n",
    "        \n",
    "    return cur_reward"
   ]
  },
  {
   "cell_type": "code",
   "execution_count": 343,
   "metadata": {},
   "outputs": [],
   "source": [
    "def decayEpsilon(eps,noEpisodes,decayUntil,min_eps=0.01,decayType='linear'):\n",
    "    \n",
    "    epsilons = np.empty(noEpisodes)\n",
    "    \n",
    "    epsilons.fill(min_eps)\n",
    "    \n",
    "    if decayType == 'linear':\n",
    "        \n",
    "        rate = (eps - min_eps) / decayUntil\n",
    "        \n",
    "        for i in range(decayUntil+1):\n",
    "            epsilons[i] = eps - i*rate\n",
    "    \n",
    "    else :\n",
    "        \n",
    "        rate = (eps/min_eps)** (1/decayUntil)\n",
    "        \n",
    "        for i in range(decayUntil+1):\n",
    "            epsilons[i] = eps * (rate**i)\n",
    "\n",
    "    \n",
    "    return epsilons"
   ]
  },
  {
   "cell_type": "code",
   "execution_count": 344,
   "metadata": {},
   "outputs": [],
   "source": [
    "def decayAlpha(alpha, noEpisodes,maxSteps,final_alpha = 0.01,decayType='linear'):\n",
    "    \n",
    "    alphas = [float(final_alpha)] * noEpisodes\n",
    "    \n",
    "    if decayType == 'linear':\n",
    "        \n",
    "        rate = (alpha - final_alpha) / maxSteps\n",
    "        \n",
    "        for i in range(maxSteps+1):\n",
    "            alphas[i] = alpha - i*rate\n",
    "    \n",
    "    else :\n",
    "        \n",
    "        rate = (final_alpha/alpha)** (1/maxSteps)\n",
    "        \n",
    "        for i in range(maxSteps+1):\n",
    "            alphas[i] = alpha * (rate**i)\n",
    "    \n",
    "    return alphas"
   ]
  },
  {
   "cell_type": "code",
   "execution_count": 345,
   "metadata": {},
   "outputs": [],
   "source": [
    "def actionSelect(s,r,Q,eps):\n",
    "    \n",
    "    q = Q[s][r]\n",
    "    \n",
    "    if np.random.rand() > eps:\n",
    "        a = np.random.choice(np.where(q == q.max())[0])\n",
    "    else :\n",
    "        a = np.random.randint(0,len(q))\n",
    "    \n",
    "    return a"
   ]
  },
  {
   "cell_type": "code",
   "execution_count": 346,
   "metadata": {},
   "outputs": [],
   "source": [
    "def GreedyPolicy(Q):\n",
    "    \n",
    "    pi = np.zeros((Q.shape[0],Q.shape[1]))\n",
    "    \n",
    "    for s in range(Q.shape[0]):\n",
    "        \n",
    "        for r in range(Q.shape[1]):\n",
    "            \n",
    "            q = Q[s][r]\n",
    "\n",
    "            #simple_argmax\n",
    "\n",
    "            a = np.argmax(q)\n",
    "\n",
    "            #a = np.random.choice(np.where(q == q.max())[0])\n",
    "\n",
    "            pi[s][r] = int(a)\n",
    "        \n",
    "    return pi"
   ]
  },
  {
   "cell_type": "code",
   "execution_count": 347,
   "metadata": {},
   "outputs": [],
   "source": [
    "from tqdm import tqdm"
   ]
  },
  {
   "cell_type": "code",
   "execution_count": 348,
   "metadata": {},
   "outputs": [],
   "source": [
    "def UCB_actionSelect(curr_state, curr_r, curr_q, c, stepCounter, actionCounter):\n",
    "    if(np.any(actionCounter[curr_state][curr_r] == 0)):\n",
    "        return(np.where(actionCounter[curr_state][curr_r] == 0)[0][0])\n",
    "    else:\n",
    "        U = c*np.sqrt(np.log(stepCounter[curr_state][curr_r])/actionCounter[curr_state][curr_r])\n",
    "        return(np.argmax(U+curr_q[curr_state][curr_r]))"
   ]
  },
  {
   "cell_type": "code",
   "execution_count": 349,
   "metadata": {},
   "outputs": [],
   "source": [
    "#reference : lecture slides\n",
    "\n",
    "def SARSA_UCB(env,c,gamma,alpha,eps,noEpisodes,epsilons = [0]) :\n",
    "    \n",
    "    n_states = env.observation_space.n\n",
    "    n_actions = env.action_space.n\n",
    "    \n",
    "    Q = np.zeros((n_states,201,n_actions))\n",
    "    actionCounter = np.zeros((n_states,201,n_actions))\n",
    "    \n",
    "    stepCounter = np.zeros((n_states,201))\n",
    "    \n",
    "    if epsilons[0] == 0:\n",
    "        epsilons = decayEpsilon(eps,noEpisodes,noEpisodes,min_eps = 0.1, decayType = 'linear')\n",
    "        \n",
    "    alphas = decayAlpha(alpha,noEpisodes,int(3*noEpisodes/4) ,final_alpha = 0.02 ,decayType = 'linear')\n",
    "    \n",
    "    rewards = np.zeros((noEpisodes)) \n",
    "    greedy_rewards = np.zeros((noEpisodes))\n",
    "    \n",
    "    for e in tqdm(range(noEpisodes)):\n",
    "        \n",
    "        cur_alpha = alphas[e]\n",
    "        cur_eps = epsilons[e]\n",
    "        env.reset()\n",
    "        s = env.present_state\n",
    "        done = False\n",
    "        \n",
    "        a = UCB_actionSelect(s,0,Q,c,stepCounter,actionCounter)\n",
    "        \n",
    "        eps_reward = 0\n",
    "\n",
    "        r = 0\n",
    "        \n",
    "        \n",
    "        while not done:\n",
    "\n",
    "            out = env.step(a)\n",
    "            \n",
    "            (s_prime,t),r_new,done,_ = out\n",
    "            \n",
    "                \n",
    "            eps_reward += r_new\n",
    "            \n",
    "            stepCounter[s][r] += 1\n",
    "            actionCounter[s][r][a] += 1\n",
    "            \n",
    "            a_prime = UCB_actionSelect(s_prime,int(r_new),Q,c,stepCounter,actionCounter)\n",
    "            \n",
    "            td_target = r_new\n",
    "            \n",
    "            if not done :\n",
    "                td_target += gamma * Q[s_prime][int(r_new)][a_prime]\n",
    "                \n",
    "            td_error = td_target - Q[s][int(r)][a]\n",
    "                \n",
    "            Q[s][int(r)][a] = Q[s][int(r)][a] + cur_alpha * td_error\n",
    "            \n",
    "            s = s_prime\n",
    "            \n",
    "            a = a_prime\n",
    "            \n",
    "            r = r_new\n",
    "            \n",
    "        rewards[e] = eps_reward\n",
    "        greedy_rewards[e] = playEnv(env,GreedyPolicy(Q))\n",
    "    \n",
    "    pi = GreedyPolicy(Q)\n",
    "    \n",
    "    return Q,pi,rewards,greedy_rewards\n",
    "    "
   ]
  },
  {
   "cell_type": "code",
   "execution_count": 350,
   "metadata": {},
   "outputs": [],
   "source": [
    "envs = EnvClass()"
   ]
  },
  {
   "cell_type": "markdown",
   "metadata": {},
   "source": [
    "## UCB EXPERIMENTATION"
   ]
  },
  {
   "cell_type": "code",
   "execution_count": 1,
   "metadata": {},
   "outputs": [],
   "source": [
    "# change this variable\n",
    "block = 3"
   ]
  },
  {
   "cell_type": "code",
   "execution_count": 377,
   "metadata": {},
   "outputs": [],
   "source": [
    "env_b1 = envs.getBlock(block)\n",
    "num_seeds = 5\n",
    "\n",
    "n_states = 9\n",
    "n_actions = 8\n",
    "\n",
    "alpha = 0.5\n",
    "gamma = 0.4\n",
    "eps = 1\n",
    "noEpisodes = 1000\n",
    "c = 15\n",
    "\n",
    "Q_ = np.zeros((num_seeds, n_states,201,n_actions)) \n",
    "ucb_rewards_ = np.zeros((num_seeds,noEpisodes))\n",
    "ucb_greedy_ = np.zeros((num_seeds,noEpisodes))"
   ]
  },
  {
   "cell_type": "code",
   "execution_count": null,
   "metadata": {},
   "outputs": [],
   "source": []
  },
  {
   "cell_type": "code",
   "execution_count": 378,
   "metadata": {},
   "outputs": [
    {
     "name": "stderr",
     "output_type": "stream",
     "text": [
      "100%|██████████| 1000/1000 [00:34<00:00, 28.88it/s]\n",
      "100%|██████████| 1000/1000 [00:30<00:00, 32.28it/s]\n",
      "100%|██████████| 1000/1000 [00:30<00:00, 32.42it/s]\n",
      "100%|██████████| 1000/1000 [00:36<00:00, 27.36it/s]\n"
     ]
    }
   ],
   "source": [
    "for i in range(1,num_seeds):    \n",
    "    np.random.seed(4*i)\n",
    "    epsilons = np.ones((noEpisodes))\n",
    "    epsilons = decayEpsilon(eps,noEpisodes,19*noEpisodes//20, min_eps = 0.01, decayType = 'linear')\n",
    "    Q_[i],pi1,ucb_rewards_[i],ucb_greedy_[i] = SARSA_UCB(env_b1,c,gamma,alpha,eps,noEpisodes,epsilons)"
   ]
  },
  {
   "cell_type": "code",
   "execution_count": null,
   "metadata": {},
   "outputs": [],
   "source": []
  },
  {
   "cell_type": "code",
   "execution_count": 379,
   "metadata": {},
   "outputs": [],
   "source": [
    "ucb_avg_rewards = np.mean(ucb_rewards_[1:],axis = 0)"
   ]
  },
  {
   "cell_type": "code",
   "execution_count": 380,
   "metadata": {},
   "outputs": [],
   "source": [
    "ucb_avg_greedy = np.mean(ucb_greedy_[1:],axis = 0)"
   ]
  },
  {
   "cell_type": "code",
   "execution_count": 381,
   "metadata": {},
   "outputs": [],
   "source": [
    "Q_avg = np.mean(Q_[1:],axis = 0)"
   ]
  },
  {
   "cell_type": "code",
   "execution_count": 382,
   "metadata": {},
   "outputs": [],
   "source": [
    "def GreedyPolicy(Q):\n",
    "    \n",
    "    pi = np.zeros((Q.shape[0],Q.shape[1]))\n",
    "    \n",
    "    for s in range(Q.shape[0]):\n",
    "        \n",
    "        for r in range(Q.shape[1]):\n",
    "            \n",
    "            q = Q[s][r]\n",
    "\n",
    "            #simple_argmax\n",
    "\n",
    "            a = np.argmax(q)\n",
    "\n",
    "            #a = np.random.choice(np.where(q == q.max())[0])\n",
    "\n",
    "            pi[s][r] = int(a)\n",
    "        \n",
    "    return pi"
   ]
  },
  {
   "cell_type": "code",
   "execution_count": 383,
   "metadata": {},
   "outputs": [],
   "source": [
    "ucb_pi_ = GreedyPolicy(Q_avg)"
   ]
  },
  {
   "cell_type": "code",
   "execution_count": 384,
   "metadata": {
    "scrolled": true
   },
   "outputs": [
    {
     "data": {
      "text/plain": [
       "24363"
      ]
     },
     "execution_count": 384,
     "metadata": {},
     "output_type": "execute_result"
    }
   ],
   "source": [
    "playEnv(env_b1,ucb_pi_)"
   ]
  },
  {
   "cell_type": "code",
   "execution_count": 385,
   "metadata": {
    "scrolled": true
   },
   "outputs": [
    {
     "name": "stdout",
     "output_type": "stream",
     "text": [
      "517\n",
      "24363\n",
      "24363\n",
      "24363\n",
      "24363\n"
     ]
    }
   ],
   "source": [
    "for i in range(num_seeds):\n",
    "    pi = GreedyPolicy(Q_[i])\n",
    "    print(playEnv(env_b1,pi))"
   ]
  },
  {
   "cell_type": "code",
   "execution_count": 386,
   "metadata": {},
   "outputs": [
    {
     "data": {
      "text/plain": [
       "Text(0.5, 1.0, 'SARSA reward for block 1')"
      ]
     },
     "execution_count": 386,
     "metadata": {},
     "output_type": "execute_result"
    },
    {
     "data": {
      "image/png": "[encoded data removed]",
      "text/plain": [
       "<Figure size 864x576 with 1 Axes>"
      ]
     },
     "metadata": {
      "needs_background": "light"
     },
     "output_type": "display_data"
    }
   ],
   "source": [
    "plt.figure(figsize=(12,8))\n",
    "plt.plot(ucb_avg_rewards)\n",
    "plt.xlabel(\"episodes\")\n",
    "plt.ylabel(\"rewards\")\n",
    "plt.title(\"SARSA reward for block 1\")"
   ]
  },
  {
   "cell_type": "code",
   "execution_count": 387,
   "metadata": {},
   "outputs": [
    {
     "data": {
      "text/plain": [
       "Text(0.5, 1.0, 'SARSA reward for block 1')"
      ]
     },
     "execution_count": 387,
     "metadata": {},
     "output_type": "execute_result"
    },
    {
     "data": {
      "image/png": "[encoded data removed]",
      "text/plain": [
       "<Figure size 864x576 with 1 Axes>"
      ]
     },
     "metadata": {
      "needs_background": "light"
     },
     "output_type": "display_data"
    }
   ],
   "source": [
    "plt.figure(figsize=(12,8))\n",
    "plt.plot(ucb_avg_greedy)\n",
    "plt.xlabel(\"episodes\")\n",
    "plt.ylabel(\"rewards\")\n",
    "plt.title(\"SARSA reward for block 1\")"
   ]
  },
  {
   "cell_type": "code",
   "execution_count": null,
   "metadata": {},
   "outputs": [],
   "source": []
  },
  {
   "cell_type": "code",
   "execution_count": 388,
   "metadata": {},
   "outputs": [],
   "source": [
    "np.savez('./policies/sarsa/sarsa_learning_c_15_gamma_04_B'+str(block)+'_ucb_reward.npz', ucb_rewards_)\n",
    "np.savez('./policies/sarsa/sarsa_learning_c_15_gamma_04_B'+str(block)+'_ucb_greedy.npz', ucb_greedy_)\n",
    "np.savez('./policies/sarsa/sarsa_learning_c_15_gamma_04_B'+str(block)+'_ucb_policy.npz', pi_)"
   ]
  },
  {
   "cell_type": "markdown",
   "metadata": {},
   "source": [
    "### SOFTMAX"
   ]
  },
  {
   "cell_type": "code",
   "execution_count": 389,
   "metadata": {},
   "outputs": [],
   "source": [
    "def softmax_actionSelect(curr_state,curr_r,Q,tau,e):\n",
    "    \n",
    "    probs = np.exp(Q[curr_state][curr_r]/tau)/np.sum(np.exp(Q[curr_state][curr_r]/tau))\n",
    "#     print(tau,probs)\n",
    "    if np.isnan(probs).any():\n",
    "        print(Q[curr_state][curr_r])\n",
    "    a = np.random.choice(8,p=probs)\n",
    "    return a"
   ]
  },
  {
   "cell_type": "code",
   "execution_count": 390,
   "metadata": {},
   "outputs": [],
   "source": [
    "#reference : lecture slides\n",
    "\n",
    "def Softmax_SARSA(env,taus,gamma,alpha,noEpisodes,epsilons = [0]) :\n",
    "    \n",
    "    n_states = env.observation_space.n\n",
    "    n_actions = env.action_space.n\n",
    "    \n",
    "    Q = np.zeros((n_states,201,n_actions))\n",
    "    \n",
    "    if epsilons[0] == 0:\n",
    "        epsilons = decayEpsilon(1,noEpisodes,noEpisodes,min_eps = 0.1, decayType = 'linear')\n",
    "        \n",
    "    alphas = decayAlpha(alpha,noEpisodes,int(3*noEpisodes/4) ,final_alpha = 0.02 ,decayType = 'linear')\n",
    "    \n",
    "    rewards = np.zeros((noEpisodes)) \n",
    "    greedy_rewards = np.zeros((noEpisodes))\n",
    "\n",
    "    for e in tqdm(range(noEpisodes)):\n",
    "        \n",
    "        cur_alpha = alphas[e]\n",
    "        env.reset()\n",
    "        s = env.present_state\n",
    "        done = False\n",
    "        \n",
    "        tau = taus[e]\n",
    "        \n",
    "        a = softmax_actionSelect(s,0,Q,tau,e)\n",
    "        \n",
    "        eps_reward = 0\n",
    "\n",
    "        r = 0\n",
    "        \n",
    "        while not done:\n",
    "\n",
    "            out = env.step(a)\n",
    "            \n",
    "            (s_prime,t),r_new,done,_ = out\n",
    "            \n",
    "                \n",
    "            eps_reward += r_new\n",
    "            \n",
    "            \n",
    "            a_prime = softmax_actionSelect(s_prime,int(r_new),Q,tau,e)\n",
    "            \n",
    "            td_target = r_new\n",
    "            \n",
    "            if not done :\n",
    "                td_target += gamma * Q[s_prime][int(r_new)][a_prime]\n",
    "                \n",
    "            td_error = td_target - Q[s][int(r)][a]\n",
    "                \n",
    "            Q[s][int(r)][a] = Q[s][int(r)][a] + cur_alpha * td_error\n",
    "            \n",
    "            s = s_prime\n",
    "            \n",
    "            a = a_prime\n",
    "            \n",
    "            r = r_new\n",
    "            \n",
    "        rewards[e] = eps_reward\n",
    "        greedy_rewards[e] = playEnv(env,GreedyPolicy(Q))\n",
    "    \n",
    "    pi = GreedyPolicy(Q)\n",
    "    \n",
    "    return Q,pi,rewards,greedy_rewards\n",
    "    "
   ]
  },
  {
   "cell_type": "markdown",
   "metadata": {},
   "source": [
    "## SOFTMAX EXPERIMENTATION"
   ]
  },
  {
   "cell_type": "code",
   "execution_count": null,
   "metadata": {},
   "outputs": [],
   "source": [
    "block = 3"
   ]
  },
  {
   "cell_type": "code",
   "execution_count": 479,
   "metadata": {},
   "outputs": [],
   "source": [
    "env_b1 = envs.getBlock(block)\n",
    "num_seeds = 5\n",
    "\n",
    "n_states = 9\n",
    "n_actions = 8\n",
    "\n",
    "alpha = 0.5\n",
    "gamma = 0.4\n",
    "noEpisodes = 1000\n",
    "tau_i = 1000\n",
    "tau_f = 10\n",
    "lin_r = (tau_f - tau_i) / (noEpisodes-1)\n",
    "exp_r = (tau_f/tau_i)**(1/(noEpisodes-1))\n",
    "taus = [ tau_i*(exp_r**i) for i in range(noEpisodes)]\n",
    "# taus = [ tau_i+i*lin_r  for i in range(noEpisodes)]\n",
    "\n",
    "\n",
    "Q_ = np.zeros((num_seeds, n_states,201,n_actions)) \n",
    "sof_rewards_ = np.zeros((num_seeds,noEpisodes))\n",
    "sof_greedy_ = np.zeros((num_seeds,noEpisodes))"
   ]
  },
  {
   "cell_type": "code",
   "execution_count": 480,
   "metadata": {},
   "outputs": [
    {
     "name": "stderr",
     "output_type": "stream",
     "text": [
      "100%|██████████| 1000/1000 [00:31<00:00, 31.70it/s]\n",
      "100%|██████████| 1000/1000 [00:31<00:00, 31.75it/s]\n",
      "100%|██████████| 1000/1000 [00:31<00:00, 31.92it/s]\n",
      "100%|██████████| 1000/1000 [00:31<00:00, 32.21it/s]\n"
     ]
    }
   ],
   "source": [
    "for i in range(1,num_seeds):    \n",
    "    np.random.seed(4*(i+1))\n",
    "    epsilons = np.ones((noEpisodes))\n",
    "    epsilons = decayEpsilon(eps,noEpisodes,19*noEpisodes//20, min_eps = 0.01, decayType = 'linear')\n",
    "    Q_[i],pi1,sof_rewards_[i],sof_greedy_[i] = Softmax_SARSA(env_b1,taus,gamma,alpha,noEpisodes,epsilons)"
   ]
  },
  {
   "cell_type": "code",
   "execution_count": 481,
   "metadata": {},
   "outputs": [],
   "source": [
    "sof_avg_rewards = np.mean(sof_rewards_[1:],axis = 0)"
   ]
  },
  {
   "cell_type": "code",
   "execution_count": 482,
   "metadata": {},
   "outputs": [],
   "source": [
    "sof_avg_greedy = np.mean(sof_greedy_[1:],axis = 0)"
   ]
  },
  {
   "cell_type": "code",
   "execution_count": 483,
   "metadata": {},
   "outputs": [],
   "source": [
    "Q_avg = np.mean(Q_[1:4],axis = 0)"
   ]
  },
  {
   "cell_type": "code",
   "execution_count": 484,
   "metadata": {},
   "outputs": [],
   "source": [
    "sof_pi_ = GreedyPolicy(Q_avg)"
   ]
  },
  {
   "cell_type": "code",
   "execution_count": 485,
   "metadata": {
    "scrolled": true
   },
   "outputs": [
    {
     "data": {
      "text/plain": [
       "24709"
      ]
     },
     "execution_count": 485,
     "metadata": {},
     "output_type": "execute_result"
    }
   ],
   "source": [
    "playEnv(env_b1,sof_pi_)"
   ]
  },
  {
   "cell_type": "code",
   "execution_count": 486,
   "metadata": {
    "scrolled": true
   },
   "outputs": [
    {
     "name": "stdout",
     "output_type": "stream",
     "text": [
      "517\n",
      "24559\n",
      "25065\n",
      "23505\n",
      "23709\n"
     ]
    }
   ],
   "source": [
    "for i in range(num_seeds):\n",
    "    pi = GreedyPolicy(Q_[i])\n",
    "    print(playEnv(env_b1,pi))"
   ]
  },
  {
   "cell_type": "code",
   "execution_count": 487,
   "metadata": {},
   "outputs": [
    {
     "data": {
      "text/plain": [
       "Text(0.5, 1.0, 'SARSA reward for block 1')"
      ]
     },
     "execution_count": 487,
     "metadata": {},
     "output_type": "execute_result"
    },
    {
     "data": {
      "image/png": "[encoded data removed]",
      "text/plain": [
       "<Figure size 864x576 with 1 Axes>"
      ]
     },
     "metadata": {
      "needs_background": "light"
     },
     "output_type": "display_data"
    }
   ],
   "source": [
    "plt.figure(figsize=(12,8))\n",
    "plt.plot(sof_avg_rewards)\n",
    "plt.xlabel(\"episodes\")\n",
    "plt.ylabel(\"rewards\")\n",
    "plt.title(\"SARSA reward for block 1\")"
   ]
  },
  {
   "cell_type": "code",
   "execution_count": 488,
   "metadata": {},
   "outputs": [
    {
     "data": {
      "text/plain": [
       "Text(0.5, 1.0, 'SARSA reward for block 1')"
      ]
     },
     "execution_count": 488,
     "metadata": {},
     "output_type": "execute_result"
    },
    {
     "data": {
      "image/png": "[encoded data removed]",
      "text/plain": [
       "<Figure size 864x576 with 1 Axes>"
      ]
     },
     "metadata": {
      "needs_background": "light"
     },
     "output_type": "display_data"
    }
   ],
   "source": [
    "plt.figure(figsize=(12,8))\n",
    "plt.plot(sof_avg_greedy)\n",
    "plt.xlabel(\"episodes\")\n",
    "plt.ylabel(\"rewards\")\n",
    "plt.title(\"SARSA reward for block 1\")"
   ]
  },
  {
   "cell_type": "code",
   "execution_count": null,
   "metadata": {},
   "outputs": [],
   "source": []
  },
  {
   "cell_type": "code",
   "execution_count": 489,
   "metadata": {},
   "outputs": [],
   "source": [
    "np.savez('./policies/sarsa/sarsa_learning_gamma_04_B'+str(block)+'_sof_reward.npz', sof_rewards_)\n",
    "np.savez('./policies/sarsa/sarsa_learning_gamma_04_B'+str(block)+'_sof_greedy.npz', sof_greedy_)\n",
    "np.savez('./policies/sarsa/sarsa_learning_gamma_04_B'+str(block)+'_sof_policy.npz', sof_pi_)"
   ]
  },
  {
   "cell_type": "code",
   "execution_count": null,
   "metadata": {},
   "outputs": [],
   "source": []
  },
  {
   "cell_type": "code",
   "execution_count": null,
   "metadata": {},
   "outputs": [],
   "source": []
  },
  {
   "cell_type": "code",
   "execution_count": null,
   "metadata": {},
   "outputs": [],
   "source": []
  },
  {
   "cell_type": "code",
   "execution_count": null,
   "metadata": {},
   "outputs": [],
   "source": []
  },
  {
   "cell_type": "code",
   "execution_count": null,
   "metadata": {},
   "outputs": [],
   "source": []
  }
 ],
 "metadata": {
  "interpreter": {
   "hash": "31f2aee4e71d21fbe5cf8b01ff0e069b9275f58929596ceb00d14d90e3e16cd6"
  },
  "kernelspec": {
   "display_name": "Python 3",
   "language": "python",
   "name": "python3"
  },
  "language_info": {
   "codemirror_mode": {
    "name": "ipython",
    "version": 3
   },
   "file_extension": ".py",
   "mimetype": "text/x-python",
   "name": "python",
   "nbconvert_exporter": "python",
   "pygments_lexer": "ipython3",
   "version": "3.8.10"
  }
 },
 "nbformat": 4,
 "nbformat_minor": 2
}
