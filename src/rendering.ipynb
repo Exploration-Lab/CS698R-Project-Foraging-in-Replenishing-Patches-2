{
  "nbformat": 4,
  "nbformat_minor": 0,
  "metadata": {
    "colab": {
      "name": "rendering.ipynb",
      "provenance": []
    },
    "interpreter": {
      "hash": "73e03da126b73bfff3642ec5261d56fa25c444ea595de51041687efaa60dda41"
    },
    "kernelspec": {
      "display_name": "Python 3 (ipykernel)",
      "language": "python",
      "name": "python3"
    },
    "language_info": {
      "codemirror_mode": {
        "name": "ipython",
        "version": 3
      },
      "file_extension": ".py",
      "mimetype": "text/x-python",
      "name": "python",
      "nbconvert_exporter": "python",
      "pygments_lexer": "ipython3",
      "version": "3.9.5"
    }
  },
  "cells": [
    {
      "cell_type": "code",
      "metadata": {
        "id": "HTVOjcYpPX--"
      },
      "source": [
        "#!pip install -e gym-env\n",
        "# Installs the environment"
      ],
      "execution_count": null,
      "outputs": []
    },
    {
      "cell_type": "markdown",
      "metadata": {
        "id": "zr56nycDYtHS"
      },
      "source": [
        "Restart the Kernal "
      ]
    },
    {
      "cell_type": "code",
      "metadata": {
        "id": "xwhMmXYhYwqc"
      },
      "source": [
        "import numpy as np\n",
        "from blocks import EnvClass"
      ],
      "execution_count": null,
      "outputs": []
    },
    {
      "cell_type": "code",
      "metadata": {
        "id": "8SBvuHxJYjQG"
      },
      "source": [
        "envs = EnvClass()\n",
        "env_b1 = envs.getBlock(1)\n",
        "env_b2 = envs.getBlock(2)\n",
        "env_b3 = envs.getBlock(3)\n",
        "\n",
        "# assign 'env' environment block to be used \n",
        "env = env_b1"
      ],
      "execution_count": null,
      "outputs": []
    },
    {
      "cell_type": "code",
      "metadata": {
        "id": "HD_gPAJ3Pd-L"
      },
      "source": [
        "import pygame\n",
        "import numpy as np\n",
        "import gym\n",
        "import time\n",
        "pygame.init()\n",
        "\n",
        "def rmse(predictions, targets):\n",
        "    # function to compute distance between two data points \n",
        "    predictions = np.array([predictions[0],predictions[1]])\n",
        "    targets = np.array([targets[0],targets[1]])\n",
        "    return np.sqrt (((predictions - targets) ** 2).sum())\n",
        "\n",
        "# dict with dictionary of coordinates of 8 bushes along with center start location \n",
        "coord = {       \n",
        "    0: (350, 250),\n",
        "    1: (321, 321), \n",
        "    2: (250, 350),\n",
        "    3: (179, 321),\n",
        "    4: (150, 250),\n",
        "    5: (179, 179),\n",
        "    6: (250, 150),\n",
        "    7: (321, 179),\n",
        "    8: (250, 250)\n",
        "}\n",
        "\n",
        "# init pygames \n",
        "screen = pygame.display.set_mode([500, 500])\n",
        "font1 = pygame.font.SysFont('arial', 15)\n",
        "running = True\n",
        "# init gym env \n",
        "last_state = 8 \n",
        "\n",
        "while running:\n",
        "    # renders all the static environment substance to be present\n",
        "    r_0 = font1.render(str(round(env.get_curr_state()[2][0])), True, (0, 0, 255))\n",
        "    r_1 = font1.render(str(round(env.get_curr_state()[2][1])), True, (0, 0, 255))\n",
        "    r_2 = font1.render(str(round(env.get_curr_state()[2][2])), True, (0, 0, 255))\n",
        "    r_3 = font1.render(str(round(env.get_curr_state()[2][3])), True, (0, 0, 255))\n",
        "    r_4 = font1.render(str(round(env.get_curr_state()[2][4])), True, (0, 0, 255))\n",
        "    r_5 = font1.render(str(round(env.get_curr_state()[2][5])), True, (0, 0, 255))\n",
        "    r_6 = font1.render(str(round(env.get_curr_state()[2][6])), True, (0, 0, 255))\n",
        "    r_7 = font1.render(str(round(env.get_curr_state()[2][7])), True, (0, 0, 255))\n",
        "\n",
        "    if int(env.get_curr_state()[0])!=last_state:\n",
        "        r = int(rmse(coord[last_state],  coord[int(env.get_curr_state()[0])]))\n",
        "        initial_x = coord[last_state][0]\n",
        "        final_x = coord[int(env.get_curr_state()[0])][0]\n",
        "        initial_y = coord[last_state][1]\n",
        "        final_y = coord[int(env.get_curr_state()[0])][1]\n",
        "        rate_x = (final_x - initial_x)/r\n",
        "        rate_y = (final_y - initial_y)/r\n",
        "        i=0\n",
        "        while True:\n",
        "            screen.fill((255, 255, 255)) \n",
        "            pygame.draw.circle(screen, (0,128,0), coord[8], 1)\n",
        "            pygame.draw.circle(screen, (0,128,0), coord[0], 15) \n",
        "            pygame.draw.circle(screen, (0,128,0), coord[1], 15) \n",
        "            pygame.draw.circle(screen, (0,128,0), coord[2], 15)\n",
        "            pygame.draw.circle(screen, (0,128,0), coord[3], 15)\n",
        "            pygame.draw.circle(screen, (0,128,0), coord[4], 15)\n",
        "            pygame.draw.circle(screen, (0,128,0), coord[5], 15)\n",
        "            pygame.draw.circle(screen, (0,128,0), coord[6], 15)\n",
        "            pygame.draw.circle(screen, (0,128,0), coord[7], 15)\n",
        "            screen.blit(r_0, dest=(coord[0][0]+25,coord[0][1]-10))\n",
        "            screen.blit(r_1, dest=(coord[1][0]+15,coord[1][1]+15))\n",
        "            screen.blit(r_2, dest=(coord[2][0]-10,coord[2][1]+25))\n",
        "            screen.blit(r_3, dest=(coord[3][0]-25,coord[3][1]+25))\n",
        "            screen.blit(r_4, dest=(coord[4][0]-40,coord[4][1]-10))\n",
        "            screen.blit(r_5, dest=(coord[5][0]-35,coord[5][1]-35))\n",
        "            screen.blit(r_6, dest=(coord[6][0]-10,coord[6][1]-40))\n",
        "            screen.blit(r_7, dest=(coord[7][0]+25,coord[7][1]-25))\n",
        "            screen.blit(font1.render('Time elasped: '+ str(env.get_curr_state()[1])[:4] + '   Collected Rewards: '+ str(round(env.get_curr_state()[3])), True, (0, 0, 255)), dest=(130,30))\n",
        "            pygame.draw.circle(screen, (235,0,0), (coord[last_state][0]+i*rate_x,coord[last_state][1]+i*rate_y), 7)\n",
        "            pygame.display.flip()\n",
        "            time.sleep(0.01)\n",
        "            i+=1\n",
        "            if i==(r+1):\n",
        "                break \n",
        "            \n",
        "    else:\n",
        "        screen.fill((255, 255, 255)) \n",
        "        pygame.draw.circle(screen, (0,128,0), coord[8], 1)\n",
        "        pygame.draw.circle(screen, (0,128,0), coord[0], 15) \n",
        "        pygame.draw.circle(screen, (0,128,0), coord[1], 15) \n",
        "        pygame.draw.circle(screen, (0,128,0), coord[2], 15)\n",
        "        pygame.draw.circle(screen, (0,128,0), coord[3], 15)\n",
        "        pygame.draw.circle(screen, (0,128,0), coord[4], 15)\n",
        "        pygame.draw.circle(screen, (0,128,0), coord[5], 15)\n",
        "        pygame.draw.circle(screen, (0,128,0), coord[6], 15)\n",
        "        pygame.draw.circle(screen, (0,128,0), coord[7], 15)\n",
        "        pygame.draw.circle(screen, (235,0,0), coord[int(env.get_curr_state()[0])], 7)\n",
        "        \n",
        "    last_state = int(env.get_curr_state()[0])\n",
        "\n",
        "    \n",
        "    screen.blit(r_0, dest=(coord[0][0]+25,coord[0][1]-10))\n",
        "    screen.blit(r_1, dest=(coord[1][0]+15,coord[1][1]+15))\n",
        "    screen.blit(r_2, dest=(coord[2][0]-10,coord[2][1]+25))\n",
        "    screen.blit(r_3, dest=(coord[3][0]-25,coord[3][1]+25))\n",
        "    screen.blit(r_4, dest=(coord[4][0]-40,coord[4][1]-10))\n",
        "    screen.blit(r_5, dest=(coord[5][0]-35,coord[5][1]-35))\n",
        "    screen.blit(r_6, dest=(coord[6][0]-10,coord[6][1]-40))\n",
        "    screen.blit(r_7, dest=(coord[7][0]+25,coord[7][1]-25))\n",
        "    screen.blit(font1.render('Time elasped: '+ str(env.get_curr_state()[1])[:4] + '   Collected Rewards: '+ str(round(env.get_curr_state()[3])), True, (0, 0, 255)), dest=(130,30))\n",
        "    \n",
        "    pygame.display.flip()\n",
        "    \n",
        "    for event in pygame.event.get(): # waiting for game action \n",
        "        if event.type == pygame.QUIT: # if game window closes \n",
        "            running = False\n",
        "        if event.type == pygame.KEYDOWN:\n",
        "            action = -1 \n",
        "            if event.key == pygame.K_0:\n",
        "                action = 0 \n",
        "            elif event.key == pygame.K_1:\n",
        "                action = 1 \n",
        "            elif event.key == pygame.K_2:\n",
        "                action  =  2\n",
        "            elif event.key == pygame.K_3:\n",
        "                action = 3\n",
        "            elif event.key == pygame.K_4:\n",
        "                action = 4 \n",
        "            elif event.key == pygame.K_5:\n",
        "                action = 5 \n",
        "            elif event.key == pygame.K_6:\n",
        "                action = 6 \n",
        "            elif event.key == pygame.K_7:\n",
        "                action = 7 \n",
        "            else:\n",
        "                print(\"INVALID KEY\")\n",
        "            if action!=-1:\n",
        "                s_new, r, t, _ = env.step(action)\n",
        "    \n",
        "pygame.quit()"
      ],
      "execution_count": null,
      "outputs": []
    },
    {
      "cell_type": "code",
      "metadata": {
        "id": "NhlnbQgCYjQL"
      },
      "source": [
        ""
      ],
      "execution_count": null,
      "outputs": []
    }
  ]
}